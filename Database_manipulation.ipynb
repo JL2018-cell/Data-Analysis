{
 "cells": [
  {
   "cell_type": "code",
   "execution_count": 23,
   "id": "4596f357",
   "metadata": {},
   "outputs": [],
   "source": [
    "import os, pandas as pd\n",
    "from sqlalchemy import create_engine, Column, MetaData, text\n",
    "import getpass,time"
   ]
  },
  {
   "cell_type": "code",
   "execution_count": 24,
   "id": "2a900b01",
   "metadata": {
    "scrolled": true
   },
   "outputs": [
    {
     "name": "stdout",
     "output_type": "stream",
     "text": [
      "········\n",
      "········\n"
     ]
    }
   ],
   "source": [
    "user = getpass.getpass()\n",
    "password = getpass.getpass()"
   ]
  },
  {
   "cell_type": "code",
   "execution_count": 25,
   "id": "cdba4ccd",
   "metadata": {},
   "outputs": [],
   "source": [
    "def mysql_query(query,user=user, password=password, host='jarvis.workisboring.com', port=9030):\n",
    "    # check if port is in 9030, 19030, or 3306, 9005\n",
    "    # start time\n",
    "    start_time = time.time()\n",
    "    \n",
    "    if port in [9030, 19030, 3306,9004]:\n",
    "        engine = create_engine('mysql+pymysql://'+user+':'+password+'@'+host+':'+str(port))\n",
    "        #df = pd.read_sql(query, engine)\n",
    "        df = pd.read_sql_query(sql=text(query), con=engine.connect())\n",
    "        # end time\n",
    "        end_time = time.time()\n",
    "        # seconds\n",
    "        elapsed_time = end_time - start_time\n",
    "        print(f'Elapsed time: {elapsed_time} seconds')\n",
    "        return df    \n",
    "    else:\n",
    "        print('port is not in 9030, 19030, or 3306, please check')\n",
    "        return None"
   ]
  },
  {
   "cell_type": "markdown",
   "id": "c3708a03",
   "metadata": {},
   "source": [
    "# Q.2"
   ]
  },
  {
   "cell_type": "markdown",
   "id": "e8bba564",
   "metadata": {},
   "source": [
    "### How many observations does crsp.dsf have? How many columns?"
   ]
  },
  {
   "cell_type": "code",
   "execution_count": 43,
   "id": "f10a9955",
   "metadata": {
    "scrolled": true
   },
   "outputs": [
    {
     "name": "stdout",
     "output_type": "stream",
     "text": [
      "Elapsed time: 0.3326866626739502 seconds\n"
     ]
    },
    {
     "data": {
      "text/html": [
       "<div>\n",
       "<style scoped>\n",
       "    .dataframe tbody tr th:only-of-type {\n",
       "        vertical-align: middle;\n",
       "    }\n",
       "\n",
       "    .dataframe tbody tr th {\n",
       "        vertical-align: top;\n",
       "    }\n",
       "\n",
       "    .dataframe thead th {\n",
       "        text-align: right;\n",
       "    }\n",
       "</style>\n",
       "<table border=\"1\" class=\"dataframe\">\n",
       "  <thead>\n",
       "    <tr style=\"text-align: right;\">\n",
       "      <th></th>\n",
       "      <th>observations</th>\n",
       "    </tr>\n",
       "  </thead>\n",
       "  <tbody>\n",
       "    <tr>\n",
       "      <th>0</th>\n",
       "      <td>102905313</td>\n",
       "    </tr>\n",
       "  </tbody>\n",
       "</table>\n",
       "</div>"
      ],
      "text/plain": [
       "   observations\n",
       "0     102905313"
      ]
     },
     "execution_count": 43,
     "metadata": {},
     "output_type": "execute_result"
    }
   ],
   "source": [
    "# Number of observations\n",
    "query = 'select count(*) as observations from crsp.dsf'\n",
    "dsf_obs = mysql_query(query,user=user,password=password,port=19030) # Apache Doris\n",
    "dsf_obs"
   ]
  },
  {
   "cell_type": "code",
   "execution_count": 44,
   "id": "dc46546c",
   "metadata": {
    "scrolled": true
   },
   "outputs": [
    {
     "name": "stdout",
     "output_type": "stream",
     "text": [
      "Elapsed time: 3.183823823928833 seconds\n"
     ]
    },
    {
     "data": {
      "text/html": [
       "<div>\n",
       "<style scoped>\n",
       "    .dataframe tbody tr th:only-of-type {\n",
       "        vertical-align: middle;\n",
       "    }\n",
       "\n",
       "    .dataframe tbody tr th {\n",
       "        vertical-align: top;\n",
       "    }\n",
       "\n",
       "    .dataframe thead th {\n",
       "        text-align: right;\n",
       "    }\n",
       "</style>\n",
       "<table border=\"1\" class=\"dataframe\">\n",
       "  <thead>\n",
       "    <tr style=\"text-align: right;\">\n",
       "      <th></th>\n",
       "      <th>column_num</th>\n",
       "    </tr>\n",
       "  </thead>\n",
       "  <tbody>\n",
       "    <tr>\n",
       "      <th>0</th>\n",
       "      <td>20</td>\n",
       "    </tr>\n",
       "  </tbody>\n",
       "</table>\n",
       "</div>"
      ],
      "text/plain": [
       "   column_num\n",
       "0          20"
      ]
     },
     "execution_count": 44,
     "metadata": {},
     "output_type": "execute_result"
    }
   ],
   "source": [
    "# Number of columns\n",
    "query = \"SELECT COUNT(*) as column_num FROM information_schema.columns WHERE table_name = 'dsf';\"\n",
    "mysql_query(query,user=user,password=password,port=19030) # Apache Doris"
   ]
  },
  {
   "cell_type": "markdown",
   "id": "b98d1253",
   "metadata": {},
   "source": [
    "### What is the unit of observation?"
   ]
  },
  {
   "cell_type": "code",
   "execution_count": 45,
   "id": "f58363b8",
   "metadata": {},
   "outputs": [
    {
     "name": "stdout",
     "output_type": "stream",
     "text": [
      "Elapsed time: 3.0757153034210205 seconds\n"
     ]
    },
    {
     "data": {
      "text/html": [
       "<div>\n",
       "<style scoped>\n",
       "    .dataframe tbody tr th:only-of-type {\n",
       "        vertical-align: middle;\n",
       "    }\n",
       "\n",
       "    .dataframe tbody tr th {\n",
       "        vertical-align: top;\n",
       "    }\n",
       "\n",
       "    .dataframe thead th {\n",
       "        text-align: right;\n",
       "    }\n",
       "</style>\n",
       "<table border=\"1\" class=\"dataframe\">\n",
       "  <thead>\n",
       "    <tr style=\"text-align: right;\">\n",
       "      <th></th>\n",
       "      <th>column_name</th>\n",
       "    </tr>\n",
       "  </thead>\n",
       "  <tbody>\n",
       "    <tr>\n",
       "      <th>0</th>\n",
       "      <td>permno</td>\n",
       "    </tr>\n",
       "    <tr>\n",
       "      <th>1</th>\n",
       "      <td>date</td>\n",
       "    </tr>\n",
       "    <tr>\n",
       "      <th>2</th>\n",
       "      <td>cusip</td>\n",
       "    </tr>\n",
       "    <tr>\n",
       "      <th>3</th>\n",
       "      <td>permco</td>\n",
       "    </tr>\n",
       "    <tr>\n",
       "      <th>4</th>\n",
       "      <td>issuno</td>\n",
       "    </tr>\n",
       "    <tr>\n",
       "      <th>5</th>\n",
       "      <td>hexcd</td>\n",
       "    </tr>\n",
       "    <tr>\n",
       "      <th>6</th>\n",
       "      <td>hsiccd</td>\n",
       "    </tr>\n",
       "    <tr>\n",
       "      <th>7</th>\n",
       "      <td>bidlo</td>\n",
       "    </tr>\n",
       "    <tr>\n",
       "      <th>8</th>\n",
       "      <td>askhi</td>\n",
       "    </tr>\n",
       "    <tr>\n",
       "      <th>9</th>\n",
       "      <td>prc</td>\n",
       "    </tr>\n",
       "    <tr>\n",
       "      <th>10</th>\n",
       "      <td>vol</td>\n",
       "    </tr>\n",
       "    <tr>\n",
       "      <th>11</th>\n",
       "      <td>ret</td>\n",
       "    </tr>\n",
       "    <tr>\n",
       "      <th>12</th>\n",
       "      <td>bid</td>\n",
       "    </tr>\n",
       "    <tr>\n",
       "      <th>13</th>\n",
       "      <td>ask</td>\n",
       "    </tr>\n",
       "    <tr>\n",
       "      <th>14</th>\n",
       "      <td>shrout</td>\n",
       "    </tr>\n",
       "    <tr>\n",
       "      <th>15</th>\n",
       "      <td>cfacpr</td>\n",
       "    </tr>\n",
       "    <tr>\n",
       "      <th>16</th>\n",
       "      <td>cfacshr</td>\n",
       "    </tr>\n",
       "    <tr>\n",
       "      <th>17</th>\n",
       "      <td>openprc</td>\n",
       "    </tr>\n",
       "    <tr>\n",
       "      <th>18</th>\n",
       "      <td>numtrd</td>\n",
       "    </tr>\n",
       "    <tr>\n",
       "      <th>19</th>\n",
       "      <td>retx</td>\n",
       "    </tr>\n",
       "  </tbody>\n",
       "</table>\n",
       "</div>"
      ],
      "text/plain": [
       "   column_name\n",
       "0       permno\n",
       "1         date\n",
       "2        cusip\n",
       "3       permco\n",
       "4       issuno\n",
       "5        hexcd\n",
       "6       hsiccd\n",
       "7        bidlo\n",
       "8        askhi\n",
       "9          prc\n",
       "10         vol\n",
       "11         ret\n",
       "12         bid\n",
       "13         ask\n",
       "14      shrout\n",
       "15      cfacpr\n",
       "16     cfacshr\n",
       "17     openprc\n",
       "18      numtrd\n",
       "19        retx"
      ]
     },
     "execution_count": 45,
     "metadata": {},
     "output_type": "execute_result"
    }
   ],
   "source": [
    "# Find column names from crsp.dsf\n",
    "query = 'SELECT column_name FROM information_schema.columns WHERE table_name = \"dsf\";'\n",
    "dsf_columns = mysql_query(query,user=user,password=password,port=19030) # Apache Doris\n",
    "dsf_columns"
   ]
  },
  {
   "cell_type": "code",
   "execution_count": 46,
   "id": "a5cd0125",
   "metadata": {
    "scrolled": false
   },
   "outputs": [
    {
     "name": "stdout",
     "output_type": "stream",
     "text": [
      "Elapsed time: 2.9944143295288086 seconds\n"
     ]
    },
    {
     "data": {
      "text/html": [
       "<div>\n",
       "<style scoped>\n",
       "    .dataframe tbody tr th:only-of-type {\n",
       "        vertical-align: middle;\n",
       "    }\n",
       "\n",
       "    .dataframe tbody tr th {\n",
       "        vertical-align: top;\n",
       "    }\n",
       "\n",
       "    .dataframe thead th {\n",
       "        text-align: right;\n",
       "    }\n",
       "</style>\n",
       "<table border=\"1\" class=\"dataframe\">\n",
       "  <thead>\n",
       "    <tr style=\"text-align: right;\">\n",
       "      <th></th>\n",
       "      <th>column_name</th>\n",
       "    </tr>\n",
       "  </thead>\n",
       "  <tbody>\n",
       "    <tr>\n",
       "      <th>0</th>\n",
       "      <td>permno</td>\n",
       "    </tr>\n",
       "    <tr>\n",
       "      <th>1</th>\n",
       "      <td>namedt</td>\n",
       "    </tr>\n",
       "    <tr>\n",
       "      <th>2</th>\n",
       "      <td>nameendt</td>\n",
       "    </tr>\n",
       "    <tr>\n",
       "      <th>3</th>\n",
       "      <td>shrcd</td>\n",
       "    </tr>\n",
       "    <tr>\n",
       "      <th>4</th>\n",
       "      <td>exchcd</td>\n",
       "    </tr>\n",
       "    <tr>\n",
       "      <th>5</th>\n",
       "      <td>siccd</td>\n",
       "    </tr>\n",
       "    <tr>\n",
       "      <th>6</th>\n",
       "      <td>ncusip</td>\n",
       "    </tr>\n",
       "    <tr>\n",
       "      <th>7</th>\n",
       "      <td>ticker</td>\n",
       "    </tr>\n",
       "    <tr>\n",
       "      <th>8</th>\n",
       "      <td>comnam</td>\n",
       "    </tr>\n",
       "    <tr>\n",
       "      <th>9</th>\n",
       "      <td>shrcls</td>\n",
       "    </tr>\n",
       "    <tr>\n",
       "      <th>10</th>\n",
       "      <td>tsymbol</td>\n",
       "    </tr>\n",
       "    <tr>\n",
       "      <th>11</th>\n",
       "      <td>naics</td>\n",
       "    </tr>\n",
       "    <tr>\n",
       "      <th>12</th>\n",
       "      <td>primexch</td>\n",
       "    </tr>\n",
       "    <tr>\n",
       "      <th>13</th>\n",
       "      <td>trdstat</td>\n",
       "    </tr>\n",
       "    <tr>\n",
       "      <th>14</th>\n",
       "      <td>secstat</td>\n",
       "    </tr>\n",
       "    <tr>\n",
       "      <th>15</th>\n",
       "      <td>permco</td>\n",
       "    </tr>\n",
       "    <tr>\n",
       "      <th>16</th>\n",
       "      <td>compno</td>\n",
       "    </tr>\n",
       "    <tr>\n",
       "      <th>17</th>\n",
       "      <td>issuno</td>\n",
       "    </tr>\n",
       "    <tr>\n",
       "      <th>18</th>\n",
       "      <td>hexcd</td>\n",
       "    </tr>\n",
       "    <tr>\n",
       "      <th>19</th>\n",
       "      <td>hsiccd</td>\n",
       "    </tr>\n",
       "    <tr>\n",
       "      <th>20</th>\n",
       "      <td>cusip</td>\n",
       "    </tr>\n",
       "    <tr>\n",
       "      <th>21</th>\n",
       "      <td>start</td>\n",
       "    </tr>\n",
       "    <tr>\n",
       "      <th>22</th>\n",
       "      <td>end</td>\n",
       "    </tr>\n",
       "  </tbody>\n",
       "</table>\n",
       "</div>"
      ],
      "text/plain": [
       "   column_name\n",
       "0       permno\n",
       "1       namedt\n",
       "2     nameendt\n",
       "3        shrcd\n",
       "4       exchcd\n",
       "5        siccd\n",
       "6       ncusip\n",
       "7       ticker\n",
       "8       comnam\n",
       "9       shrcls\n",
       "10     tsymbol\n",
       "11       naics\n",
       "12    primexch\n",
       "13     trdstat\n",
       "14     secstat\n",
       "15      permco\n",
       "16      compno\n",
       "17      issuno\n",
       "18       hexcd\n",
       "19      hsiccd\n",
       "20       cusip\n",
       "21       start\n",
       "22         end"
      ]
     },
     "execution_count": 46,
     "metadata": {},
     "output_type": "execute_result"
    }
   ],
   "source": [
    "# Find column names from crsp.dsenames\n",
    "query = 'SELECT column_name FROM information_schema.columns WHERE table_name = \"dsenames\";'\n",
    "dsenames_columns = mysql_query(query,user=user,password=password,port=19030) # Apache Doris\n",
    "dsenames_columns"
   ]
  },
  {
   "cell_type": "markdown",
   "id": "87e0b455",
   "metadata": {},
   "source": [
    "# Join tables dsf and dsenames"
   ]
  },
  {
   "cell_type": "code",
   "execution_count": 47,
   "id": "6cb35675",
   "metadata": {},
   "outputs": [
    {
     "name": "stdout",
     "output_type": "stream",
     "text": [
      "Elapsed time: 0.18428826332092285 seconds\n"
     ]
    },
    {
     "data": {
      "text/html": [
       "<div>\n",
       "<style scoped>\n",
       "    .dataframe tbody tr th:only-of-type {\n",
       "        vertical-align: middle;\n",
       "    }\n",
       "\n",
       "    .dataframe tbody tr th {\n",
       "        vertical-align: top;\n",
       "    }\n",
       "\n",
       "    .dataframe thead th {\n",
       "        text-align: right;\n",
       "    }\n",
       "</style>\n",
       "<table border=\"1\" class=\"dataframe\">\n",
       "  <thead>\n",
       "    <tr style=\"text-align: right;\">\n",
       "      <th></th>\n",
       "      <th>count(*)</th>\n",
       "    </tr>\n",
       "  </thead>\n",
       "  <tbody>\n",
       "    <tr>\n",
       "      <th>0</th>\n",
       "      <td>340722893</td>\n",
       "    </tr>\n",
       "  </tbody>\n",
       "</table>\n",
       "</div>"
      ],
      "text/plain": [
       "    count(*)\n",
       "0  340722893"
      ]
     },
     "execution_count": 47,
     "metadata": {},
     "output_type": "execute_result"
    }
   ],
   "source": [
    "query = \"\"\"select count(*)\n",
    "           from \n",
    "              crsp.dsf as a \n",
    "              inner join \n",
    "              crsp.dsenames as b \n",
    "              using (cusip, permno, permco, hexcd, hsiccd, issuno)\n",
    "           where b.shrcd in (10,11);\"\"\"\n",
    "rows = mysql_query(query,user=user,password=password,port=19030) # Apache Doris\n",
    "rows"
   ]
  },
  {
   "cell_type": "markdown",
   "id": "4f7844aa",
   "metadata": {},
   "source": [
    "### What are the beginning and end of the sample? (Use joined table of dsf and dsenames)"
   ]
  },
  {
   "cell_type": "markdown",
   "id": "5d7b9a36",
   "metadata": {},
   "source": [
    "#### Beginning of sample"
   ]
  },
  {
   "cell_type": "code",
   "execution_count": 48,
   "id": "51c6520d",
   "metadata": {},
   "outputs": [
    {
     "name": "stdout",
     "output_type": "stream",
     "text": [
      "Elapsed time: 0.14819765090942383 seconds\n"
     ]
    },
    {
     "data": {
      "text/html": [
       "<div>\n",
       "<style scoped>\n",
       "    .dataframe tbody tr th:only-of-type {\n",
       "        vertical-align: middle;\n",
       "    }\n",
       "\n",
       "    .dataframe tbody tr th {\n",
       "        vertical-align: top;\n",
       "    }\n",
       "\n",
       "    .dataframe thead th {\n",
       "        text-align: right;\n",
       "    }\n",
       "</style>\n",
       "<table border=\"1\" class=\"dataframe\">\n",
       "  <thead>\n",
       "    <tr style=\"text-align: right;\">\n",
       "      <th></th>\n",
       "      <th>permno</th>\n",
       "      <th>date</th>\n",
       "      <th>cusip</th>\n",
       "      <th>permco</th>\n",
       "      <th>issuno</th>\n",
       "      <th>hexcd</th>\n",
       "      <th>hsiccd</th>\n",
       "      <th>bidlo</th>\n",
       "      <th>askhi</th>\n",
       "      <th>prc</th>\n",
       "      <th>...</th>\n",
       "      <th>trdstat</th>\n",
       "      <th>secstat</th>\n",
       "      <th>permco</th>\n",
       "      <th>compno</th>\n",
       "      <th>issuno</th>\n",
       "      <th>hexcd</th>\n",
       "      <th>hsiccd</th>\n",
       "      <th>cusip</th>\n",
       "      <th>start</th>\n",
       "      <th>end</th>\n",
       "    </tr>\n",
       "  </thead>\n",
       "  <tbody>\n",
       "    <tr>\n",
       "      <th>0</th>\n",
       "      <td>10000</td>\n",
       "      <td>1986-01-23</td>\n",
       "      <td>68391610</td>\n",
       "      <td>7952.0</td>\n",
       "      <td>10396.0</td>\n",
       "      <td>3.0</td>\n",
       "      <td>3990.0</td>\n",
       "      <td>3.625</td>\n",
       "      <td>3.875</td>\n",
       "      <td>-3.75</td>\n",
       "      <td>...</td>\n",
       "      <td>A</td>\n",
       "      <td>R</td>\n",
       "      <td>7952.0</td>\n",
       "      <td>60007905.0</td>\n",
       "      <td>10396.0</td>\n",
       "      <td>3.0</td>\n",
       "      <td>3990.0</td>\n",
       "      <td>68391610</td>\n",
       "      <td>1987-03-10</td>\n",
       "      <td>1987-06-11</td>\n",
       "    </tr>\n",
       "  </tbody>\n",
       "</table>\n",
       "<p>1 rows × 43 columns</p>\n",
       "</div>"
      ],
      "text/plain": [
       "   permno        date     cusip  permco   issuno  hexcd  hsiccd  bidlo  askhi  \\\n",
       "0   10000  1986-01-23  68391610  7952.0  10396.0    3.0  3990.0  3.625  3.875   \n",
       "\n",
       "    prc  ...  trdstat  secstat  permco      compno   issuno  hexcd  hsiccd  \\\n",
       "0 -3.75  ...        A        R  7952.0  60007905.0  10396.0    3.0  3990.0   \n",
       "\n",
       "      cusip       start         end  \n",
       "0  68391610  1987-03-10  1987-06-11  \n",
       "\n",
       "[1 rows x 43 columns]"
      ]
     },
     "execution_count": 48,
     "metadata": {},
     "output_type": "execute_result"
    }
   ],
   "source": [
    "query = \"\"\"select * \n",
    "           from \n",
    "              crsp.dsf as a\n",
    "              inner join\n",
    "              crsp.dsenames as b\n",
    "              using (cusip, permno, permco, hexcd, hsiccd, issuno)\n",
    "           where b.shrcd in (10,11)\n",
    "           limit 1;\"\"\"\n",
    "mysql_query(query,user=user,password=password,port=19030) # Apache Doris"
   ]
  },
  {
   "cell_type": "markdown",
   "id": "9f603fb2",
   "metadata": {},
   "source": [
    "#### End of sample"
   ]
  },
  {
   "cell_type": "code",
   "execution_count": 49,
   "id": "3623bc44",
   "metadata": {},
   "outputs": [
    {
     "name": "stdout",
     "output_type": "stream",
     "text": [
      "Elapsed time: 0.11193156242370605 seconds\n"
     ]
    },
    {
     "data": {
      "text/html": [
       "<div>\n",
       "<style scoped>\n",
       "    .dataframe tbody tr th:only-of-type {\n",
       "        vertical-align: middle;\n",
       "    }\n",
       "\n",
       "    .dataframe tbody tr th {\n",
       "        vertical-align: top;\n",
       "    }\n",
       "\n",
       "    .dataframe thead th {\n",
       "        text-align: right;\n",
       "    }\n",
       "</style>\n",
       "<table border=\"1\" class=\"dataframe\">\n",
       "  <thead>\n",
       "    <tr style=\"text-align: right;\">\n",
       "      <th></th>\n",
       "      <th>permno</th>\n",
       "      <th>date</th>\n",
       "      <th>cusip</th>\n",
       "      <th>permco</th>\n",
       "      <th>issuno</th>\n",
       "      <th>hexcd</th>\n",
       "      <th>hsiccd</th>\n",
       "      <th>bidlo</th>\n",
       "      <th>askhi</th>\n",
       "      <th>prc</th>\n",
       "      <th>...</th>\n",
       "      <th>trdstat</th>\n",
       "      <th>secstat</th>\n",
       "      <th>permco</th>\n",
       "      <th>compno</th>\n",
       "      <th>issuno</th>\n",
       "      <th>hexcd</th>\n",
       "      <th>hsiccd</th>\n",
       "      <th>cusip</th>\n",
       "      <th>start</th>\n",
       "      <th>end</th>\n",
       "    </tr>\n",
       "  </thead>\n",
       "  <tbody>\n",
       "    <tr>\n",
       "      <th>0</th>\n",
       "      <td>93405</td>\n",
       "      <td>2010-06-30</td>\n",
       "      <td>16890G20</td>\n",
       "      <td>53431.0</td>\n",
       "      <td>0.0</td>\n",
       "      <td>2.0</td>\n",
       "      <td>3674.0</td>\n",
       "      <td>2.81</td>\n",
       "      <td>2.95</td>\n",
       "      <td>2.87</td>\n",
       "      <td>...</td>\n",
       "      <td>A</td>\n",
       "      <td>R</td>\n",
       "      <td>53431.0</td>\n",
       "      <td>0.0</td>\n",
       "      <td>0.0</td>\n",
       "      <td>2.0</td>\n",
       "      <td>3674.0</td>\n",
       "      <td>16890G20</td>\n",
       "      <td>2010-06-18</td>\n",
       "      <td>2011-03-24</td>\n",
       "    </tr>\n",
       "  </tbody>\n",
       "</table>\n",
       "<p>1 rows × 43 columns</p>\n",
       "</div>"
      ],
      "text/plain": [
       "   permno        date     cusip   permco  issuno  hexcd  hsiccd  bidlo  askhi  \\\n",
       "0   93405  2010-06-30  16890G20  53431.0     0.0    2.0  3674.0   2.81   2.95   \n",
       "\n",
       "    prc  ...  trdstat  secstat   permco  compno  issuno  hexcd  hsiccd  \\\n",
       "0  2.87  ...        A        R  53431.0     0.0     0.0    2.0  3674.0   \n",
       "\n",
       "      cusip       start         end  \n",
       "0  16890G20  2010-06-18  2011-03-24  \n",
       "\n",
       "[1 rows x 43 columns]"
      ]
     },
     "execution_count": 49,
     "metadata": {},
     "output_type": "execute_result"
    }
   ],
   "source": [
    "query = \"\"\"select * \n",
    "           from \n",
    "              crsp.dsf as a \n",
    "              inner join \n",
    "              crsp.dsenames as b \n",
    "              using (cusip, permno, permco, hexcd, hsiccd, issuno) \n",
    "           where b.shrcd in (10,11)\n",
    "           limit %s, 1;\"\"\" % (rows.iloc[0, 0] -1)\n",
    "mysql_query(query,user=user,password=password,port=19030) # Apache Doris"
   ]
  },
  {
   "cell_type": "markdown",
   "id": "9ef450ba",
   "metadata": {},
   "source": [
    "### How many distinct dates are there? How many distinct stocks are there?"
   ]
  },
  {
   "cell_type": "markdown",
   "id": "e872daa8",
   "metadata": {},
   "source": [
    "#### Number of distinct dates in joined table"
   ]
  },
  {
   "cell_type": "code",
   "execution_count": 50,
   "id": "ed1be81a",
   "metadata": {},
   "outputs": [
    {
     "name": "stdout",
     "output_type": "stream",
     "text": [
      "Elapsed time: 0.12614846229553223 seconds\n"
     ]
    },
    {
     "data": {
      "text/html": [
       "<div>\n",
       "<style scoped>\n",
       "    .dataframe tbody tr th:only-of-type {\n",
       "        vertical-align: middle;\n",
       "    }\n",
       "\n",
       "    .dataframe tbody tr th {\n",
       "        vertical-align: top;\n",
       "    }\n",
       "\n",
       "    .dataframe thead th {\n",
       "        text-align: right;\n",
       "    }\n",
       "</style>\n",
       "<table border=\"1\" class=\"dataframe\">\n",
       "  <thead>\n",
       "    <tr style=\"text-align: right;\">\n",
       "      <th></th>\n",
       "      <th>number of distinct dates</th>\n",
       "    </tr>\n",
       "  </thead>\n",
       "  <tbody>\n",
       "    <tr>\n",
       "      <th>0</th>\n",
       "      <td>25549</td>\n",
       "    </tr>\n",
       "  </tbody>\n",
       "</table>\n",
       "</div>"
      ],
      "text/plain": [
       "   number of distinct dates\n",
       "0                     25549"
      ]
     },
     "execution_count": 50,
     "metadata": {},
     "output_type": "execute_result"
    }
   ],
   "source": [
    "query = \"\"\"SELECT \n",
    "              COUNT(DISTINCT DATE) AS \"number of distinct dates\" \n",
    "           FROM \n",
    "              crsp.dsf as a \n",
    "              inner join \n",
    "              (select * from crsp.dsenames where shrcd in (10, 11)) as b \n",
    "              using (cusip, permno, permco, hexcd, hsiccd, issuno);\"\"\"\n",
    "mysql_query(query,user=user,password=password,port=19030) # Apache Doris"
   ]
  },
  {
   "cell_type": "markdown",
   "id": "3757edaa",
   "metadata": {},
   "source": [
    "#### Number of distinct stocks in joined table"
   ]
  },
  {
   "cell_type": "code",
   "execution_count": 15,
   "id": "dbc2e7ef",
   "metadata": {
    "scrolled": true
   },
   "outputs": [
    {
     "name": "stdout",
     "output_type": "stream",
     "text": [
      "Elapsed time: 7.298705339431763 seconds\n"
     ]
    },
    {
     "data": {
      "text/html": [
       "<div>\n",
       "<style scoped>\n",
       "    .dataframe tbody tr th:only-of-type {\n",
       "        vertical-align: middle;\n",
       "    }\n",
       "\n",
       "    .dataframe tbody tr th {\n",
       "        vertical-align: top;\n",
       "    }\n",
       "\n",
       "    .dataframe thead th {\n",
       "        text-align: right;\n",
       "    }\n",
       "</style>\n",
       "<table border=\"1\" class=\"dataframe\">\n",
       "  <thead>\n",
       "    <tr style=\"text-align: right;\">\n",
       "      <th></th>\n",
       "      <th>number of distinct stocks</th>\n",
       "    </tr>\n",
       "  </thead>\n",
       "  <tbody>\n",
       "    <tr>\n",
       "      <th>0</th>\n",
       "      <td>20868</td>\n",
       "    </tr>\n",
       "  </tbody>\n",
       "</table>\n",
       "</div>"
      ],
      "text/plain": [
       "   number of distinct stocks\n",
       "0                      20868"
      ]
     },
     "execution_count": 15,
     "metadata": {},
     "output_type": "execute_result"
    }
   ],
   "source": [
    "query = \"\"\"SELECT \n",
    "              count(distinct a.permno) as \"number of distinct stocks\" \n",
    "           FROM \n",
    "              crsp.dsf as a \n",
    "              inner join \n",
    "              (select * from crsp.dsenames where shrcd in (10, 11)) as b \n",
    "              on (a.cusip=b.cusip and a.permno=b.permno \n",
    "                  and a.permco=b.permco \n",
    "                  and a.hexcd=b.hexcd \n",
    "                  and a.hsiccd=b.hsiccd \n",
    "                  and a.issuno=b.issuno);\"\"\"\n",
    "mysql_query(query,user=user,password=password,port=19030) # Apache Doris"
   ]
  },
  {
   "cell_type": "markdown",
   "id": "3153d159",
   "metadata": {},
   "source": [
    "### Find the biggest movers (largest price movement) on the latest trading data for the last day of 2022 (Use \"order by\")"
   ]
  },
  {
   "cell_type": "markdown",
   "id": "c1785c0c",
   "metadata": {},
   "source": [
    "### Find top 10 stocks with maximum price range in year 2022"
   ]
  },
  {
   "cell_type": "markdown",
   "id": "8c107d19",
   "metadata": {},
   "source": [
    "#### Approach 1: ORDER BY approach"
   ]
  },
  {
   "cell_type": "code",
   "execution_count": 44,
   "id": "9f91c756",
   "metadata": {},
   "outputs": [
    {
     "name": "stdout",
     "output_type": "stream",
     "text": [
      "Elapsed time: 0.11397457122802734 seconds\n"
     ]
    },
    {
     "data": {
      "text/html": [
       "<div>\n",
       "<style scoped>\n",
       "    .dataframe tbody tr th:only-of-type {\n",
       "        vertical-align: middle;\n",
       "    }\n",
       "\n",
       "    .dataframe tbody tr th {\n",
       "        vertical-align: top;\n",
       "    }\n",
       "\n",
       "    .dataframe thead th {\n",
       "        text-align: right;\n",
       "    }\n",
       "</style>\n",
       "<table border=\"1\" class=\"dataframe\">\n",
       "  <thead>\n",
       "    <tr style=\"text-align: right;\">\n",
       "      <th></th>\n",
       "      <th>permno</th>\n",
       "      <th>prc_range</th>\n",
       "    </tr>\n",
       "  </thead>\n",
       "  <tbody>\n",
       "    <tr>\n",
       "      <th>0</th>\n",
       "      <td>17778</td>\n",
       "      <td>140052.250000</td>\n",
       "    </tr>\n",
       "    <tr>\n",
       "      <th>1</th>\n",
       "      <td>84788</td>\n",
       "      <td>3326.270088</td>\n",
       "    </tr>\n",
       "    <tr>\n",
       "      <th>2</th>\n",
       "      <td>14542</td>\n",
       "      <td>2877.239983</td>\n",
       "    </tr>\n",
       "    <tr>\n",
       "      <th>3</th>\n",
       "      <td>90319</td>\n",
       "      <td>2876.570000</td>\n",
       "    </tr>\n",
       "    <tr>\n",
       "      <th>4</th>\n",
       "      <td>79785</td>\n",
       "      <td>2149.680176</td>\n",
       "    </tr>\n",
       "    <tr>\n",
       "      <th>5</th>\n",
       "      <td>20391</td>\n",
       "      <td>1715.820068</td>\n",
       "    </tr>\n",
       "    <tr>\n",
       "      <th>6</th>\n",
       "      <td>23204</td>\n",
       "      <td>1669.000000</td>\n",
       "    </tr>\n",
       "    <tr>\n",
       "      <th>7</th>\n",
       "      <td>17677</td>\n",
       "      <td>1610.979980</td>\n",
       "    </tr>\n",
       "    <tr>\n",
       "      <th>8</th>\n",
       "      <td>61508</td>\n",
       "      <td>1417.044983</td>\n",
       "    </tr>\n",
       "    <tr>\n",
       "      <th>9</th>\n",
       "      <td>15358</td>\n",
       "      <td>1337.470015</td>\n",
       "    </tr>\n",
       "  </tbody>\n",
       "</table>\n",
       "</div>"
      ],
      "text/plain": [
       "   permno      prc_range\n",
       "0   17778  140052.250000\n",
       "1   84788    3326.270088\n",
       "2   14542    2877.239983\n",
       "3   90319    2876.570000\n",
       "4   79785    2149.680176\n",
       "5   20391    1715.820068\n",
       "6   23204    1669.000000\n",
       "7   17677    1610.979980\n",
       "8   61508    1417.044983\n",
       "9   15358    1337.470015"
      ]
     },
     "execution_count": 44,
     "metadata": {},
     "output_type": "execute_result"
    }
   ],
   "source": [
    "query = \"\"\"SELECT \n",
    "              permno, \n",
    "              MAX(prc) - MIN(prc) AS prc_range \n",
    "           FROM \n",
    "              crsp.dsf\n",
    "           WHERE DATE LIKE \"2022%\" GROUP BY permno ORDER BY prc_range DESC LIMIT 10;\"\"\"\n",
    "mysql_query(query,user=user,password=password,port=19030) # Apache Doris"
   ]
  },
  {
   "cell_type": "markdown",
   "id": "27f379c5",
   "metadata": {},
   "source": [
    "#### Approach 2: SUBQUERY approach"
   ]
  },
  {
   "cell_type": "code",
   "execution_count": 45,
   "id": "81dfc10c",
   "metadata": {},
   "outputs": [
    {
     "name": "stdout",
     "output_type": "stream",
     "text": [
      "Elapsed time: 0.09200048446655273 seconds\n"
     ]
    },
    {
     "data": {
      "text/html": [
       "<div>\n",
       "<style scoped>\n",
       "    .dataframe tbody tr th:only-of-type {\n",
       "        vertical-align: middle;\n",
       "    }\n",
       "\n",
       "    .dataframe tbody tr th {\n",
       "        vertical-align: top;\n",
       "    }\n",
       "\n",
       "    .dataframe thead th {\n",
       "        text-align: right;\n",
       "    }\n",
       "</style>\n",
       "<table border=\"1\" class=\"dataframe\">\n",
       "  <thead>\n",
       "    <tr style=\"text-align: right;\">\n",
       "      <th></th>\n",
       "      <th>permno</th>\n",
       "      <th>prc_range</th>\n",
       "    </tr>\n",
       "  </thead>\n",
       "  <tbody>\n",
       "    <tr>\n",
       "      <th>0</th>\n",
       "      <td>17778</td>\n",
       "      <td>140052.250000</td>\n",
       "    </tr>\n",
       "    <tr>\n",
       "      <th>1</th>\n",
       "      <td>84788</td>\n",
       "      <td>3326.270088</td>\n",
       "    </tr>\n",
       "    <tr>\n",
       "      <th>2</th>\n",
       "      <td>14542</td>\n",
       "      <td>2877.239983</td>\n",
       "    </tr>\n",
       "    <tr>\n",
       "      <th>3</th>\n",
       "      <td>90319</td>\n",
       "      <td>2876.570000</td>\n",
       "    </tr>\n",
       "    <tr>\n",
       "      <th>4</th>\n",
       "      <td>79785</td>\n",
       "      <td>2149.680176</td>\n",
       "    </tr>\n",
       "    <tr>\n",
       "      <th>5</th>\n",
       "      <td>20391</td>\n",
       "      <td>1715.820068</td>\n",
       "    </tr>\n",
       "    <tr>\n",
       "      <th>6</th>\n",
       "      <td>23204</td>\n",
       "      <td>1669.000000</td>\n",
       "    </tr>\n",
       "    <tr>\n",
       "      <th>7</th>\n",
       "      <td>17677</td>\n",
       "      <td>1610.979980</td>\n",
       "    </tr>\n",
       "    <tr>\n",
       "      <th>8</th>\n",
       "      <td>61508</td>\n",
       "      <td>1417.044983</td>\n",
       "    </tr>\n",
       "    <tr>\n",
       "      <th>9</th>\n",
       "      <td>15358</td>\n",
       "      <td>1337.470015</td>\n",
       "    </tr>\n",
       "  </tbody>\n",
       "</table>\n",
       "</div>"
      ],
      "text/plain": [
       "   permno      prc_range\n",
       "0   17778  140052.250000\n",
       "1   84788    3326.270088\n",
       "2   14542    2877.239983\n",
       "3   90319    2876.570000\n",
       "4   79785    2149.680176\n",
       "5   20391    1715.820068\n",
       "6   23204    1669.000000\n",
       "7   17677    1610.979980\n",
       "8   61508    1417.044983\n",
       "9   15358    1337.470015"
      ]
     },
     "execution_count": 45,
     "metadata": {},
     "output_type": "execute_result"
    }
   ],
   "source": [
    "query = \"\"\"SELECT \n",
    "              permno, \n",
    "              MAX(prc) - MIN(prc) AS prc_range \n",
    "           FROM \n",
    "              crsp.dsf \n",
    "           where \n",
    "              date IN (SELECT date FROM crsp.dsf WHERE DATE LIKE \"2022%\")\n",
    "           GROUP BY permno \n",
    "           ORDER BY prc_range DESC \n",
    "           LIMIT 10;\"\"\"\n",
    "mysql_query(query,user=user,password=password,port=19030) # Apache Doris"
   ]
  },
  {
   "cell_type": "markdown",
   "id": "4a25b88d",
   "metadata": {},
   "source": [
    "# Bonus (3 points): Follow the portfolio sort methodology to divide, every month, stocks into deciles based on the Amihud illiquidity factor"
   ]
  },
  {
   "cell_type": "code",
   "execution_count": 18,
   "id": "9fb0d22f",
   "metadata": {},
   "outputs": [
    {
     "name": "stdout",
     "output_type": "stream",
     "text": [
      "Elapsed time: 28.749762535095215 seconds\n"
     ]
    }
   ],
   "source": [
    "query = \"\"\"SELECT\n",
    "              `date`,\n",
    "              ceiling(10 * ROW_NUMBER() OVER (PARTITION BY `year_month` ORDER BY `signal` DESC) / COUNT() OVER (PARTITION BY `year_month`)) AS `bin`,\n",
    "              sum(lag_ret) over (PARTITION BY `year_month` ORDER BY `date`) AS avg_ret,\n",
    "              MIN(lag_ret) over (PARTITION BY `year_month`) - MAX(lag_ret) over (PARTITION BY `year_month`) AS st_reversal_factor\n",
    "           from\n",
    "              (SELECT \n",
    "                 permno, `year_month`, `date`, lag_ret,\n",
    "                 abs(lag_ret) / (lag_prc * lag_vol) AS `signal`\n",
    "              FROM \n",
    "                 (select \n",
    "                    a.permno, a.`date`, a.ret, a.vol, a.prc, \n",
    "                    concat(YEAR(`date`), '-', MONTH(`date`)) AS `year_month`,\n",
    "                    ABS(lag(a.prc, 1, NULL) over (PARTITION BY a.permno ORDER BY a.`date`)) AS lag_prc,\n",
    "                    ABS(lag(a.ret, 1, NULL) over (PARTITION BY a.permno ORDER BY a.`date`)) AS lag_ret,\n",
    "                    ABS(lag(a.vol, 1, NULL) over (PARTITION BY a.permno ORDER BY a.`date`)) AS lag_vol\n",
    "                 FROM \n",
    "                    (SELECT a.`date`, a.ret, a.vol, a.prc, a.permno\n",
    "                    FROM\n",
    "                       (SELECT `date`, ret, vol, prc, permno from crsp.dsf \n",
    "                       WHERE hexcd IN (1,3,4) and vol is not NULL AND ret is NOT NULL AND prc IS NOT NULL AND vol != 0 order by RAND() LIMIT 600000) a\n",
    "                       inner JOIN\n",
    "                       (SELECT permno, namedt, nameendt from crsp.dsenames WHERE hexcd in (1,3,4) and shrcd IN (10,11) order by rand() LIMIT 600000) b\n",
    "                       ON a.permno=b.permno \n",
    "                    where (a.`date` BETWEEN b.namedt AND b.nameendt)\n",
    "                    ) a\n",
    "                 ) src\n",
    "              where (lag_prc is not null and lag_ret is not null and lag_vol is not null)\n",
    "              ) src2\n",
    "           WHERE src2.`signal` IS NOT NULL;\"\"\"\n",
    "table = mysql_query(query,user=user,password=password,port=19030) # Apache Doris"
   ]
  },
  {
   "cell_type": "code",
   "execution_count": 20,
   "id": "0e608bb6",
   "metadata": {
    "scrolled": false
   },
   "outputs": [
    {
     "data": {
      "text/html": [
       "<div>\n",
       "<style scoped>\n",
       "    .dataframe tbody tr th:only-of-type {\n",
       "        vertical-align: middle;\n",
       "    }\n",
       "\n",
       "    .dataframe tbody tr th {\n",
       "        vertical-align: top;\n",
       "    }\n",
       "\n",
       "    .dataframe thead th {\n",
       "        text-align: right;\n",
       "    }\n",
       "</style>\n",
       "<table border=\"1\" class=\"dataframe\">\n",
       "  <thead>\n",
       "    <tr style=\"text-align: right;\">\n",
       "      <th></th>\n",
       "      <th>avg_ret</th>\n",
       "      <th>st_reversal_factor</th>\n",
       "    </tr>\n",
       "    <tr>\n",
       "      <th>bin</th>\n",
       "      <th></th>\n",
       "      <th></th>\n",
       "    </tr>\n",
       "  </thead>\n",
       "  <tbody>\n",
       "    <tr>\n",
       "      <th>1.0</th>\n",
       "      <td>7.520505</td>\n",
       "      <td>-0.378739</td>\n",
       "    </tr>\n",
       "    <tr>\n",
       "      <th>2.0</th>\n",
       "      <td>7.475657</td>\n",
       "      <td>-0.377216</td>\n",
       "    </tr>\n",
       "    <tr>\n",
       "      <th>3.0</th>\n",
       "      <td>7.439057</td>\n",
       "      <td>-0.377560</td>\n",
       "    </tr>\n",
       "    <tr>\n",
       "      <th>4.0</th>\n",
       "      <td>7.506403</td>\n",
       "      <td>-0.377333</td>\n",
       "    </tr>\n",
       "    <tr>\n",
       "      <th>5.0</th>\n",
       "      <td>7.502908</td>\n",
       "      <td>-0.376959</td>\n",
       "    </tr>\n",
       "    <tr>\n",
       "      <th>6.0</th>\n",
       "      <td>7.516598</td>\n",
       "      <td>-0.377774</td>\n",
       "    </tr>\n",
       "    <tr>\n",
       "      <th>7.0</th>\n",
       "      <td>7.484964</td>\n",
       "      <td>-0.377674</td>\n",
       "    </tr>\n",
       "    <tr>\n",
       "      <th>8.0</th>\n",
       "      <td>7.518136</td>\n",
       "      <td>-0.377220</td>\n",
       "    </tr>\n",
       "    <tr>\n",
       "      <th>9.0</th>\n",
       "      <td>7.510331</td>\n",
       "      <td>-0.377556</td>\n",
       "    </tr>\n",
       "    <tr>\n",
       "      <th>10.0</th>\n",
       "      <td>7.286860</td>\n",
       "      <td>-0.376169</td>\n",
       "    </tr>\n",
       "  </tbody>\n",
       "</table>\n",
       "</div>"
      ],
      "text/plain": [
       "       avg_ret  st_reversal_factor\n",
       "bin                               \n",
       "1.0   7.520505           -0.378739\n",
       "2.0   7.475657           -0.377216\n",
       "3.0   7.439057           -0.377560\n",
       "4.0   7.506403           -0.377333\n",
       "5.0   7.502908           -0.376959\n",
       "6.0   7.516598           -0.377774\n",
       "7.0   7.484964           -0.377674\n",
       "8.0   7.518136           -0.377220\n",
       "9.0   7.510331           -0.377556\n",
       "10.0  7.286860           -0.376169"
      ]
     },
     "execution_count": 20,
     "metadata": {},
     "output_type": "execute_result"
    }
   ],
   "source": [
    "table.set_index('date').groupby('bin').mean()"
   ]
  },
  {
   "cell_type": "markdown",
   "id": "14fae02b",
   "metadata": {},
   "source": [
    "## Q.3"
   ]
  },
  {
   "cell_type": "markdown",
   "id": "6d490616",
   "metadata": {},
   "source": [
    "### What is the manager number for Bill Ackman’s hedge fund Greenlight?"
   ]
  },
  {
   "cell_type": "code",
   "execution_count": 26,
   "id": "3e0364c5",
   "metadata": {
    "scrolled": true
   },
   "outputs": [
    {
     "name": "stdout",
     "output_type": "stream",
     "text": [
      "Elapsed time: 0.33928346633911133 seconds\n"
     ]
    },
    {
     "data": {
      "text/html": [
       "<div>\n",
       "<style scoped>\n",
       "    .dataframe tbody tr th:only-of-type {\n",
       "        vertical-align: middle;\n",
       "    }\n",
       "\n",
       "    .dataframe tbody tr th {\n",
       "        vertical-align: top;\n",
       "    }\n",
       "\n",
       "    .dataframe thead th {\n",
       "        text-align: right;\n",
       "    }\n",
       "</style>\n",
       "<table border=\"1\" class=\"dataframe\">\n",
       "  <thead>\n",
       "    <tr style=\"text-align: right;\">\n",
       "      <th></th>\n",
       "      <th>mgrno</th>\n",
       "    </tr>\n",
       "  </thead>\n",
       "  <tbody>\n",
       "    <tr>\n",
       "      <th>0</th>\n",
       "      <td>42315</td>\n",
       "    </tr>\n",
       "  </tbody>\n",
       "</table>\n",
       "</div>"
      ],
      "text/plain": [
       "   mgrno\n",
       "0  42315"
      ]
     },
     "execution_count": 26,
     "metadata": {},
     "output_type": "execute_result"
    }
   ],
   "source": [
    "query = 'SELECT distinct mgrno FROM instown.file1 WHERE mgrname LIKE \"GREENLIGHT%\"'\n",
    "mgrno = mysql_query(query,user=user,password=password,port=19030) # Apache Doris\n",
    "mgrno"
   ]
  },
  {
   "cell_type": "markdown",
   "id": "74dc5f22",
   "metadata": {},
   "source": [
    "### How percentage of stocks does he hold, on average, per quarter, what number of stocks are new pick-ups, unchanged, completely sold, and partially adjusted(either sold or bought shares but not disposed of)? (can ignore stock split)"
   ]
  },
  {
   "cell_type": "markdown",
   "id": "c9f5124e",
   "metadata": {},
   "source": [
    "# note: instown.file4 record changes in assets hold by magrno"
   ]
  },
  {
   "cell_type": "markdown",
   "id": "c7c861ea",
   "metadata": {},
   "source": [
    "#### (a) percentage of stock hold on average per quarter"
   ]
  },
  {
   "cell_type": "code",
   "execution_count": 33,
   "id": "aa678d92",
   "metadata": {
    "scrolled": true
   },
   "outputs": [
    {
     "name": "stdout",
     "output_type": "stream",
     "text": [
      "Elapsed time: 0.09194159507751465 seconds\n"
     ]
    }
   ],
   "source": [
    "# Find total number of shares hold in entire periods.\n",
    "query = \"\"\"SELECT \n",
    "              SUM(shares) AS sum_shares \n",
    "           FROM \n",
    "              instown.file3 \n",
    "           WHERE \n",
    "              mgrno=%s\"\"\" % mgrno.iloc[0, 0]\n",
    "shr_sum = mysql_query(query,user=user,password=password,port=19030) # Apache Doris"
   ]
  },
  {
   "cell_type": "code",
   "execution_count": 35,
   "id": "627c07b7",
   "metadata": {},
   "outputs": [
    {
     "name": "stdout",
     "output_type": "stream",
     "text": [
      "Elapsed time: 0.09693717956542969 seconds\n"
     ]
    },
    {
     "data": {
      "text/html": [
       "<div>\n",
       "<style scoped>\n",
       "    .dataframe tbody tr th:only-of-type {\n",
       "        vertical-align: middle;\n",
       "    }\n",
       "\n",
       "    .dataframe tbody tr th {\n",
       "        vertical-align: top;\n",
       "    }\n",
       "\n",
       "    .dataframe thead th {\n",
       "        text-align: right;\n",
       "    }\n",
       "</style>\n",
       "<table border=\"1\" class=\"dataframe\">\n",
       "  <thead>\n",
       "    <tr style=\"text-align: right;\">\n",
       "      <th></th>\n",
       "      <th>fdate</th>\n",
       "      <th>avg_shr</th>\n",
       "    </tr>\n",
       "  </thead>\n",
       "  <tbody>\n",
       "    <tr>\n",
       "      <th>0</th>\n",
       "      <td>2002-03-31</td>\n",
       "      <td>0.004494</td>\n",
       "    </tr>\n",
       "    <tr>\n",
       "      <th>1</th>\n",
       "      <td>2007-12-31</td>\n",
       "      <td>0.009121</td>\n",
       "    </tr>\n",
       "    <tr>\n",
       "      <th>2</th>\n",
       "      <td>2008-06-30</td>\n",
       "      <td>0.011205</td>\n",
       "    </tr>\n",
       "    <tr>\n",
       "      <th>3</th>\n",
       "      <td>2003-03-31</td>\n",
       "      <td>0.007342</td>\n",
       "    </tr>\n",
       "    <tr>\n",
       "      <th>4</th>\n",
       "      <td>2011-12-31</td>\n",
       "      <td>0.023046</td>\n",
       "    </tr>\n",
       "    <tr>\n",
       "      <th>...</th>\n",
       "      <td>...</td>\n",
       "      <td>...</td>\n",
       "    </tr>\n",
       "    <tr>\n",
       "      <th>88</th>\n",
       "      <td>2016-06-30</td>\n",
       "      <td>0.018013</td>\n",
       "    </tr>\n",
       "    <tr>\n",
       "      <th>89</th>\n",
       "      <td>2016-09-30</td>\n",
       "      <td>0.015967</td>\n",
       "    </tr>\n",
       "    <tr>\n",
       "      <th>90</th>\n",
       "      <td>2018-12-31</td>\n",
       "      <td>0.008789</td>\n",
       "    </tr>\n",
       "    <tr>\n",
       "      <th>91</th>\n",
       "      <td>2019-12-31</td>\n",
       "      <td>0.006932</td>\n",
       "    </tr>\n",
       "    <tr>\n",
       "      <th>92</th>\n",
       "      <td>2020-12-31</td>\n",
       "      <td>0.006181</td>\n",
       "    </tr>\n",
       "  </tbody>\n",
       "</table>\n",
       "<p>93 rows × 2 columns</p>\n",
       "</div>"
      ],
      "text/plain": [
       "         fdate   avg_shr\n",
       "0   2002-03-31  0.004494\n",
       "1   2007-12-31  0.009121\n",
       "2   2008-06-30  0.011205\n",
       "3   2003-03-31  0.007342\n",
       "4   2011-12-31  0.023046\n",
       "..         ...       ...\n",
       "88  2016-06-30  0.018013\n",
       "89  2016-09-30  0.015967\n",
       "90  2018-12-31  0.008789\n",
       "91  2019-12-31  0.006932\n",
       "92  2020-12-31  0.006181\n",
       "\n",
       "[93 rows x 2 columns]"
      ]
     },
     "execution_count": 35,
     "metadata": {},
     "output_type": "execute_result"
    }
   ],
   "source": [
    "query = \"\"\"SELECT \n",
    "              fdate,\n",
    "              sum(shares) / %s AS avg_shr\n",
    "           from instown.file3 \n",
    "           WHERE mgrno = %s \n",
    "           GROUP BY fdate\"\"\" % (shr_sum.iloc[0, 0], mgrno.iloc[0, 0])\n",
    "mysql_query(query,user=user,password=password,port=19030) # Apache Doris"
   ]
  },
  {
   "cell_type": "markdown",
   "id": "1dab6b1e",
   "metadata": {},
   "source": [
    "#### (b) Find percentage of new pick-ups, unchanged, completely sold, and partially adjusted stocks."
   ]
  },
  {
   "cell_type": "markdown",
   "id": "25d6aab5",
   "metadata": {},
   "source": [
    "#### New pick-up time is the quarter when the stock first has record.\n",
    "#### Soldout time is a quarter after the last record of the stock.\n",
    "#### Unchanged stock has unchanged holdings compared with last quarter.\n",
    "#### partially adjusted stock has change in holding not equal to 0 compared with last quarter."
   ]
  },
  {
   "cell_type": "code",
   "execution_count": 37,
   "id": "1748c4ba",
   "metadata": {},
   "outputs": [
    {
     "name": "stdout",
     "output_type": "stream",
     "text": [
      "Elapsed time: 0.13951683044433594 seconds\n"
     ]
    }
   ],
   "source": [
    "query = \"\"\"SELECT \n",
    "              fdate, SUM(soldOut) / SUM(shares) AS soldOut_prop, \n",
    "              sum(case when chg_shares IS NULL then shares ELSE 0 end) / sum(shares) AS newPickUp_prop,\n",
    "              sum(case when (chg_shares > 0 OR chg_shares < 0) then shares ELSE 0 end) / sum(shares) AS partialyAdj_prop,\n",
    "              (sum(case when (chg_shares = 0) then shares ELSE 0 END) / sum(shares)) - (SUM(soldOut) / SUM(shares)) AS unchanged_prop\n",
    "           from\n",
    "              (select \n",
    "                fdate, \n",
    "              \tcusip,\n",
    "              \tshares,\n",
    "              \tlag(shares, 1, null) OVER (PARTITION BY cusip ORDER BY fdate) AS lag_shares,\n",
    "                /* null = new pickup; =0:unchanged, !=0:partially adjusted */\n",
    "              \tshares - lag(shares, 1, null) OVER (PARTITION BY cusip ORDER BY fdate) AS chg_shares,\n",
    "              \tendOrNot * LAG(shares, 1, 0) over (PARTITION BY cusip ORDER BY fdate) AS soldOut /* soldout */\n",
    "              from\n",
    "                 (SELECT \n",
    "              \t    fdate, cusip, shares, 0 AS endOrNot \n",
    "              \t FROM instown.file3 where mgrno=%s\n",
    "                 UNION all\n",
    "                 SELECT\n",
    "                       date_add(fdate, interval 3 MONTH) as fdate, cusip, shares, endOrNot\n",
    "                    FROM\n",
    "                       (SELECT \n",
    "                          fdate, cusip, shares,\n",
    "                          case when row_number() OVER (PARTITION BY cusip order by fdate) = COUNT(fdate) OVER (PARTITION BY cusip) \n",
    "                          then 1 ELSE 0 end AS endOrNot\n",
    "                          FROM instown.file3 WHERE mgrno=%s ORDER BY cusip, fdate) a\n",
    "                       WHERE endOrNot=1) j\n",
    "              ) num\n",
    "           GROUP BY fdate\"\"\" % (mgrno.iloc[0, 0], mgrno.iloc[0, 0])\n",
    "props = mysql_query(query,user=user,password=password,port=19030) # Apache Doris"
   ]
  },
  {
   "cell_type": "markdown",
   "id": "c107aab6",
   "metadata": {},
   "source": [
    "#### Shows that sum of weights = 1 in every quarter."
   ]
  },
  {
   "cell_type": "code",
   "execution_count": 40,
   "id": "592ad5b4",
   "metadata": {
    "scrolled": false
   },
   "outputs": [
    {
     "data": {
      "text/plain": [
       "<matplotlib.axes._subplots.AxesSubplot at 0x1fc850e9070>"
      ]
     },
     "execution_count": 40,
     "metadata": {},
     "output_type": "execute_result"
    },
    {
     "data": {
      "image/png": "[encoded data removed]",
      "text/plain": [
       "<Figure size 720x504 with 1 Axes>"
      ]
     },
     "metadata": {
      "needs_background": "light"
     },
     "output_type": "display_data"
    }
   ],
   "source": [
    "props.set_index('fdate').sum(axis=1).plot(figsize=(10,7))"
   ]
  },
  {
   "cell_type": "markdown",
   "id": "317120bd",
   "metadata": {},
   "source": [
    "# What is the average market beta, market cap, volatility of Ackman’s portfolio versus the average investor over the same time period? "
   ]
  },
  {
   "cell_type": "markdown",
   "id": "4195ed28",
   "metadata": {},
   "source": [
    "#### Ackman’s portfolio"
   ]
  },
  {
   "cell_type": "code",
   "execution_count": 27,
   "id": "0c9dd253",
   "metadata": {
    "scrolled": true
   },
   "outputs": [
    {
     "name": "stdout",
     "output_type": "stream",
     "text": [
      "Elapsed time: 0.1349174976348877 seconds\n"
     ]
    }
   ],
   "source": [
    "query = \"\"\"SELECT \n",
    "               `names_`.`year`,\n",
    "               sum(shares * mcap) / sum(shares) AS avg_mcap,\n",
    "               sum(shares * beta_mktrf) / sum(shares) AS avg_beta,\n",
    "               sum(shares * volatility) / sum(shares) AS avg_volatility\n",
    "            FROM\n",
    "            (SELECT * from hw.hw1_stock_characteristics) AS nums\n",
    "            INNER join\n",
    "            (SELECT \n",
    "               a.`year` AS `year`, a.cusip, permno, shares\n",
    "            FROM\n",
    "               (select YEAR(fdate) AS `year`, cusip, shares from instown.file3 where mgrno=%s) a\n",
    "               INNER JOIN \n",
    "               (select namedt, cusip, permno from crsp.dsenames) b\n",
    "               ON a.cusip=b.cusip) `names_`\n",
    "            ON `names_`.`year`=nums.`year` AND `names_`.permno=nums.permno\n",
    "            GROUP BY `year` ORDER BY `year`\"\"\" % mgrno.iloc[0, 0]\n",
    "ackman = mysql_query(query,user=user,password=password,port=19030) # Apache Doris"
   ]
  },
  {
   "cell_type": "markdown",
   "id": "5030f047",
   "metadata": {},
   "source": [
    "#### Average investor's portfolio, assume he/she invested according to table \"hw1_stock_characteristics\" from database \"hw\"."
   ]
  },
  {
   "cell_type": "code",
   "execution_count": 28,
   "id": "d4909008",
   "metadata": {},
   "outputs": [
    {
     "name": "stdout",
     "output_type": "stream",
     "text": [
      "Elapsed time: 0.10096883773803711 seconds\n"
     ]
    }
   ],
   "source": [
    "query = \"\"\"SELECT \n",
    "              `year`,\n",
    "              AVG(mcap) AS avg_mcap,\n",
    "              AVG(beta_mktrf) AS avg_beta,\n",
    "              AVG(volatility) AS avg_volatility \n",
    "           FROM hw.hw1_stock_characteristics GROUP BY `year`;\"\"\"\n",
    "avg_ivtor = mysql_query(query,user=user,password=password,port=19030) # Apache Doris"
   ]
  },
  {
   "cell_type": "markdown",
   "id": "e084d712",
   "metadata": {},
   "source": [
    "#### Outperformance/Underperformance of Ackman's portfolio compared with average investor's portfolio\n",
    "#### Measured by: performance metric of Ackman's portfolio - performance metric of average investor's portfolio."
   ]
  },
  {
   "cell_type": "code",
   "execution_count": 40,
   "id": "7c203704",
   "metadata": {
    "scrolled": false
   },
   "outputs": [
    {
     "data": {
      "image/png": "[encoded data removed]",
      "text/plain": [
       "<Figure size 720x504 with 1 Axes>"
      ]
     },
     "metadata": {
      "needs_background": "light"
     },
     "output_type": "display_data"
    }
   ],
   "source": [
    "cmp = ackman.set_index('year').sort_index().subtract(avg_ivtor.set_index('year').sort_index()).dropna()\n",
    "cmp.plot(y=['avg_volatility'], figsize=(10,7)).grid(axis='y')"
   ]
  },
  {
   "cell_type": "code",
   "execution_count": 41,
   "id": "71de22d7",
   "metadata": {},
   "outputs": [
    {
     "data": {
      "image/png": "[encoded data removed]",
      "text/plain": [
       "<Figure size 720x504 with 1 Axes>"
      ]
     },
     "metadata": {
      "needs_background": "light"
     },
     "output_type": "display_data"
    }
   ],
   "source": [
    "cmp.plot(y=['avg_beta'], figsize=(10,7)).grid(axis='y')"
   ]
  },
  {
   "cell_type": "code",
   "execution_count": 42,
   "id": "b382f6a2",
   "metadata": {},
   "outputs": [
    {
     "data": {
      "image/png": "[encoded data removed]",
      "text/plain": [
       "<Figure size 720x504 with 1 Axes>"
      ]
     },
     "metadata": {
      "needs_background": "light"
     },
     "output_type": "display_data"
    }
   ],
   "source": [
    "cmp.plot(y=['avg_mcap'], figsize=(10,7)).grid(axis='y')"
   ]
  },
  {
   "cell_type": "markdown",
   "id": "2ae9efa9",
   "metadata": {},
   "source": [
    "# Plot Bill Ackman’s fund-level AUM over time using data assuming that the end of quarter price from crsp.msf (you’ll notice that instown.file2 has some weird price data), and the shares in instown in file3 "
   ]
  },
  {
   "cell_type": "code",
   "execution_count": 43,
   "id": "de954135",
   "metadata": {},
   "outputs": [
    {
     "name": "stdout",
     "output_type": "stream",
     "text": [
      "Elapsed time: 35.890512466430664 seconds\n"
     ]
    }
   ],
   "source": [
    "query = \"\"\"SELECT \n",
    "               b.date, sum(a.shares*b.prc) as aum \n",
    "            FROM\n",
    "               (SELECT fdate, cusip, shares from instown.file3 WHERE mgrno=%s) a\n",
    "               INNER JOIN \n",
    "               (SELECT cusip, DATE, prc from crsp.msf) b \n",
    "               ON (a.cusip=b.cusip AND a.fdate=b.date)\n",
    "            GROUP BY DATE ORDER BY date\"\"\" % mgrno.iloc[0, 0]\n",
    "aum = mysql_query(query,user=user,password=password,port=3306) # Apache Doris"
   ]
  },
  {
   "cell_type": "code",
   "execution_count": 44,
   "id": "c1262772",
   "metadata": {},
   "outputs": [
    {
     "data": {
      "text/plain": [
       "<matplotlib.axes._subplots.AxesSubplot at 0x1fc84fba520>"
      ]
     },
     "execution_count": 44,
     "metadata": {},
     "output_type": "execute_result"
    },
    {
     "data": {
      "image/png": "[encoded data removed]",
      "text/plain": [
       "<Figure size 720x504 with 1 Axes>"
      ]
     },
     "metadata": {
      "needs_background": "light"
     },
     "output_type": "display_data"
    }
   ],
   "source": [
    "aum.plot(x='DATE', y='aum', figsize=(10,7), logy=True)"
   ]
  },
  {
   "cell_type": "markdown",
   "id": "92c43d77",
   "metadata": {},
   "source": [
    "# Extra credit (2 points): Assuming that Bill Ackman only trades on the last day of the quarter end (thus, holding the stock to the end of the next quarter in full), calculate his portfolio return. Calculate the cumulative P&L curve of Bill Ackman."
   ]
  },
  {
   "cell_type": "code",
   "execution_count": 45,
   "id": "98ffe8a3",
   "metadata": {},
   "outputs": [
    {
     "name": "stdout",
     "output_type": "stream",
     "text": [
      "Elapsed time: 0.09238767623901367 seconds\n"
     ]
    }
   ],
   "source": [
    "query = \"\"\"SELECT\n",
    "              fdate, sum(shares * ret) AS shares_ret\n",
    "           from\n",
    "              (SELECT \n",
    "           \t   a.fdate, a.cusip, a.shares, b.ret\n",
    "              from\n",
    "                 (SELECT fdate, cusip, shares FROM instown.file3 WHERE mgrno=%s) a\n",
    "                 INNER JOIN\n",
    "                 (SELECT DATE(`date`) AS `date`, cusip, ret FROM crsp.msf WHERE ret IS NOT null) b\n",
    "              \tON a.fdate=b.`date`) j\n",
    "           GROUP BY fdate;\"\"\" % mgrno.iloc[0, 0]\n",
    "pnl = mysql_query(query,user=user,password=password,port=19030) # Apache Doris"
   ]
  },
  {
   "cell_type": "code",
   "execution_count": 51,
   "id": "fa502299",
   "metadata": {},
   "outputs": [
    {
     "data": {
      "text/plain": [
       "<matplotlib.axes._subplots.AxesSubplot at 0x1fc85575880>"
      ]
     },
     "execution_count": 51,
     "metadata": {},
     "output_type": "execute_result"
    },
    {
     "data": {
      "image/png": "[encoded data removed]",
      "text/plain": [
       "<Figure size 720x504 with 1 Axes>"
      ]
     },
     "metadata": {
      "needs_background": "light"
     },
     "output_type": "display_data"
    }
   ],
   "source": [
    "pnl.set_index('fdate').cumsum().plot(figsize=(10,7))"
   ]
  },
  {
   "cell_type": "code",
   "execution_count": null,
   "id": "2e653828",
   "metadata": {},
   "outputs": [],
   "source": []
  }
 ],
 "metadata": {
  "kernelspec": {
   "display_name": "Python 3",
   "language": "python",
   "name": "python3"
  },
  "language_info": {
   "codemirror_mode": {
    "name": "ipython",
    "version": 3
   },
   "file_extension": ".py",
   "mimetype": "text/x-python",
   "name": "python",
   "nbconvert_exporter": "python",
   "pygments_lexer": "ipython3",
   "version": "3.8.6"
  }
 },
 "nbformat": 4,
 "nbformat_minor": 5
}
