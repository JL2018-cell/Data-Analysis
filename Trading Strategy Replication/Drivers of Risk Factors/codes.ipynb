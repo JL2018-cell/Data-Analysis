{
 "cells": [
  {
   "cell_type": "markdown",
   "id": "4723637b",
   "metadata": {},
   "source": [
    "# Replicate paper with ShenZhen Stock Exchange data"
   ]
  },
  {
   "cell_type": "code",
   "execution_count": 1,
   "id": "b4dd1cc5",
   "metadata": {},
   "outputs": [],
   "source": [
    "import os, pandas as pd\n",
    "from sqlalchemy import create_engine, Column, MetaData, text, engine\n",
    "import getpass, datetime, time\n",
    "import statsmodels.formula.api as smf\n",
    "import matplotlib.pyplot as plt"
   ]
  },
  {
   "cell_type": "code",
   "execution_count": 2,
   "id": "6e899d1d",
   "metadata": {},
   "outputs": [
    {
     "name": "stdout",
     "output_type": "stream",
     "text": [
      "········\n",
      "········\n"
     ]
    }
   ],
   "source": [
    "user = getpass.getpass()\n",
    "password = getpass.getpass()"
   ]
  },
  {
   "cell_type": "code",
   "execution_count": 3,
   "id": "a33f0100",
   "metadata": {},
   "outputs": [],
   "source": [
    "def mysql_query(query,user=user, password=password, host='localhost', port=3306):\n",
    "    # check if port is in 9030, 19030, or 3306, 9005\n",
    "    # start time\n",
    "    start_time = time.time()\n",
    "    \n",
    "    if port in [3306]:\n",
    "        engine = create_engine('mysql+pymysql://'+user+':'+password+'@'+host+':'+str(port))\n",
    "        df = pd.read_sql_query(sql=text(query), con=engine.connect())\n",
    "        # end time\n",
    "        end_time = time.time()\n",
    "        # seconds\n",
    "        elapsed_time = end_time - start_time\n",
    "        print(f'Elapsed time: {elapsed_time} seconds')\n",
    "        return df    \n",
    "    else:\n",
    "        print('port is not in 3306, please check')\n",
    "        return None"
   ]
  },
  {
   "cell_type": "markdown",
   "id": "6d4779f4",
   "metadata": {},
   "source": [
    "# Define some functions to do regression and plotting dataframes."
   ]
  },
  {
   "cell_type": "code",
   "execution_count": 5,
   "id": "14428112",
   "metadata": {},
   "outputs": [],
   "source": [
    "round_sig = lambda f,p: str(('%.' + str(p) + 'e') % float(f))\n",
    "sig_num = 2\n",
    "\n",
    "def regression_res(formula, data, name, exhibit = True):\n",
    "    fit = smf.ols(formula, data = data).fit()\n",
    "    if exhibit:\n",
    "        res = fit.params.astype(str)\n",
    "        for i in range(res.shape[0]):\n",
    "            if fit.pvalues.iloc[i] < 0.01:\n",
    "                res.iloc[i] = round_sig(res.iloc[i], sig_num) + \"***\"\n",
    "            elif fit.pvalues.iloc[i] < 0.05:\n",
    "                res.iloc[i] = round_sig(res.iloc[i], sig_num) + \"**\"\n",
    "            elif fit.pvalues.iloc[i] < 0.10:\n",
    "                res.iloc[i] = round_sig(res.iloc[i], sig_num) + \"*\"\n",
    "            else:\n",
    "                res.iloc[i] = round_sig(res.iloc[i], sig_num) + \"\"\n",
    "            res.iloc[i] += \"(%s)\" % round_sig(str(fit.HC0_se.iloc[i]), sig_num)\n",
    "        res['num of obs'] = int(fit.nobs)\n",
    "        res['adj. R sq.'] = fit.rsquared_adj\n",
    "    else:\n",
    "        res = fit.params\n",
    "    res.name = name\n",
    "    return res"
   ]
  },
  {
   "cell_type": "code",
   "execution_count": 6,
   "id": "4fdbe854",
   "metadata": {},
   "outputs": [],
   "source": [
    "def plot_df(df, title):\n",
    "    return df.style.set_caption(\n",
    "        title\n",
    "    ).set_table_styles(\n",
    "        [\n",
    "            {'selector': 'caption', \n",
    "             'props': 'caption-side: top; font-size: 2em; text-align: center;'\n",
    "            }\n",
    "        ], \n",
    "        overwrite=False\n",
    "    )"
   ]
  },
  {
   "cell_type": "markdown",
   "id": "ab3f55bf",
   "metadata": {},
   "source": [
    "# Replicate table 1"
   ]
  },
  {
   "cell_type": "code",
   "execution_count": 7,
   "id": "25e84c03",
   "metadata": {},
   "outputs": [
    {
     "name": "stdout",
     "output_type": "stream",
     "text": [
      "Elapsed time: 8.312730312347412 seconds\n"
     ]
    }
   ],
   "source": [
    "query = \"\"\" select \n",
    "                year(date_time) as `year`, \n",
    "                count(tic) as `Num of stocks`, \n",
    "                avg(totalCapital) as avg_AUM \n",
    "            from 7035_prj.sz_trading_data\n",
    "            group by year(date_time) \n",
    "            order by year(date_time) \"\"\"\n",
    "df1 = mysql_query(query,user=user,password=password,port=3306)"
   ]
  },
  {
   "cell_type": "code",
   "execution_count": 8,
   "id": "7141aec8",
   "metadata": {},
   "outputs": [
    {
     "data": {
      "text/html": [
       "<div>\n",
       "<style scoped>\n",
       "    .dataframe tbody tr th:only-of-type {\n",
       "        vertical-align: middle;\n",
       "    }\n",
       "\n",
       "    .dataframe tbody tr th {\n",
       "        vertical-align: top;\n",
       "    }\n",
       "\n",
       "    .dataframe thead th {\n",
       "        text-align: right;\n",
       "    }\n",
       "</style>\n",
       "<table border=\"1\" class=\"dataframe\">\n",
       "  <thead>\n",
       "    <tr style=\"text-align: right;\">\n",
       "      <th></th>\n",
       "      <th>year</th>\n",
       "      <th>Num of stocks</th>\n",
       "      <th>avg_AUM</th>\n",
       "    </tr>\n",
       "  </thead>\n",
       "  <tbody>\n",
       "    <tr>\n",
       "      <th>0</th>\n",
       "      <td>2014</td>\n",
       "      <td>2704</td>\n",
       "      <td>9.774363e+09</td>\n",
       "    </tr>\n",
       "    <tr>\n",
       "      <th>1</th>\n",
       "      <td>2015</td>\n",
       "      <td>228681</td>\n",
       "      <td>1.417150e+10</td>\n",
       "    </tr>\n",
       "    <tr>\n",
       "      <th>2</th>\n",
       "      <td>2016</td>\n",
       "      <td>238442</td>\n",
       "      <td>1.379028e+10</td>\n",
       "    </tr>\n",
       "    <tr>\n",
       "      <th>3</th>\n",
       "      <td>2017</td>\n",
       "      <td>261452</td>\n",
       "      <td>1.432278e+10</td>\n",
       "    </tr>\n",
       "    <tr>\n",
       "      <th>4</th>\n",
       "      <td>2018</td>\n",
       "      <td>276339</td>\n",
       "      <td>1.254548e+10</td>\n",
       "    </tr>\n",
       "  </tbody>\n",
       "</table>\n",
       "</div>"
      ],
      "text/plain": [
       "   year  Num of stocks       avg_AUM\n",
       "0  2014           2704  9.774363e+09\n",
       "1  2015         228681  1.417150e+10\n",
       "2  2016         238442  1.379028e+10\n",
       "3  2017         261452  1.432278e+10\n",
       "4  2018         276339  1.254548e+10"
      ]
     },
     "execution_count": 8,
     "metadata": {},
     "output_type": "execute_result"
    }
   ],
   "source": [
    "df1.head()"
   ]
  },
  {
   "cell_type": "code",
   "execution_count": 9,
   "id": "c61af957",
   "metadata": {},
   "outputs": [],
   "source": [
    "df1.to_parquet('table1_descriptiveStat.parquet')"
   ]
  },
  {
   "cell_type": "code",
   "execution_count": 10,
   "id": "64df7e48",
   "metadata": {},
   "outputs": [
    {
     "name": "stdout",
     "output_type": "stream",
     "text": [
      "Elapsed time: 206.37497115135193 seconds\n"
     ]
    }
   ],
   "source": [
    "query = \"\"\" select \n",
    "                `year`, AVG(`FIT`) AS `avg_FIT`, `decile`\n",
    "            from\n",
    "                (select \n",
    "                    year(date_time) as `year`, `FIT`,\n",
    "                    CEILING(ROW_NUMBER() OVER (PARTITION BY YEAR(`date_time`) ORDER BY `FIT` asc) / COUNT(*) OVER (PARTITION BY YEAR(`date_time`)) * 3) AS decile\n",
    "                from\n",
    "                    (select\n",
    "                        date_time, tic,\n",
    "                        lag_totalShares * money / lag_sum_totalShares as `FIT`\n",
    "                    from\n",
    "                        (select \n",
    "                            date_time, tic, money, \n",
    "                            lag(totalShares) over (partition by `tic` order by date_time) as lag_totalShares\n",
    "                        from 7035_prj.sz_trading_data) a\n",
    "                        join\n",
    "                        (select\n",
    "                            `year`, sum(lag_totalShares) as lag_sum_totalShares\n",
    "                        from\n",
    "                            (select \n",
    "                                year(date_time) as `year`, \n",
    "                                lag(totalShares) over (partition by `tic` order by date_time asc) as lag_totalShares\n",
    "                            from \n",
    "                                7035_prj.sz_trading_data\n",
    "                            ) b_\n",
    "                        group by `year`\n",
    "                        ) b\n",
    "                        on b.`year` = year(a.date_time)\n",
    "                    where lag_totalShares is not null and lag_sum_totalShares is not null\n",
    "                    ) c\n",
    "                ) d\n",
    "            GROUP BY `year`, `decile`\n",
    "            ORDER BY `year`, `decile`; \"\"\"\n",
    "df2 = mysql_query(query,user=user,password=password,port=3306)"
   ]
  },
  {
   "cell_type": "code",
   "execution_count": 11,
   "id": "6a613de4",
   "metadata": {},
   "outputs": [
    {
     "data": {
      "text/html": [
       "<div>\n",
       "<style scoped>\n",
       "    .dataframe tbody tr th:only-of-type {\n",
       "        vertical-align: middle;\n",
       "    }\n",
       "\n",
       "    .dataframe tbody tr th {\n",
       "        vertical-align: top;\n",
       "    }\n",
       "\n",
       "    .dataframe thead th {\n",
       "        text-align: right;\n",
       "    }\n",
       "</style>\n",
       "<table border=\"1\" class=\"dataframe\">\n",
       "  <thead>\n",
       "    <tr style=\"text-align: right;\">\n",
       "      <th></th>\n",
       "      <th>year</th>\n",
       "      <th>avg_FIT</th>\n",
       "      <th>decile</th>\n",
       "    </tr>\n",
       "  </thead>\n",
       "  <tbody>\n",
       "    <tr>\n",
       "      <th>0</th>\n",
       "      <td>2014</td>\n",
       "      <td>3503.511008</td>\n",
       "      <td>1.0</td>\n",
       "    </tr>\n",
       "    <tr>\n",
       "      <th>1</th>\n",
       "      <td>2014</td>\n",
       "      <td>20767.711104</td>\n",
       "      <td>2.0</td>\n",
       "    </tr>\n",
       "    <tr>\n",
       "      <th>2</th>\n",
       "      <td>2014</td>\n",
       "      <td>938233.855541</td>\n",
       "      <td>3.0</td>\n",
       "    </tr>\n",
       "    <tr>\n",
       "      <th>3</th>\n",
       "      <td>2015</td>\n",
       "      <td>61.691083</td>\n",
       "      <td>1.0</td>\n",
       "    </tr>\n",
       "    <tr>\n",
       "      <th>4</th>\n",
       "      <td>2015</td>\n",
       "      <td>478.445838</td>\n",
       "      <td>2.0</td>\n",
       "    </tr>\n",
       "  </tbody>\n",
       "</table>\n",
       "</div>"
      ],
      "text/plain": [
       "   year        avg_FIT  decile\n",
       "0  2014    3503.511008     1.0\n",
       "1  2014   20767.711104     2.0\n",
       "2  2014  938233.855541     3.0\n",
       "3  2015      61.691083     1.0\n",
       "4  2015     478.445838     2.0"
      ]
     },
     "execution_count": 11,
     "metadata": {},
     "output_type": "execute_result"
    }
   ],
   "source": [
    "df2.head()"
   ]
  },
  {
   "cell_type": "code",
   "execution_count": 12,
   "id": "b209ac1e",
   "metadata": {},
   "outputs": [],
   "source": [
    "df2.to_parquet('table1_FITDeciles.parquet')"
   ]
  },
  {
   "cell_type": "code",
   "execution_count": 13,
   "id": "c707cf1f",
   "metadata": {},
   "outputs": [
    {
     "data": {
      "text/html": [
       "<style type=\"text/css\">\n",
       "#T_2377a caption {\n",
       "  caption-side: top;\n",
       "  font-size: 2em;\n",
       "  text-align: center;\n",
       "}\n",
       "</style>\n",
       "<table id=\"T_2377a\">\n",
       "  <caption>Table 1</caption>\n",
       "  <thead>\n",
       "    <tr>\n",
       "      <th class=\"blank level0\" >&nbsp;</th>\n",
       "      <th id=\"T_2377a_level0_col0\" class=\"col_heading level0 col0\" >Num of stocks</th>\n",
       "      <th id=\"T_2377a_level0_col1\" class=\"col_heading level0 col1\" >avg_AUM</th>\n",
       "      <th id=\"T_2377a_level0_col2\" class=\"col_heading level0 col2\" >FIT_decile_1.0</th>\n",
       "      <th id=\"T_2377a_level0_col3\" class=\"col_heading level0 col3\" >FIT_decile_2.0</th>\n",
       "      <th id=\"T_2377a_level0_col4\" class=\"col_heading level0 col4\" >FIT_decile_3.0</th>\n",
       "    </tr>\n",
       "    <tr>\n",
       "      <th class=\"index_name level0\" >year</th>\n",
       "      <th class=\"blank col0\" >&nbsp;</th>\n",
       "      <th class=\"blank col1\" >&nbsp;</th>\n",
       "      <th class=\"blank col2\" >&nbsp;</th>\n",
       "      <th class=\"blank col3\" >&nbsp;</th>\n",
       "      <th class=\"blank col4\" >&nbsp;</th>\n",
       "    </tr>\n",
       "  </thead>\n",
       "  <tbody>\n",
       "    <tr>\n",
       "      <th id=\"T_2377a_level0_row0\" class=\"row_heading level0 row0\" >2014</th>\n",
       "      <td id=\"T_2377a_row0_col0\" class=\"data row0 col0\" >2704</td>\n",
       "      <td id=\"T_2377a_row0_col1\" class=\"data row0 col1\" >9774362818.047337</td>\n",
       "      <td id=\"T_2377a_row0_col2\" class=\"data row0 col2\" >3503.511008</td>\n",
       "      <td id=\"T_2377a_row0_col3\" class=\"data row0 col3\" >20767.711104</td>\n",
       "      <td id=\"T_2377a_row0_col4\" class=\"data row0 col4\" >938233.855541</td>\n",
       "    </tr>\n",
       "    <tr>\n",
       "      <th id=\"T_2377a_level0_row1\" class=\"row_heading level0 row1\" >2015</th>\n",
       "      <td id=\"T_2377a_row1_col0\" class=\"data row1 col0\" >228681</td>\n",
       "      <td id=\"T_2377a_row1_col1\" class=\"data row1 col1\" >14171501213.349600</td>\n",
       "      <td id=\"T_2377a_row1_col2\" class=\"data row1 col2\" >61.691083</td>\n",
       "      <td id=\"T_2377a_row1_col3\" class=\"data row1 col3\" >478.445838</td>\n",
       "      <td id=\"T_2377a_row1_col4\" class=\"data row1 col4\" >10153.282230</td>\n",
       "    </tr>\n",
       "    <tr>\n",
       "      <th id=\"T_2377a_level0_row2\" class=\"row_heading level0 row2\" >2016</th>\n",
       "      <td id=\"T_2377a_row2_col0\" class=\"data row2 col0\" >238442</td>\n",
       "      <td id=\"T_2377a_row2_col1\" class=\"data row2 col1\" >13790283653.077059</td>\n",
       "      <td id=\"T_2377a_row2_col2\" class=\"data row2 col2\" >68.204455</td>\n",
       "      <td id=\"T_2377a_row2_col3\" class=\"data row2 col3\" >293.963148</td>\n",
       "      <td id=\"T_2377a_row2_col4\" class=\"data row2 col4\" >3273.971147</td>\n",
       "    </tr>\n",
       "    <tr>\n",
       "      <th id=\"T_2377a_level0_row3\" class=\"row_heading level0 row3\" >2017</th>\n",
       "      <td id=\"T_2377a_row3_col0\" class=\"data row3 col0\" >261452</td>\n",
       "      <td id=\"T_2377a_row3_col1\" class=\"data row3 col1\" >14322781282.560471</td>\n",
       "      <td id=\"T_2377a_row3_col2\" class=\"data row3 col2\" >32.784505</td>\n",
       "      <td id=\"T_2377a_row3_col3\" class=\"data row3 col3\" >164.279295</td>\n",
       "      <td id=\"T_2377a_row3_col4\" class=\"data row3 col4\" >3768.565727</td>\n",
       "    </tr>\n",
       "    <tr>\n",
       "      <th id=\"T_2377a_level0_row4\" class=\"row_heading level0 row4\" >2018</th>\n",
       "      <td id=\"T_2377a_row4_col0\" class=\"data row4 col0\" >276339</td>\n",
       "      <td id=\"T_2377a_row4_col1\" class=\"data row4 col1\" >12545479978.207926</td>\n",
       "      <td id=\"T_2377a_row4_col2\" class=\"data row4 col2\" >18.755661</td>\n",
       "      <td id=\"T_2377a_row4_col3\" class=\"data row4 col3\" >103.244750</td>\n",
       "      <td id=\"T_2377a_row4_col4\" class=\"data row4 col4\" >2855.281026</td>\n",
       "    </tr>\n",
       "    <tr>\n",
       "      <th id=\"T_2377a_level0_row5\" class=\"row_heading level0 row5\" >2019</th>\n",
       "      <td id=\"T_2377a_row5_col0\" class=\"data row5 col0\" >287160</td>\n",
       "      <td id=\"T_2377a_row5_col1\" class=\"data row5 col1\" >13246488234.047220</td>\n",
       "      <td id=\"T_2377a_row5_col2\" class=\"data row5 col2\" >27.027236</td>\n",
       "      <td id=\"T_2377a_row5_col3\" class=\"data row5 col3\" >147.056282</td>\n",
       "      <td id=\"T_2377a_row5_col4\" class=\"data row5 col4\" >3707.106066</td>\n",
       "    </tr>\n",
       "    <tr>\n",
       "      <th id=\"T_2377a_level0_row6\" class=\"row_heading level0 row6\" >2020</th>\n",
       "      <td id=\"T_2377a_row6_col0\" class=\"data row6 col0\" >296368</td>\n",
       "      <td id=\"T_2377a_row6_col1\" class=\"data row6 col1\" >18038044123.312908</td>\n",
       "      <td id=\"T_2377a_row6_col2\" class=\"data row6 col2\" >38.549958</td>\n",
       "      <td id=\"T_2377a_row6_col3\" class=\"data row6 col3\" >231.866565</td>\n",
       "      <td id=\"T_2377a_row6_col4\" class=\"data row6 col4\" >5594.865935</td>\n",
       "    </tr>\n",
       "    <tr>\n",
       "      <th id=\"T_2377a_level0_row7\" class=\"row_heading level0 row7\" >2021</th>\n",
       "      <td id=\"T_2377a_row7_col0\" class=\"data row7 col0\" >311086</td>\n",
       "      <td id=\"T_2377a_row7_col1\" class=\"data row7 col1\" >22852390183.878414</td>\n",
       "      <td id=\"T_2377a_row7_col2\" class=\"data row7 col2\" >33.530826</td>\n",
       "      <td id=\"T_2377a_row7_col3\" class=\"data row7 col3\" >223.910787</td>\n",
       "      <td id=\"T_2377a_row7_col4\" class=\"data row7 col4\" >6312.415541</td>\n",
       "    </tr>\n",
       "    <tr>\n",
       "      <th id=\"T_2377a_level0_row8\" class=\"row_heading level0 row8\" >2022</th>\n",
       "      <td id=\"T_2377a_row8_col0\" class=\"data row8 col0\" >320942</td>\n",
       "      <td id=\"T_2377a_row8_col1\" class=\"data row8 col1\" >20053049949.984734</td>\n",
       "      <td id=\"T_2377a_row8_col2\" class=\"data row8 col2\" >41.803710</td>\n",
       "      <td id=\"T_2377a_row8_col3\" class=\"data row8 col3\" >221.023200</td>\n",
       "      <td id=\"T_2377a_row8_col4\" class=\"data row8 col4\" >3970.081983</td>\n",
       "    </tr>\n",
       "    <tr>\n",
       "      <th id=\"T_2377a_level0_row9\" class=\"row_heading level0 row9\" >2023</th>\n",
       "      <td id=\"T_2377a_row9_col0\" class=\"data row9 col0\" >50628</td>\n",
       "      <td id=\"T_2377a_row9_col1\" class=\"data row9 col1\" >23518993169.668957</td>\n",
       "      <td id=\"T_2377a_row9_col2\" class=\"data row9 col2\" >333.113017</td>\n",
       "      <td id=\"T_2377a_row9_col3\" class=\"data row9 col3\" >1533.418634</td>\n",
       "      <td id=\"T_2377a_row9_col4\" class=\"data row9 col4\" >23282.428218</td>\n",
       "    </tr>\n",
       "  </tbody>\n",
       "</table>\n"
      ],
      "text/plain": [
       "<pandas.io.formats.style.Styler at 0x19bf4801040>"
      ]
     },
     "execution_count": 13,
     "metadata": {},
     "output_type": "execute_result"
    }
   ],
   "source": [
    "df1 = pd.read_parquet('table1_descriptiveStat.parquet')\n",
    "df2 = pd.read_parquet('table1_FITDeciles.parquet')\n",
    "plot_df(df1\n",
    "        .set_index('year')\n",
    "        .merge(df2.pivot(index = 'year', columns = 'decile', values = 'avg_FIT'\n",
    "                        ).rename(columns = lambda x: 'FIT_decile_%s' %x),\n",
    "               left_index = True, right_index = True),\n",
    "        'Table 1'\n",
    "       )"
   ]
  },
  {
   "cell_type": "markdown",
   "id": "45d5c465",
   "metadata": {},
   "source": [
    "# Replicate table 2"
   ]
  },
  {
   "cell_type": "code",
   "execution_count": 62,
   "id": "74068bfe",
   "metadata": {},
   "outputs": [],
   "source": [
    "query = \"\"\" \n",
    "select\n",
    "    *\n",
    "from\n",
    "    (SELECT \n",
    "        date_time, tic, \n",
    "        totalCapital / lag_totalCapital - 1 AS `ret`,\n",
    "        money as flow,\n",
    "        lag(money, 1) over (partition by tic order by date_time asc) as flow_lag1,\n",
    "        lag(money, 2) over (partition by tic order by date_time asc) as flow_lag2,\n",
    "        lag(money, 3) over (partition by tic order by date_time asc) as flow_lag3,\n",
    "        lag(money, 4) over (partition by tic order by date_time asc) as flow_lag4,\n",
    "        lag(money, 5) over (partition by tic order by date_time asc) as flow_lag5,\n",
    "        lag(money, 6) over (partition by tic order by date_time asc) as flow_lag6,\n",
    "        lag(money, 7) over (partition by tic order by date_time asc) as flow_lag7,\n",
    "        lag(money, 8) over (partition by tic order by date_time asc) as flow_lag8,\n",
    "        lag(money, 9) over (partition by tic order by date_time asc) as flow_lag9,\n",
    "        lag(money, 10) over (partition by tic order by date_time asc) as flow_lag10,\n",
    "        lag(money, 11) over (partition by tic order by date_time asc) as flow_lag11,\n",
    "        lag(money, 12) over (partition by tic order by date_time asc) as flow_lag12\n",
    "    FROM \n",
    "        (SELECT date_time, tic, money, totalCapital, LAG(totalCapital) over (PARTITION BY tic ORDER BY date_time asc) AS lag_totalCapital,\n",
    "         %s\n",
    "         FROM 7035_prj.sz_trading_data\n",
    "        ) a\n",
    "    where lag_totalCapital is not null %s\n",
    "    ) b\n",
    "where flow_lag1 is not null and flow_lag2 is not null and flow_lag3 is not null and flow_lag4 is not null and flow_lag5 is not null and flow_lag6 is not null and flow_lag7 is not null and flow_lag8 is not null and flow_lag9 is not null and flow_lag10 is not null and flow_lag11 is not null and flow_lag12 IS NOT null\n",
    "\"\"\""
   ]
  },
  {
   "cell_type": "markdown",
   "id": "ae89495f",
   "metadata": {},
   "source": [
    "### Both factors"
   ]
  },
  {
   "cell_type": "code",
   "execution_count": 63,
   "id": "302df7c2",
   "metadata": {},
   "outputs": [
    {
     "name": "stdout",
     "output_type": "stream",
     "text": [
      "Elapsed time: 742.6782581806183 seconds\n"
     ]
    }
   ],
   "source": [
    "deciles = \"\"\" CEILING(ROW_NUMBER() OVER (PARTITION BY year(`date_time`), month(`date_time`) ORDER BY pe_ttm / ps asc) / COUNT(*) OVER (PARTITION BY year(`date_time`), month(`date_time`)) * 10) AS profitability_decile,\n",
    "              CEILING(ROW_NUMBER() OVER (PARTITION BY year(`date_time`), month(`date_time`) ORDER BY pb asc) / COUNT(*) OVER (PARTITION BY year(`date_time`), month(`date_time`)) * 10) AS value_decile \"\"\"\n",
    "filters = \"\"\" and profitability_decile = 10 and value_decile = 10 \"\"\"\n",
    "\n",
    "df = mysql_query(query % (deciles, filters),\n",
    "                 user=user,\n",
    "                 password=password,\n",
    "                 port=3306)\n",
    "df.to_parquet('table2_bothFactors.parquet')"
   ]
  },
  {
   "cell_type": "code",
   "execution_count": 64,
   "id": "780c6d70",
   "metadata": {},
   "outputs": [
    {
     "data": {
      "text/html": [
       "<div>\n",
       "<style scoped>\n",
       "    .dataframe tbody tr th:only-of-type {\n",
       "        vertical-align: middle;\n",
       "    }\n",
       "\n",
       "    .dataframe tbody tr th {\n",
       "        vertical-align: top;\n",
       "    }\n",
       "\n",
       "    .dataframe thead th {\n",
       "        text-align: right;\n",
       "    }\n",
       "</style>\n",
       "<table border=\"1\" class=\"dataframe\">\n",
       "  <thead>\n",
       "    <tr style=\"text-align: right;\">\n",
       "      <th></th>\n",
       "      <th>date_time</th>\n",
       "      <th>tic</th>\n",
       "      <th>ret</th>\n",
       "      <th>flow</th>\n",
       "      <th>flow_lag1</th>\n",
       "      <th>flow_lag2</th>\n",
       "      <th>flow_lag3</th>\n",
       "      <th>flow_lag4</th>\n",
       "      <th>flow_lag5</th>\n",
       "      <th>flow_lag6</th>\n",
       "      <th>flow_lag7</th>\n",
       "      <th>flow_lag8</th>\n",
       "      <th>flow_lag9</th>\n",
       "      <th>flow_lag10</th>\n",
       "      <th>flow_lag11</th>\n",
       "      <th>flow_lag12</th>\n",
       "    </tr>\n",
       "  </thead>\n",
       "  <tbody>\n",
       "    <tr>\n",
       "      <th>0</th>\n",
       "      <td>2015-10-23</td>\n",
       "      <td>000017_SZ\\r</td>\n",
       "      <td>0.088853</td>\n",
       "      <td>364011000.0</td>\n",
       "      <td>235533000.0</td>\n",
       "      <td>283476000.0</td>\n",
       "      <td>243305000.0</td>\n",
       "      <td>300598000.0</td>\n",
       "      <td>191377000.0</td>\n",
       "      <td>134296000.0</td>\n",
       "      <td>155178000.0</td>\n",
       "      <td>134689000.0</td>\n",
       "      <td>174710000.0</td>\n",
       "      <td>109355000.0</td>\n",
       "      <td>61518300.0</td>\n",
       "      <td>28271800.0</td>\n",
       "    </tr>\n",
       "    <tr>\n",
       "      <th>1</th>\n",
       "      <td>2015-10-26</td>\n",
       "      <td>000017_SZ\\r</td>\n",
       "      <td>-0.027750</td>\n",
       "      <td>280919000.0</td>\n",
       "      <td>364011000.0</td>\n",
       "      <td>235533000.0</td>\n",
       "      <td>283476000.0</td>\n",
       "      <td>243305000.0</td>\n",
       "      <td>300598000.0</td>\n",
       "      <td>191377000.0</td>\n",
       "      <td>134296000.0</td>\n",
       "      <td>155178000.0</td>\n",
       "      <td>134689000.0</td>\n",
       "      <td>174710000.0</td>\n",
       "      <td>109355000.0</td>\n",
       "      <td>61518300.0</td>\n",
       "    </tr>\n",
       "    <tr>\n",
       "      <th>2</th>\n",
       "      <td>2015-10-27</td>\n",
       "      <td>000017_SZ\\r</td>\n",
       "      <td>-0.012331</td>\n",
       "      <td>166773000.0</td>\n",
       "      <td>280919000.0</td>\n",
       "      <td>364011000.0</td>\n",
       "      <td>235533000.0</td>\n",
       "      <td>283476000.0</td>\n",
       "      <td>243305000.0</td>\n",
       "      <td>300598000.0</td>\n",
       "      <td>191377000.0</td>\n",
       "      <td>134296000.0</td>\n",
       "      <td>155178000.0</td>\n",
       "      <td>134689000.0</td>\n",
       "      <td>174710000.0</td>\n",
       "      <td>109355000.0</td>\n",
       "    </tr>\n",
       "    <tr>\n",
       "      <th>3</th>\n",
       "      <td>2015-10-28</td>\n",
       "      <td>000017_SZ\\r</td>\n",
       "      <td>-0.020891</td>\n",
       "      <td>153167000.0</td>\n",
       "      <td>166773000.0</td>\n",
       "      <td>280919000.0</td>\n",
       "      <td>364011000.0</td>\n",
       "      <td>235533000.0</td>\n",
       "      <td>283476000.0</td>\n",
       "      <td>243305000.0</td>\n",
       "      <td>300598000.0</td>\n",
       "      <td>191377000.0</td>\n",
       "      <td>134296000.0</td>\n",
       "      <td>155178000.0</td>\n",
       "      <td>134689000.0</td>\n",
       "      <td>174710000.0</td>\n",
       "    </tr>\n",
       "    <tr>\n",
       "      <th>4</th>\n",
       "      <td>2015-10-29</td>\n",
       "      <td>000017_SZ\\r</td>\n",
       "      <td>0.088401</td>\n",
       "      <td>294083000.0</td>\n",
       "      <td>153167000.0</td>\n",
       "      <td>166773000.0</td>\n",
       "      <td>280919000.0</td>\n",
       "      <td>364011000.0</td>\n",
       "      <td>235533000.0</td>\n",
       "      <td>283476000.0</td>\n",
       "      <td>243305000.0</td>\n",
       "      <td>300598000.0</td>\n",
       "      <td>191377000.0</td>\n",
       "      <td>134296000.0</td>\n",
       "      <td>155178000.0</td>\n",
       "      <td>134689000.0</td>\n",
       "    </tr>\n",
       "  </tbody>\n",
       "</table>\n",
       "</div>"
      ],
      "text/plain": [
       "    date_time          tic       ret         flow    flow_lag1    flow_lag2   \n",
       "0  2015-10-23  000017_SZ\\r  0.088853  364011000.0  235533000.0  283476000.0  \\\n",
       "1  2015-10-26  000017_SZ\\r -0.027750  280919000.0  364011000.0  235533000.0   \n",
       "2  2015-10-27  000017_SZ\\r -0.012331  166773000.0  280919000.0  364011000.0   \n",
       "3  2015-10-28  000017_SZ\\r -0.020891  153167000.0  166773000.0  280919000.0   \n",
       "4  2015-10-29  000017_SZ\\r  0.088401  294083000.0  153167000.0  166773000.0   \n",
       "\n",
       "     flow_lag3    flow_lag4    flow_lag5    flow_lag6    flow_lag7   \n",
       "0  243305000.0  300598000.0  191377000.0  134296000.0  155178000.0  \\\n",
       "1  283476000.0  243305000.0  300598000.0  191377000.0  134296000.0   \n",
       "2  235533000.0  283476000.0  243305000.0  300598000.0  191377000.0   \n",
       "3  364011000.0  235533000.0  283476000.0  243305000.0  300598000.0   \n",
       "4  280919000.0  364011000.0  235533000.0  283476000.0  243305000.0   \n",
       "\n",
       "     flow_lag8    flow_lag9   flow_lag10   flow_lag11   flow_lag12  \n",
       "0  134689000.0  174710000.0  109355000.0   61518300.0   28271800.0  \n",
       "1  155178000.0  134689000.0  174710000.0  109355000.0   61518300.0  \n",
       "2  134296000.0  155178000.0  134689000.0  174710000.0  109355000.0  \n",
       "3  191377000.0  134296000.0  155178000.0  134689000.0  174710000.0  \n",
       "4  300598000.0  191377000.0  134296000.0  155178000.0  134689000.0  "
      ]
     },
     "execution_count": 64,
     "metadata": {},
     "output_type": "execute_result"
    }
   ],
   "source": [
    "df.head()"
   ]
  },
  {
   "cell_type": "markdown",
   "id": "3f757fd5",
   "metadata": {},
   "source": [
    "### profitability factor: PE ratio / PS ratio"
   ]
  },
  {
   "cell_type": "code",
   "execution_count": 65,
   "id": "00b10e61",
   "metadata": {
    "scrolled": true
   },
   "outputs": [
    {
     "name": "stdout",
     "output_type": "stream",
     "text": [
      "Elapsed time: 644.4036920070648 seconds\n"
     ]
    }
   ],
   "source": [
    "deciles = \"\"\"CEILING(ROW_NUMBER() OVER (PARTITION BY year(`date_time`), month(`date_time`) ORDER BY pe_ttm / ps asc) / COUNT(*) OVER (PARTITION BY year(`date_time`), month(`date_time`)) * 10) AS profitability_decile\"\"\"\n",
    "filters = \"\"\"and profitability_decile = 10\"\"\"\n",
    "\n",
    "df = mysql_query(query % (deciles, filters),\n",
    "                 user=user,\n",
    "                 password=password,\n",
    "                 port=3306)\n",
    "df.to_parquet('table2_profitabilityFactors.parquet')"
   ]
  },
  {
   "cell_type": "code",
   "execution_count": 66,
   "id": "7ff43924",
   "metadata": {},
   "outputs": [
    {
     "data": {
      "text/html": [
       "<div>\n",
       "<style scoped>\n",
       "    .dataframe tbody tr th:only-of-type {\n",
       "        vertical-align: middle;\n",
       "    }\n",
       "\n",
       "    .dataframe tbody tr th {\n",
       "        vertical-align: top;\n",
       "    }\n",
       "\n",
       "    .dataframe thead th {\n",
       "        text-align: right;\n",
       "    }\n",
       "</style>\n",
       "<table border=\"1\" class=\"dataframe\">\n",
       "  <thead>\n",
       "    <tr style=\"text-align: right;\">\n",
       "      <th></th>\n",
       "      <th>date_time</th>\n",
       "      <th>tic</th>\n",
       "      <th>ret</th>\n",
       "      <th>flow</th>\n",
       "      <th>flow_lag1</th>\n",
       "      <th>flow_lag2</th>\n",
       "      <th>flow_lag3</th>\n",
       "      <th>flow_lag4</th>\n",
       "      <th>flow_lag5</th>\n",
       "      <th>flow_lag6</th>\n",
       "      <th>flow_lag7</th>\n",
       "      <th>flow_lag8</th>\n",
       "      <th>flow_lag9</th>\n",
       "      <th>flow_lag10</th>\n",
       "      <th>flow_lag11</th>\n",
       "      <th>flow_lag12</th>\n",
       "    </tr>\n",
       "  </thead>\n",
       "  <tbody>\n",
       "    <tr>\n",
       "      <th>0</th>\n",
       "      <td>2018-01-18</td>\n",
       "      <td>000009_SZ\\r</td>\n",
       "      <td>0.001466</td>\n",
       "      <td>97271800.0</td>\n",
       "      <td>136085000.0</td>\n",
       "      <td>155178000.0</td>\n",
       "      <td>267350000.0</td>\n",
       "      <td>161188000.0</td>\n",
       "      <td>407941000.0</td>\n",
       "      <td>137333000.0</td>\n",
       "      <td>123617000.0</td>\n",
       "      <td>178511000.0</td>\n",
       "      <td>196259000.0</td>\n",
       "      <td>358090000.0</td>\n",
       "      <td>170637000.0</td>\n",
       "      <td>140498000.0</td>\n",
       "    </tr>\n",
       "    <tr>\n",
       "      <th>1</th>\n",
       "      <td>2018-01-19</td>\n",
       "      <td>000009_SZ\\r</td>\n",
       "      <td>-0.002935</td>\n",
       "      <td>87231700.0</td>\n",
       "      <td>97271800.0</td>\n",
       "      <td>136085000.0</td>\n",
       "      <td>155178000.0</td>\n",
       "      <td>267350000.0</td>\n",
       "      <td>161188000.0</td>\n",
       "      <td>407941000.0</td>\n",
       "      <td>137333000.0</td>\n",
       "      <td>123617000.0</td>\n",
       "      <td>178511000.0</td>\n",
       "      <td>196259000.0</td>\n",
       "      <td>358090000.0</td>\n",
       "      <td>170637000.0</td>\n",
       "    </tr>\n",
       "    <tr>\n",
       "      <th>2</th>\n",
       "      <td>2018-01-22</td>\n",
       "      <td>000009_SZ\\r</td>\n",
       "      <td>0.004419</td>\n",
       "      <td>93316300.0</td>\n",
       "      <td>87231700.0</td>\n",
       "      <td>97271800.0</td>\n",
       "      <td>136085000.0</td>\n",
       "      <td>155178000.0</td>\n",
       "      <td>267350000.0</td>\n",
       "      <td>161188000.0</td>\n",
       "      <td>407941000.0</td>\n",
       "      <td>137333000.0</td>\n",
       "      <td>123617000.0</td>\n",
       "      <td>178511000.0</td>\n",
       "      <td>196259000.0</td>\n",
       "      <td>358090000.0</td>\n",
       "    </tr>\n",
       "    <tr>\n",
       "      <th>3</th>\n",
       "      <td>2018-01-23</td>\n",
       "      <td>000009_SZ\\r</td>\n",
       "      <td>0.002938</td>\n",
       "      <td>91658200.0</td>\n",
       "      <td>93316300.0</td>\n",
       "      <td>87231700.0</td>\n",
       "      <td>97271800.0</td>\n",
       "      <td>136085000.0</td>\n",
       "      <td>155178000.0</td>\n",
       "      <td>267350000.0</td>\n",
       "      <td>161188000.0</td>\n",
       "      <td>407941000.0</td>\n",
       "      <td>137333000.0</td>\n",
       "      <td>123617000.0</td>\n",
       "      <td>178511000.0</td>\n",
       "      <td>196259000.0</td>\n",
       "    </tr>\n",
       "    <tr>\n",
       "      <th>4</th>\n",
       "      <td>2018-01-24</td>\n",
       "      <td>000009_SZ\\r</td>\n",
       "      <td>-0.007316</td>\n",
       "      <td>127570000.0</td>\n",
       "      <td>91658200.0</td>\n",
       "      <td>93316300.0</td>\n",
       "      <td>87231700.0</td>\n",
       "      <td>97271800.0</td>\n",
       "      <td>136085000.0</td>\n",
       "      <td>155178000.0</td>\n",
       "      <td>267350000.0</td>\n",
       "      <td>161188000.0</td>\n",
       "      <td>407941000.0</td>\n",
       "      <td>137333000.0</td>\n",
       "      <td>123617000.0</td>\n",
       "      <td>178511000.0</td>\n",
       "    </tr>\n",
       "  </tbody>\n",
       "</table>\n",
       "</div>"
      ],
      "text/plain": [
       "    date_time          tic       ret         flow    flow_lag1    flow_lag2   \n",
       "0  2018-01-18  000009_SZ\\r  0.001466   97271800.0  136085000.0  155178000.0  \\\n",
       "1  2018-01-19  000009_SZ\\r -0.002935   87231700.0   97271800.0  136085000.0   \n",
       "2  2018-01-22  000009_SZ\\r  0.004419   93316300.0   87231700.0   97271800.0   \n",
       "3  2018-01-23  000009_SZ\\r  0.002938   91658200.0   93316300.0   87231700.0   \n",
       "4  2018-01-24  000009_SZ\\r -0.007316  127570000.0   91658200.0   93316300.0   \n",
       "\n",
       "     flow_lag3    flow_lag4    flow_lag5    flow_lag6    flow_lag7   \n",
       "0  267350000.0  161188000.0  407941000.0  137333000.0  123617000.0  \\\n",
       "1  155178000.0  267350000.0  161188000.0  407941000.0  137333000.0   \n",
       "2  136085000.0  155178000.0  267350000.0  161188000.0  407941000.0   \n",
       "3   97271800.0  136085000.0  155178000.0  267350000.0  161188000.0   \n",
       "4   87231700.0   97271800.0  136085000.0  155178000.0  267350000.0   \n",
       "\n",
       "     flow_lag8    flow_lag9   flow_lag10   flow_lag11   flow_lag12  \n",
       "0  178511000.0  196259000.0  358090000.0  170637000.0  140498000.0  \n",
       "1  123617000.0  178511000.0  196259000.0  358090000.0  170637000.0  \n",
       "2  137333000.0  123617000.0  178511000.0  196259000.0  358090000.0  \n",
       "3  407941000.0  137333000.0  123617000.0  178511000.0  196259000.0  \n",
       "4  161188000.0  407941000.0  137333000.0  123617000.0  178511000.0  "
      ]
     },
     "execution_count": 66,
     "metadata": {},
     "output_type": "execute_result"
    }
   ],
   "source": [
    "df.head()"
   ]
  },
  {
   "cell_type": "markdown",
   "id": "0ee06d5e",
   "metadata": {},
   "source": [
    "### Value factor: PB ratio"
   ]
  },
  {
   "cell_type": "code",
   "execution_count": 67,
   "id": "d585d3ce",
   "metadata": {},
   "outputs": [
    {
     "name": "stdout",
     "output_type": "stream",
     "text": [
      "Elapsed time: 645.6081969738007 seconds\n"
     ]
    }
   ],
   "source": [
    "deciles = \"\"\" CEILING(ROW_NUMBER() OVER (PARTITION BY year(`date_time`), month(`date_time`) ORDER BY pb asc) / COUNT(*) OVER (PARTITION BY year(`date_time`), month(`date_time`)) * 10) AS value_decile \"\"\"\n",
    "filters = \"\"\" and value_decile = 10 \"\"\"\n",
    "\n",
    "df = mysql_query(query % (deciles, filters),\n",
    "                 user=user,\n",
    "                 password=password,\n",
    "                 port=3306)\n",
    "df.to_parquet('table2_valueFactors.parquet')"
   ]
  },
  {
   "cell_type": "code",
   "execution_count": 68,
   "id": "2b6a086d",
   "metadata": {},
   "outputs": [
    {
     "data": {
      "text/html": [
       "<div>\n",
       "<style scoped>\n",
       "    .dataframe tbody tr th:only-of-type {\n",
       "        vertical-align: middle;\n",
       "    }\n",
       "\n",
       "    .dataframe tbody tr th {\n",
       "        vertical-align: top;\n",
       "    }\n",
       "\n",
       "    .dataframe thead th {\n",
       "        text-align: right;\n",
       "    }\n",
       "</style>\n",
       "<table border=\"1\" class=\"dataframe\">\n",
       "  <thead>\n",
       "    <tr style=\"text-align: right;\">\n",
       "      <th></th>\n",
       "      <th>date_time</th>\n",
       "      <th>tic</th>\n",
       "      <th>ret</th>\n",
       "      <th>flow</th>\n",
       "      <th>flow_lag1</th>\n",
       "      <th>flow_lag2</th>\n",
       "      <th>flow_lag3</th>\n",
       "      <th>flow_lag4</th>\n",
       "      <th>flow_lag5</th>\n",
       "      <th>flow_lag6</th>\n",
       "      <th>flow_lag7</th>\n",
       "      <th>flow_lag8</th>\n",
       "      <th>flow_lag9</th>\n",
       "      <th>flow_lag10</th>\n",
       "      <th>flow_lag11</th>\n",
       "      <th>flow_lag12</th>\n",
       "    </tr>\n",
       "  </thead>\n",
       "  <tbody>\n",
       "    <tr>\n",
       "      <th>0</th>\n",
       "      <td>2015-01-19</td>\n",
       "      <td>000017_SZ\\r</td>\n",
       "      <td>-0.048179</td>\n",
       "      <td>41255500.0</td>\n",
       "      <td>44151300.0</td>\n",
       "      <td>36686800.0</td>\n",
       "      <td>39150700.0</td>\n",
       "      <td>53169600.0</td>\n",
       "      <td>77659600.0</td>\n",
       "      <td>221430000.0</td>\n",
       "      <td>81363400.0</td>\n",
       "      <td>18335800.0</td>\n",
       "      <td>22723400.0</td>\n",
       "      <td>22168700.0</td>\n",
       "      <td>20099500.0</td>\n",
       "      <td>34811600.0</td>\n",
       "    </tr>\n",
       "    <tr>\n",
       "      <th>1</th>\n",
       "      <td>2015-01-20</td>\n",
       "      <td>000017_SZ\\r</td>\n",
       "      <td>0.040147</td>\n",
       "      <td>43054800.0</td>\n",
       "      <td>41255500.0</td>\n",
       "      <td>44151300.0</td>\n",
       "      <td>36686800.0</td>\n",
       "      <td>39150700.0</td>\n",
       "      <td>53169600.0</td>\n",
       "      <td>77659600.0</td>\n",
       "      <td>221430000.0</td>\n",
       "      <td>81363400.0</td>\n",
       "      <td>18335800.0</td>\n",
       "      <td>22723400.0</td>\n",
       "      <td>22168700.0</td>\n",
       "      <td>20099500.0</td>\n",
       "    </tr>\n",
       "    <tr>\n",
       "      <th>2</th>\n",
       "      <td>2015-01-21</td>\n",
       "      <td>000017_SZ\\r</td>\n",
       "      <td>0.014109</td>\n",
       "      <td>49502800.0</td>\n",
       "      <td>43054800.0</td>\n",
       "      <td>41255500.0</td>\n",
       "      <td>44151300.0</td>\n",
       "      <td>36686800.0</td>\n",
       "      <td>39150700.0</td>\n",
       "      <td>53169600.0</td>\n",
       "      <td>77659600.0</td>\n",
       "      <td>221430000.0</td>\n",
       "      <td>81363400.0</td>\n",
       "      <td>18335800.0</td>\n",
       "      <td>22723400.0</td>\n",
       "      <td>22168700.0</td>\n",
       "    </tr>\n",
       "    <tr>\n",
       "      <th>3</th>\n",
       "      <td>2015-01-22</td>\n",
       "      <td>000017_SZ\\r</td>\n",
       "      <td>0.003523</td>\n",
       "      <td>40500600.0</td>\n",
       "      <td>49502800.0</td>\n",
       "      <td>43054800.0</td>\n",
       "      <td>41255500.0</td>\n",
       "      <td>44151300.0</td>\n",
       "      <td>36686800.0</td>\n",
       "      <td>39150700.0</td>\n",
       "      <td>53169600.0</td>\n",
       "      <td>77659600.0</td>\n",
       "      <td>221430000.0</td>\n",
       "      <td>81363400.0</td>\n",
       "      <td>18335800.0</td>\n",
       "      <td>22723400.0</td>\n",
       "    </tr>\n",
       "    <tr>\n",
       "      <th>4</th>\n",
       "      <td>2015-01-23</td>\n",
       "      <td>000017_SZ\\r</td>\n",
       "      <td>0.024341</td>\n",
       "      <td>86438300.0</td>\n",
       "      <td>40500600.0</td>\n",
       "      <td>49502800.0</td>\n",
       "      <td>43054800.0</td>\n",
       "      <td>41255500.0</td>\n",
       "      <td>44151300.0</td>\n",
       "      <td>36686800.0</td>\n",
       "      <td>39150700.0</td>\n",
       "      <td>53169600.0</td>\n",
       "      <td>77659600.0</td>\n",
       "      <td>221430000.0</td>\n",
       "      <td>81363400.0</td>\n",
       "      <td>18335800.0</td>\n",
       "    </tr>\n",
       "  </tbody>\n",
       "</table>\n",
       "</div>"
      ],
      "text/plain": [
       "    date_time          tic       ret        flow   flow_lag1   flow_lag2   \n",
       "0  2015-01-19  000017_SZ\\r -0.048179  41255500.0  44151300.0  36686800.0  \\\n",
       "1  2015-01-20  000017_SZ\\r  0.040147  43054800.0  41255500.0  44151300.0   \n",
       "2  2015-01-21  000017_SZ\\r  0.014109  49502800.0  43054800.0  41255500.0   \n",
       "3  2015-01-22  000017_SZ\\r  0.003523  40500600.0  49502800.0  43054800.0   \n",
       "4  2015-01-23  000017_SZ\\r  0.024341  86438300.0  40500600.0  49502800.0   \n",
       "\n",
       "    flow_lag3   flow_lag4   flow_lag5    flow_lag6    flow_lag7    flow_lag8   \n",
       "0  39150700.0  53169600.0  77659600.0  221430000.0   81363400.0   18335800.0  \\\n",
       "1  36686800.0  39150700.0  53169600.0   77659600.0  221430000.0   81363400.0   \n",
       "2  44151300.0  36686800.0  39150700.0   53169600.0   77659600.0  221430000.0   \n",
       "3  41255500.0  44151300.0  36686800.0   39150700.0   53169600.0   77659600.0   \n",
       "4  43054800.0  41255500.0  44151300.0   36686800.0   39150700.0   53169600.0   \n",
       "\n",
       "     flow_lag9   flow_lag10  flow_lag11  flow_lag12  \n",
       "0   22723400.0   22168700.0  20099500.0  34811600.0  \n",
       "1   18335800.0   22723400.0  22168700.0  20099500.0  \n",
       "2   81363400.0   18335800.0  22723400.0  22168700.0  \n",
       "3  221430000.0   81363400.0  18335800.0  22723400.0  \n",
       "4   77659600.0  221430000.0  81363400.0  18335800.0  "
      ]
     },
     "execution_count": 68,
     "metadata": {},
     "output_type": "execute_result"
    }
   ],
   "source": [
    "df.head()"
   ]
  },
  {
   "cell_type": "code",
   "execution_count": 14,
   "id": "91b434c2",
   "metadata": {},
   "outputs": [],
   "source": [
    "files = os.listdir('.')\n",
    "df_res = None\n",
    "xs = ['flow'] + ['flow_lag%s' % i for i in range(1, 13)] # regressors\n",
    "for file in files:\n",
    "    if file[:7] == 'table2_' and file[-8:] == '.parquet':\n",
    "        data = pd.read_parquet(file)\n",
    "        \n",
    "        res_ret = regression_res('ret ~ %s' % ' + '.join(xs), data, 'Flow')\n",
    "        res_flow = regression_res('ret ~ %s' % ' + '.join(xs[1:]), data, 'Return')\n",
    "        \n",
    "        res = pd.concat([res_flow, res_ret], axis=1)\n",
    "        res.columns = pd.MultiIndex.from_tuples([(file.split('_')[-1].split('.')[0], res_flow.name),(file.split('_')[-1].split('.')[0], res_ret.name)])\n",
    "        if df_res is None:\n",
    "            df_res = res\n",
    "        else:\n",
    "            df_res = pd.concat([df_res, res], axis=1)"
   ]
  },
  {
   "cell_type": "code",
   "execution_count": 15,
   "id": "44594716",
   "metadata": {},
   "outputs": [
    {
     "data": {
      "text/html": [
       "<style type=\"text/css\">\n",
       "#T_c123e caption {\n",
       "  caption-side: top;\n",
       "  font-size: 2em;\n",
       "  text-align: center;\n",
       "}\n",
       "</style>\n",
       "<table id=\"T_c123e\">\n",
       "  <caption>Table 2</caption>\n",
       "  <thead>\n",
       "    <tr>\n",
       "      <th class=\"blank level0\" >&nbsp;</th>\n",
       "      <th id=\"T_c123e_level0_col0\" class=\"col_heading level0 col0\" colspan=\"2\">bothFactors</th>\n",
       "      <th id=\"T_c123e_level0_col2\" class=\"col_heading level0 col2\" colspan=\"2\">profitabilityFactors</th>\n",
       "      <th id=\"T_c123e_level0_col4\" class=\"col_heading level0 col4\" colspan=\"2\">valueFactors</th>\n",
       "    </tr>\n",
       "    <tr>\n",
       "      <th class=\"blank level1\" >&nbsp;</th>\n",
       "      <th id=\"T_c123e_level1_col0\" class=\"col_heading level1 col0\" >Return</th>\n",
       "      <th id=\"T_c123e_level1_col1\" class=\"col_heading level1 col1\" >Flow</th>\n",
       "      <th id=\"T_c123e_level1_col2\" class=\"col_heading level1 col2\" >Return</th>\n",
       "      <th id=\"T_c123e_level1_col3\" class=\"col_heading level1 col3\" >Flow</th>\n",
       "      <th id=\"T_c123e_level1_col4\" class=\"col_heading level1 col4\" >Return</th>\n",
       "      <th id=\"T_c123e_level1_col5\" class=\"col_heading level1 col5\" >Flow</th>\n",
       "    </tr>\n",
       "  </thead>\n",
       "  <tbody>\n",
       "    <tr>\n",
       "      <th id=\"T_c123e_level0_row0\" class=\"row_heading level0 row0\" >Intercept</th>\n",
       "      <td id=\"T_c123e_row0_col0\" class=\"data row0 col0\" >3.85e-03***(1.23e-03)</td>\n",
       "      <td id=\"T_c123e_row0_col1\" class=\"data row0 col1\" >3.75e-03***(1.24e-03)</td>\n",
       "      <td id=\"T_c123e_row0_col2\" class=\"data row0 col2\" >9.85e-04***(8.93e-05)</td>\n",
       "      <td id=\"T_c123e_row0_col3\" class=\"data row0 col3\" >7.33e-04***(9.89e-05)</td>\n",
       "      <td id=\"T_c123e_row0_col4\" class=\"data row0 col4\" >2.82e-03***(1.25e-04)</td>\n",
       "      <td id=\"T_c123e_row0_col5\" class=\"data row0 col5\" >2.58e-03***(1.28e-04)</td>\n",
       "    </tr>\n",
       "    <tr>\n",
       "      <th id=\"T_c123e_level0_row1\" class=\"row_heading level0 row1\" >flow</th>\n",
       "      <td id=\"T_c123e_row1_col0\" class=\"data row1 col0\" >nan</td>\n",
       "      <td id=\"T_c123e_row1_col1\" class=\"data row1 col1\" >1.31e-11***(2.37e-12)</td>\n",
       "      <td id=\"T_c123e_row1_col2\" class=\"data row1 col2\" >nan</td>\n",
       "      <td id=\"T_c123e_row1_col3\" class=\"data row1 col3\" >3.70e-11***(1.31e-12)</td>\n",
       "      <td id=\"T_c123e_row1_col4\" class=\"data row1 col4\" >nan</td>\n",
       "      <td id=\"T_c123e_row1_col5\" class=\"data row1 col5\" >1.84e-11***(5.21e-13)</td>\n",
       "    </tr>\n",
       "    <tr>\n",
       "      <th id=\"T_c123e_level0_row2\" class=\"row_heading level0 row2\" >flow_lag1</th>\n",
       "      <td id=\"T_c123e_row2_col0\" class=\"data row2 col0\" >-4.29e-13(1.32e-12)</td>\n",
       "      <td id=\"T_c123e_row2_col1\" class=\"data row2 col1\" >-6.17e-12(1.52e-12)</td>\n",
       "      <td id=\"T_c123e_row2_col2\" class=\"data row2 col2\" >-7.12e-13(5.20e-13)</td>\n",
       "      <td id=\"T_c123e_row2_col3\" class=\"data row2 col3\" >-2.29e-11***(1.11e-12)</td>\n",
       "      <td id=\"T_c123e_row2_col4\" class=\"data row2 col4\" >-3.02e-13(2.54e-13)</td>\n",
       "      <td id=\"T_c123e_row2_col5\" class=\"data row2 col5\" >-9.58e-12***(3.91e-13)</td>\n",
       "    </tr>\n",
       "    <tr>\n",
       "      <th id=\"T_c123e_level0_row3\" class=\"row_heading level0 row3\" >flow_lag2</th>\n",
       "      <td id=\"T_c123e_row3_col0\" class=\"data row3 col0\" >-3.66e-12(3.40e-12)</td>\n",
       "      <td id=\"T_c123e_row3_col1\" class=\"data row3 col1\" >-6.53e-12*(3.32e-12)</td>\n",
       "      <td id=\"T_c123e_row3_col2\" class=\"data row3 col2\" >-2.44e-12***(8.46e-13)</td>\n",
       "      <td id=\"T_c123e_row3_col3\" class=\"data row3 col3\" >-7.50e-12***(1.03e-12)</td>\n",
       "      <td id=\"T_c123e_row3_col4\" class=\"data row3 col4\" >-4.59e-13(3.31e-13)</td>\n",
       "      <td id=\"T_c123e_row3_col5\" class=\"data row3 col5\" >-2.80e-12***(3.68e-13)</td>\n",
       "    </tr>\n",
       "    <tr>\n",
       "      <th id=\"T_c123e_level0_row4\" class=\"row_heading level0 row4\" >flow_lag3</th>\n",
       "      <td id=\"T_c123e_row4_col0\" class=\"data row4 col0\" >8.15e-13(1.85e-12)</td>\n",
       "      <td id=\"T_c123e_row4_col1\" class=\"data row4 col1\" >-5.66e-14(2.04e-12)</td>\n",
       "      <td id=\"T_c123e_row4_col2\" class=\"data row4 col2\" >9.28e-13(7.11e-13)</td>\n",
       "      <td id=\"T_c123e_row4_col3\" class=\"data row4 col3\" >-5.19e-13(9.69e-13)</td>\n",
       "      <td id=\"T_c123e_row4_col4\" class=\"data row4 col4\" >4.96e-13(2.97e-13)</td>\n",
       "      <td id=\"T_c123e_row4_col5\" class=\"data row4 col5\" >-1.08e-12***(3.31e-13)</td>\n",
       "    </tr>\n",
       "    <tr>\n",
       "      <th id=\"T_c123e_level0_row5\" class=\"row_heading level0 row5\" >flow_lag4</th>\n",
       "      <td id=\"T_c123e_row5_col0\" class=\"data row5 col0\" >3.11e-13(1.44e-12)</td>\n",
       "      <td id=\"T_c123e_row5_col1\" class=\"data row5 col1\" >-8.70e-13(1.45e-12)</td>\n",
       "      <td id=\"T_c123e_row5_col2\" class=\"data row5 col2\" >1.78e-13(5.57e-13)</td>\n",
       "      <td id=\"T_c123e_row5_col3\" class=\"data row5 col3\" >-1.45e-12**(7.89e-13)</td>\n",
       "      <td id=\"T_c123e_row5_col4\" class=\"data row5 col4\" >-3.17e-13(2.77e-13)</td>\n",
       "      <td id=\"T_c123e_row5_col5\" class=\"data row5 col5\" >-1.40e-12***(3.18e-13)</td>\n",
       "    </tr>\n",
       "    <tr>\n",
       "      <th id=\"T_c123e_level0_row6\" class=\"row_heading level0 row6\" >flow_lag5</th>\n",
       "      <td id=\"T_c123e_row6_col0\" class=\"data row6 col0\" >-2.20e-12(2.54e-12)</td>\n",
       "      <td id=\"T_c123e_row6_col1\" class=\"data row6 col1\" >-2.39e-12(2.58e-12)</td>\n",
       "      <td id=\"T_c123e_row6_col2\" class=\"data row6 col2\" >-1.71e-12***(6.88e-13)</td>\n",
       "      <td id=\"T_c123e_row6_col3\" class=\"data row6 col3\" >-2.25e-12***(9.13e-13)</td>\n",
       "      <td id=\"T_c123e_row6_col4\" class=\"data row6 col4\" >-3.86e-13(2.97e-13)</td>\n",
       "      <td id=\"T_c123e_row6_col5\" class=\"data row6 col5\" >-9.30e-13**(3.37e-13)</td>\n",
       "    </tr>\n",
       "    <tr>\n",
       "      <th id=\"T_c123e_level0_row7\" class=\"row_heading level0 row7\" >flow_lag6</th>\n",
       "      <td id=\"T_c123e_row7_col0\" class=\"data row7 col0\" >6.21e-13(2.36e-12)</td>\n",
       "      <td id=\"T_c123e_row7_col1\" class=\"data row7 col1\" >5.21e-13(2.38e-12)</td>\n",
       "      <td id=\"T_c123e_row7_col2\" class=\"data row7 col2\" >1.29e-12**(5.20e-13)</td>\n",
       "      <td id=\"T_c123e_row7_col3\" class=\"data row7 col3\" >1.07e-13(7.88e-13)</td>\n",
       "      <td id=\"T_c123e_row7_col4\" class=\"data row7 col4\" >-3.84e-15(2.75e-13)</td>\n",
       "      <td id=\"T_c123e_row7_col5\" class=\"data row7 col5\" >-5.90e-13(3.08e-13)</td>\n",
       "    </tr>\n",
       "    <tr>\n",
       "      <th id=\"T_c123e_level0_row8\" class=\"row_heading level0 row8\" >flow_lag7</th>\n",
       "      <td id=\"T_c123e_row8_col0\" class=\"data row8 col0\" >1.20e-11***(1.09e-11)</td>\n",
       "      <td id=\"T_c123e_row8_col1\" class=\"data row8 col1\" >1.15e-11***(1.09e-11)</td>\n",
       "      <td id=\"T_c123e_row8_col2\" class=\"data row8 col2\" >2.88e-12***(2.20e-12)</td>\n",
       "      <td id=\"T_c123e_row8_col3\" class=\"data row8 col3\" >1.52e-12**(2.26e-12)</td>\n",
       "      <td id=\"T_c123e_row8_col4\" class=\"data row8 col4\" >1.24e-12***(6.36e-13)</td>\n",
       "      <td id=\"T_c123e_row8_col5\" class=\"data row8 col5\" >2.31e-13(6.50e-13)</td>\n",
       "    </tr>\n",
       "    <tr>\n",
       "      <th id=\"T_c123e_level0_row9\" class=\"row_heading level0 row9\" >flow_lag8</th>\n",
       "      <td id=\"T_c123e_row9_col0\" class=\"data row9 col0\" >-5.14e-12(5.00e-12)</td>\n",
       "      <td id=\"T_c123e_row9_col1\" class=\"data row9 col1\" >-4.52e-12(5.06e-12)</td>\n",
       "      <td id=\"T_c123e_row9_col2\" class=\"data row9 col2\" >-1.62e-12***(1.28e-12)</td>\n",
       "      <td id=\"T_c123e_row9_col3\" class=\"data row9 col3\" >-1.21e-12**(1.37e-12)</td>\n",
       "      <td id=\"T_c123e_row9_col4\" class=\"data row9 col4\" >-6.56e-13*(4.06e-13)</td>\n",
       "      <td id=\"T_c123e_row9_col5\" class=\"data row9 col5\" >-4.69e-13(4.30e-13)</td>\n",
       "    </tr>\n",
       "    <tr>\n",
       "      <th id=\"T_c123e_level0_row10\" class=\"row_heading level0 row10\" >flow_lag9</th>\n",
       "      <td id=\"T_c123e_row10_col0\" class=\"data row10 col0\" >-2.48e-12(2.76e-12)</td>\n",
       "      <td id=\"T_c123e_row10_col1\" class=\"data row10 col1\" >-3.04e-12(2.81e-12)</td>\n",
       "      <td id=\"T_c123e_row10_col2\" class=\"data row10 col2\" >-1.37e-12**(5.81e-13)</td>\n",
       "      <td id=\"T_c123e_row10_col3\" class=\"data row10 col3\" >-2.30e-12***(7.86e-13)</td>\n",
       "      <td id=\"T_c123e_row10_col4\" class=\"data row10 col4\" >-1.16e-13(3.02e-13)</td>\n",
       "      <td id=\"T_c123e_row10_col5\" class=\"data row10 col5\" >-7.15e-13**(3.40e-13)</td>\n",
       "    </tr>\n",
       "    <tr>\n",
       "      <th id=\"T_c123e_level0_row11\" class=\"row_heading level0 row11\" >flow_lag10</th>\n",
       "      <td id=\"T_c123e_row11_col0\" class=\"data row11 col0\" >-2.07e-12(2.07e-12)</td>\n",
       "      <td id=\"T_c123e_row11_col1\" class=\"data row11 col1\" >-1.74e-12(2.13e-12)</td>\n",
       "      <td id=\"T_c123e_row11_col2\" class=\"data row11 col2\" >7.45e-13(5.66e-13)</td>\n",
       "      <td id=\"T_c123e_row11_col3\" class=\"data row11 col3\" >1.05e-12*(7.34e-13)</td>\n",
       "      <td id=\"T_c123e_row11_col4\" class=\"data row11 col4\" >8.84e-14(2.90e-13)</td>\n",
       "      <td id=\"T_c123e_row11_col5\" class=\"data row11 col5\" >-3.82e-13(3.25e-13)</td>\n",
       "    </tr>\n",
       "    <tr>\n",
       "      <th id=\"T_c123e_level0_row12\" class=\"row_heading level0 row12\" >flow_lag11</th>\n",
       "      <td id=\"T_c123e_row12_col0\" class=\"data row12 col0\" >-4.59e-13(1.67e-12)</td>\n",
       "      <td id=\"T_c123e_row12_col1\" class=\"data row12 col1\" >-1.36e-12(1.68e-12)</td>\n",
       "      <td id=\"T_c123e_row12_col2\" class=\"data row12 col2\" >4.11e-14(5.70e-13)</td>\n",
       "      <td id=\"T_c123e_row12_col3\" class=\"data row12 col3\" >-9.91e-13(7.45e-13)</td>\n",
       "      <td id=\"T_c123e_row12_col4\" class=\"data row12 col4\" >-6.18e-13*(2.90e-13)</td>\n",
       "      <td id=\"T_c123e_row12_col5\" class=\"data row12 col5\" >-7.61e-13**(3.25e-13)</td>\n",
       "    </tr>\n",
       "    <tr>\n",
       "      <th id=\"T_c123e_level0_row13\" class=\"row_heading level0 row13\" >flow_lag12</th>\n",
       "      <td id=\"T_c123e_row13_col0\" class=\"data row13 col0\" >2.72e-12(2.26e-12)</td>\n",
       "      <td id=\"T_c123e_row13_col1\" class=\"data row13 col1\" >2.15e-12(2.28e-12)</td>\n",
       "      <td id=\"T_c123e_row13_col2\" class=\"data row13 col2\" >9.77e-13*(6.01e-13)</td>\n",
       "      <td id=\"T_c123e_row13_col3\" class=\"data row13 col3\" >-1.59e-13(7.10e-13)</td>\n",
       "      <td id=\"T_c123e_row13_col4\" class=\"data row13 col4\" >6.01e-13*(2.59e-13)</td>\n",
       "      <td id=\"T_c123e_row13_col5\" class=\"data row13 col5\" >1.26e-13(2.87e-13)</td>\n",
       "    </tr>\n",
       "    <tr>\n",
       "      <th id=\"T_c123e_level0_row14\" class=\"row_heading level0 row14\" >num of obs</th>\n",
       "      <td id=\"T_c123e_row14_col0\" class=\"data row14 col0\" >11097</td>\n",
       "      <td id=\"T_c123e_row14_col1\" class=\"data row14 col1\" >11097</td>\n",
       "      <td id=\"T_c123e_row14_col2\" class=\"data row14 col2\" >220004</td>\n",
       "      <td id=\"T_c123e_row14_col3\" class=\"data row14 col3\" >220004</td>\n",
       "      <td id=\"T_c123e_row14_col4\" class=\"data row14 col4\" >218616</td>\n",
       "      <td id=\"T_c123e_row14_col5\" class=\"data row14 col5\" >218616</td>\n",
       "    </tr>\n",
       "    <tr>\n",
       "      <th id=\"T_c123e_level0_row15\" class=\"row_heading level0 row15\" >adj. R sq.</th>\n",
       "      <td id=\"T_c123e_row15_col0\" class=\"data row15 col0\" >-0.000031</td>\n",
       "      <td id=\"T_c123e_row15_col1\" class=\"data row15 col1\" >0.001090</td>\n",
       "      <td id=\"T_c123e_row15_col2\" class=\"data row15 col2\" >0.000380</td>\n",
       "      <td id=\"T_c123e_row15_col3\" class=\"data row15 col3\" >0.023128</td>\n",
       "      <td id=\"T_c123e_row15_col4\" class=\"data row15 col4\" >0.000104</td>\n",
       "      <td id=\"T_c123e_row15_col5\" class=\"data row15 col5\" >0.014784</td>\n",
       "    </tr>\n",
       "  </tbody>\n",
       "</table>\n"
      ],
      "text/plain": [
       "<pandas.io.formats.style.Styler at 0x26d4cefaee0>"
      ]
     },
     "execution_count": 15,
     "metadata": {},
     "output_type": "execute_result"
    }
   ],
   "source": [
    "rows = list(set(list(range(df_res.shape[0]))) - set([0, df_res.shape[0] - 1]))\n",
    "plot_df(df_res.iloc[[0,-1] + rows, :], 'Table 2')"
   ]
  },
  {
   "cell_type": "markdown",
   "id": "9003de0d",
   "metadata": {},
   "source": [
    "# Replicate Figure 1,5 Panel (a)"
   ]
  },
  {
   "cell_type": "code",
   "execution_count": 16,
   "id": "6c4be6ad",
   "metadata": {
    "scrolled": false
   },
   "outputs": [
    {
     "data": {
      "text/plain": [
       "<matplotlib.axes._subplots.AxesSubplot at 0x26d4ca48910>"
      ]
     },
     "execution_count": 16,
     "metadata": {},
     "output_type": "execute_result"
    },
    {
     "data": {
      "image/png": "[encoded data removed]",
      "text/plain": [
       "<Figure size 720x504 with 1 Axes>"
      ]
     },
     "metadata": {
      "needs_background": "light"
     },
     "output_type": "display_data"
    }
   ],
   "source": [
    "xs = ['flow'] + ['flow_lag%s' % i for i in range(1, 13)] # regressors\n",
    "data = pd.read_parquet('table2_bothFactors.parquet')\n",
    "res_ret = regression_res('ret ~ %s' % ' + '.join(xs), data, 'Cumulative Return Response', False)\n",
    "res_ret.drop('Intercept').cumsum().plot(\n",
    "    figsize = (10,7), \n",
    "    title = 'Demand-Induced Price Pressures in Both Factors'\n",
    ")"
   ]
  },
  {
   "cell_type": "markdown",
   "id": "0fe21c84",
   "metadata": {},
   "source": [
    "# Replicate Figure 5 Panel (b)"
   ]
  },
  {
   "cell_type": "code",
   "execution_count": 17,
   "id": "a55f0100",
   "metadata": {
    "scrolled": false
   },
   "outputs": [
    {
     "data": {
      "text/plain": [
       "<matplotlib.axes._subplots.AxesSubplot at 0x26d4cfbed90>"
      ]
     },
     "execution_count": 17,
     "metadata": {},
     "output_type": "execute_result"
    },
    {
     "data": {
      "image/png": "[encoded data removed]",
      "text/plain": [
       "<Figure size 720x504 with 1 Axes>"
      ]
     },
     "metadata": {
      "needs_background": "light"
     },
     "output_type": "display_data"
    }
   ],
   "source": [
    "xs = ['flow'] + ['flow_lag%s' % i for i in range(1, 13)] # regressors\n",
    "data = pd.read_parquet('table2_profitabilityFactors.parquet')\n",
    "res_ret_profitabilityFactors = regression_res('ret ~ %s' % ' + '.join(xs), data, 'profitabilityFactors', False)\n",
    "data = pd.read_parquet('table2_valueFactors.parquet')\n",
    "res_ret_valueFactors = regression_res('ret ~ %s' % ' + '.join(xs), data, 'valueFactors', False)\n",
    "\n",
    "pd.concat(\n",
    "    [res_ret_profitabilityFactors.drop('Intercept'), \n",
    "     res_ret_valueFactors.drop('Intercept')\n",
    "    ], axis=1\n",
    ").cumsum().plot(\n",
    "    y = ['profitabilityFactors', 'valueFactors'], \n",
    "    title = 'Demand-Induced Price Pressures in Factors', \n",
    "    figsize = (10,7)\n",
    ")"
   ]
  },
  {
   "cell_type": "markdown",
   "id": "1c185312",
   "metadata": {},
   "source": [
    "# Replicate table 3"
   ]
  },
  {
   "cell_type": "markdown",
   "id": "4ff3d5ad",
   "metadata": {},
   "source": [
    "## Prepare template of query"
   ]
  },
  {
   "cell_type": "code",
   "execution_count": 23,
   "id": "06d95b9c",
   "metadata": {},
   "outputs": [],
   "source": [
    "query = \"\"\" select \n",
    "                date_time, tic, ret,\n",
    "                avg(avg_flow) over (partition by tic order by date_time ASC rows BETWEEN %s PRECEDING AND current row) / 1000000000 as avg_flow\n",
    "            from\n",
    "                (select \n",
    "                    min(date_time) AS date_time, tic, \n",
    "                    sum(totalCapital / lag_totalCapital - 1) AS ret,\n",
    "                    avg(money) as avg_flow\n",
    "                FROM\n",
    "                    (select\n",
    "                        date_time,\n",
    "                        tic,\n",
    "                        totalCapital,\n",
    "                        money,\n",
    "                        LAG(totalCapital) over (PARTITION BY tic ORDER BY date_time ASC) AS lag_totalCapital,\n",
    "                        %s\n",
    "                    from 7035_prj.sz_trading_data\n",
    "                    ) a\n",
    "                WHERE %s\n",
    "                group by year(date_time), quarter(date_time), tic\n",
    "                ) b \"\"\""
   ]
  },
  {
   "cell_type": "markdown",
   "id": "d8fcf72e",
   "metadata": {},
   "source": [
    "## Query database"
   ]
  },
  {
   "cell_type": "code",
   "execution_count": 24,
   "id": "32af07ed",
   "metadata": {},
   "outputs": [
    {
     "name": "stdout",
     "output_type": "stream",
     "text": [
      "Elapsed time: 410.5499892234802 seconds\n",
      "Elapsed time: 231.60412669181824 seconds\n",
      "Elapsed time: 244.33944988250732 seconds\n",
      "Elapsed time: 418.3050847053528 seconds\n",
      "Elapsed time: 224.7240092754364 seconds\n",
      "Elapsed time: 234.97468638420105 seconds\n"
     ]
    }
   ],
   "source": [
    "past_quarterss = [4, 8]\n",
    "for past_quarters in past_quarterss:\n",
    "    # Both factors\n",
    "    deciles = \"\"\" CEILING(ROW_NUMBER() OVER (PARTITION BY YEAR(`date_time`), quarter(`date_time`) ORDER BY pb asc) / COUNT(*) OVER (PARTITION BY YEAR(`date_time`), quarter(`date_time`)) * 10) AS value_decile,\n",
    "                  CEILING(ROW_NUMBER() OVER (PARTITION BY YEAR(`date_time`), quarter(`date_time`) ORDER BY pe_ttm / ps asc) / COUNT(*) OVER (PARTITION BY YEAR(`date_time`), quarter(`date_time`)) * 10) AS profitability_decile \"\"\"\n",
    "    filters = \"\"\" value_decile = 10 and profitability_decile = 10 \"\"\"\n",
    "    df = mysql_query(query % (past_quarters - 1, deciles, filters),\n",
    "                     user=user,\n",
    "                     password=password,\n",
    "                     port=3306)\n",
    "    df.to_parquet('table3_bothFactors_past%sQuarters.parquet' % past_quarters)\n",
    "    \n",
    "    # Value Factor\n",
    "    deciles = \"\"\" CEILING(ROW_NUMBER() OVER (PARTITION BY YEAR(`date_time`), quarter(`date_time`) ORDER BY pb asc) / COUNT(*) OVER (PARTITION BY YEAR(`date_time`), quarter(`date_time`)) * 10) AS value_decile \"\"\"\n",
    "    filters = \"\"\" value_decile = 10 \"\"\"\n",
    "    df = mysql_query(query % (past_quarters - 1, deciles, filters),\n",
    "                     user=user,\n",
    "                     password=password,\n",
    "                     port=3306)\n",
    "    df.to_parquet('table3_valueFactor_past%sQuarters.parquet' % past_quarters)\n",
    "    \n",
    "    # Profitability factor\n",
    "    deciles = \"\"\" CEILING(ROW_NUMBER() OVER (PARTITION BY YEAR(`date_time`), quarter(`date_time`) ORDER BY pe_ttm / ps asc) / COUNT(*) OVER (PARTITION BY YEAR(`date_time`), quarter(`date_time`)) * 10) AS profitability_decile \"\"\"\n",
    "    filters = \"\"\" profitability_decile = 10 \"\"\"\n",
    "    df = mysql_query(query % (past_quarters - 1, deciles, filters),\n",
    "                     user=user,\n",
    "                     password=password,\n",
    "                     port=3306)\n",
    "    df.to_parquet('table3_profitabilityFactor_past%sQuarters.parquet' % past_quarters)"
   ]
  },
  {
   "cell_type": "markdown",
   "id": "6766ed5f",
   "metadata": {},
   "source": [
    "## Regression"
   ]
  },
  {
   "cell_type": "code",
   "execution_count": 25,
   "id": "aae2ac7b",
   "metadata": {},
   "outputs": [],
   "source": [
    "files = os.listdir('.')\n",
    "df_res = None\n",
    "for file in files:\n",
    "    if file[:7] == 'table3_' and file[-8:] == '.parquet':\n",
    "        data = pd.read_parquet(file)\n",
    "        res = regression_res('ret ~ avg_flow', data, 'Flow_%s' % file.split('_')[-1].split('.')[0])\n",
    "        res = res.to_frame()\n",
    "        res.columns = pd.MultiIndex.from_tuples([(file.split('_')[1], 'Flow_%s' % file.split('_')[-1].split('.')[0])])\n",
    "\n",
    "        if df_res is None:\n",
    "            df_res = res\n",
    "        else:\n",
    "            df_res = pd.concat([df_res, res], axis=1)"
   ]
  },
  {
   "cell_type": "code",
   "execution_count": 26,
   "id": "015e22b6",
   "metadata": {
    "scrolled": false
   },
   "outputs": [
    {
     "data": {
      "text/html": [
       "<style type=\"text/css\">\n",
       "#T_d7088 caption {\n",
       "  caption-side: top;\n",
       "  font-size: 2em;\n",
       "  text-align: center;\n",
       "}\n",
       "</style>\n",
       "<table id=\"T_d7088\">\n",
       "  <caption>Table 3</caption>\n",
       "  <thead>\n",
       "    <tr>\n",
       "      <th class=\"blank level0\" >&nbsp;</th>\n",
       "      <th id=\"T_d7088_level0_col0\" class=\"col_heading level0 col0\" colspan=\"2\">bothFactors</th>\n",
       "      <th id=\"T_d7088_level0_col2\" class=\"col_heading level0 col2\" colspan=\"2\">profitabilityFactor</th>\n",
       "      <th id=\"T_d7088_level0_col4\" class=\"col_heading level0 col4\" colspan=\"2\">valueFactor</th>\n",
       "    </tr>\n",
       "    <tr>\n",
       "      <th class=\"blank level1\" >&nbsp;</th>\n",
       "      <th id=\"T_d7088_level1_col0\" class=\"col_heading level1 col0\" >Flow_past4Quarters</th>\n",
       "      <th id=\"T_d7088_level1_col1\" class=\"col_heading level1 col1\" >Flow_past8Quarters</th>\n",
       "      <th id=\"T_d7088_level1_col2\" class=\"col_heading level1 col2\" >Flow_past4Quarters</th>\n",
       "      <th id=\"T_d7088_level1_col3\" class=\"col_heading level1 col3\" >Flow_past8Quarters</th>\n",
       "      <th id=\"T_d7088_level1_col4\" class=\"col_heading level1 col4\" >Flow_past4Quarters</th>\n",
       "      <th id=\"T_d7088_level1_col5\" class=\"col_heading level1 col5\" >Flow_past8Quarters</th>\n",
       "    </tr>\n",
       "  </thead>\n",
       "  <tbody>\n",
       "    <tr>\n",
       "      <th id=\"T_d7088_level0_row0\" class=\"row_heading level0 row0\" >Intercept</th>\n",
       "      <td id=\"T_d7088_row0_col0\" class=\"data row0 col0\" >1.71e-01***(4.04e-02)</td>\n",
       "      <td id=\"T_d7088_row0_col1\" class=\"data row0 col1\" >1.74e-01***(4.09e-02)</td>\n",
       "      <td id=\"T_d7088_row0_col2\" class=\"data row0 col2\" >3.38e-02***(4.83e-03)</td>\n",
       "      <td id=\"T_d7088_row0_col3\" class=\"data row0 col3\" >3.48e-02***(4.98e-03)</td>\n",
       "      <td id=\"T_d7088_row0_col4\" class=\"data row0 col4\" >1.47e-01***(7.74e-03)</td>\n",
       "      <td id=\"T_d7088_row0_col5\" class=\"data row0 col5\" >1.49e-01***(7.78e-03)</td>\n",
       "    </tr>\n",
       "    <tr>\n",
       "      <th id=\"T_d7088_level0_row1\" class=\"row_heading level0 row1\" >avg_flow</th>\n",
       "      <td id=\"T_d7088_row1_col0\" class=\"data row1 col0\" >2.07e-02(1.77e-02)</td>\n",
       "      <td id=\"T_d7088_row1_col1\" class=\"data row1 col1\" >1.59e-02(1.65e-02)</td>\n",
       "      <td id=\"T_d7088_row1_col2\" class=\"data row1 col2\" >2.88e-02**(1.17e-02)</td>\n",
       "      <td id=\"T_d7088_row1_col3\" class=\"data row1 col3\" >2.36e-02(1.38e-02)</td>\n",
       "      <td id=\"T_d7088_row1_col4\" class=\"data row1 col4\" >-1.28e-03(4.61e-03)</td>\n",
       "      <td id=\"T_d7088_row1_col5\" class=\"data row1 col5\" >-4.50e-03(4.93e-03)</td>\n",
       "    </tr>\n",
       "    <tr>\n",
       "      <th id=\"T_d7088_level0_row2\" class=\"row_heading level0 row2\" >num of obs</th>\n",
       "      <td id=\"T_d7088_row2_col0\" class=\"data row2 col0\" >362</td>\n",
       "      <td id=\"T_d7088_row2_col1\" class=\"data row2 col1\" >362</td>\n",
       "      <td id=\"T_d7088_row2_col2\" class=\"data row2 col2\" >4783</td>\n",
       "      <td id=\"T_d7088_row2_col3\" class=\"data row2 col3\" >4783</td>\n",
       "      <td id=\"T_d7088_row2_col4\" class=\"data row2 col4\" >5965</td>\n",
       "      <td id=\"T_d7088_row2_col5\" class=\"data row2 col5\" >5965</td>\n",
       "    </tr>\n",
       "    <tr>\n",
       "      <th id=\"T_d7088_level0_row3\" class=\"row_heading level0 row3\" >adj. R sq.</th>\n",
       "      <td id=\"T_d7088_row3_col0\" class=\"data row3 col0\" >-0.001952</td>\n",
       "      <td id=\"T_d7088_row3_col1\" class=\"data row3 col1\" >-0.002250</td>\n",
       "      <td id=\"T_d7088_row3_col2\" class=\"data row3 col2\" >0.000686</td>\n",
       "      <td id=\"T_d7088_row3_col3\" class=\"data row3 col3\" >0.000258</td>\n",
       "      <td id=\"T_d7088_row3_col4\" class=\"data row3 col4\" >-0.000163</td>\n",
       "      <td id=\"T_d7088_row3_col5\" class=\"data row3 col5\" >-0.000120</td>\n",
       "    </tr>\n",
       "  </tbody>\n",
       "</table>\n"
      ],
      "text/plain": [
       "<pandas.io.formats.style.Styler at 0x19bf55f6970>"
      ]
     },
     "execution_count": 26,
     "metadata": {},
     "output_type": "execute_result"
    }
   ],
   "source": [
    "plot_df(df_res, 'Table 3')"
   ]
  },
  {
   "cell_type": "markdown",
   "id": "44326685",
   "metadata": {},
   "source": [
    "# Replicate table 4"
   ]
  },
  {
   "cell_type": "code",
   "execution_count": 36,
   "id": "aeafb950",
   "metadata": {},
   "outputs": [
    {
     "name": "stdout",
     "output_type": "stream",
     "text": [
      "Elapsed time: 3995.3164207935333 seconds\n"
     ]
    }
   ],
   "source": [
    "query = \"\"\" select\n",
    "                *\n",
    "            from\n",
    "                (select\n",
    "                    date_time, tic, turnoverRatio as `trade`,\n",
    "                    ret_day,\n",
    "                    (1 + ret_close) / (1 + ret_day) as ret_night,\n",
    "                    flow,\n",
    "                    lag(flow, 1) over (partition by tic order by date_time asc) as flow_lag1,\n",
    "                    lag(flow, 2) over (partition by tic order by date_time asc) as flow_lag2,\n",
    "                    lag(flow, 3) over (partition by tic order by date_time asc) as flow_lag3,\n",
    "                    lag(flow, 4) over (partition by tic order by date_time asc) as flow_lag4,\n",
    "                    lag(flow, 5) over (partition by tic order by date_time asc) as flow_lag5,\n",
    "                    lag(flow, 6) over (partition by tic order by date_time asc) as flow_lag6,\n",
    "                    lag(flow, 7) over (partition by tic order by date_time asc) as flow_lag7,\n",
    "                    lag(flow, 8) over (partition by tic order by date_time asc) as flow_lag8,\n",
    "                    lag(flow, 9) over (partition by tic order by date_time asc) as flow_lag9,\n",
    "                    lag(flow, 10) over (partition by tic order by date_time asc) as flow_lag10,\n",
    "                    lag(flow, 11) over (partition by tic order by date_time asc) as flow_lag11,\n",
    "                    lag(flow, 12) over (partition by tic order by date_time asc) as flow_lag12\n",
    "                from\n",
    "                    (select\n",
    "                        date_time, tic, turnoverRatio, money as flow,\n",
    "                        `close` / LAG(`close`) over (partition by `tic` order by date_time asc) as ret_close,\n",
    "                        `close` / `open` - 1 as ret_day\n",
    "                    from 7035_prj.sz_trading_data\n",
    "                    ) a\n",
    "                WHERE ret_close IS NOT null\n",
    "                ) b\n",
    "            where flow_lag1 is not null and flow_lag2 is not null and flow_lag3 is not null and flow_lag4 is not null and flow_lag5 is not null and flow_lag6 is not null and flow_lag7 is not null and flow_lag8 is not null and flow_lag9 is not null and flow_lag10 is not null and flow_lag11 is not null and flow_lag12 IS NOT null\n",
    "            \"\"\"\n",
    "df = mysql_query(query,user=user,password=password,port=3306)\n",
    "df.to_parquet('table4_panelA.parquet')"
   ]
  },
  {
   "cell_type": "code",
   "execution_count": 37,
   "id": "6e2b74f1",
   "metadata": {
    "scrolled": true
   },
   "outputs": [
    {
     "data": {
      "text/html": [
       "<div>\n",
       "<style scoped>\n",
       "    .dataframe tbody tr th:only-of-type {\n",
       "        vertical-align: middle;\n",
       "    }\n",
       "\n",
       "    .dataframe tbody tr th {\n",
       "        vertical-align: top;\n",
       "    }\n",
       "\n",
       "    .dataframe thead th {\n",
       "        text-align: right;\n",
       "    }\n",
       "</style>\n",
       "<table border=\"1\" class=\"dataframe\">\n",
       "  <thead>\n",
       "    <tr style=\"text-align: right;\">\n",
       "      <th></th>\n",
       "      <th>date_time</th>\n",
       "      <th>tic</th>\n",
       "      <th>trade</th>\n",
       "      <th>ret_day</th>\n",
       "      <th>ret_night</th>\n",
       "      <th>flow</th>\n",
       "      <th>flow_lag1</th>\n",
       "      <th>flow_lag2</th>\n",
       "      <th>flow_lag3</th>\n",
       "      <th>flow_lag4</th>\n",
       "      <th>flow_lag5</th>\n",
       "      <th>flow_lag6</th>\n",
       "      <th>flow_lag7</th>\n",
       "      <th>flow_lag8</th>\n",
       "      <th>flow_lag9</th>\n",
       "      <th>flow_lag10</th>\n",
       "      <th>flow_lag11</th>\n",
       "      <th>flow_lag12</th>\n",
       "    </tr>\n",
       "  </thead>\n",
       "  <tbody>\n",
       "    <tr>\n",
       "      <th>0</th>\n",
       "      <td>2015-01-19</td>\n",
       "      <td>000001_SZ\\r</td>\n",
       "      <td>2.17260</td>\n",
       "      <td>-0.012848</td>\n",
       "      <td>1.924531</td>\n",
       "      <td>3.016200e+09</td>\n",
       "      <td>2.403350e+09</td>\n",
       "      <td>1.868800e+09</td>\n",
       "      <td>1.889300e+09</td>\n",
       "      <td>1.204990e+09</td>\n",
       "      <td>2.293100e+09</td>\n",
       "      <td>3.835380e+09</td>\n",
       "      <td>2.128000e+09</td>\n",
       "      <td>2.634800e+09</td>\n",
       "      <td>3.453450e+09</td>\n",
       "      <td>4.565390e+09</td>\n",
       "      <td>3.760220e+09</td>\n",
       "      <td>3.637480e+09</td>\n",
       "    </tr>\n",
       "    <tr>\n",
       "      <th>1</th>\n",
       "      <td>2015-01-20</td>\n",
       "      <td>000001_SZ\\r</td>\n",
       "      <td>1.51577</td>\n",
       "      <td>0.000000</td>\n",
       "      <td>2.000000</td>\n",
       "      <td>2.064280e+09</td>\n",
       "      <td>3.016200e+09</td>\n",
       "      <td>2.403350e+09</td>\n",
       "      <td>1.868800e+09</td>\n",
       "      <td>1.889300e+09</td>\n",
       "      <td>1.204990e+09</td>\n",
       "      <td>2.293100e+09</td>\n",
       "      <td>3.835380e+09</td>\n",
       "      <td>2.128000e+09</td>\n",
       "      <td>2.634800e+09</td>\n",
       "      <td>3.453450e+09</td>\n",
       "      <td>4.565390e+09</td>\n",
       "      <td>3.760220e+09</td>\n",
       "    </tr>\n",
       "    <tr>\n",
       "      <th>2</th>\n",
       "      <td>2015-01-21</td>\n",
       "      <td>000001_SZ\\r</td>\n",
       "      <td>1.97274</td>\n",
       "      <td>0.038905</td>\n",
       "      <td>1.966167</td>\n",
       "      <td>2.758190e+09</td>\n",
       "      <td>2.064280e+09</td>\n",
       "      <td>3.016200e+09</td>\n",
       "      <td>2.403350e+09</td>\n",
       "      <td>1.868800e+09</td>\n",
       "      <td>1.889300e+09</td>\n",
       "      <td>1.204990e+09</td>\n",
       "      <td>2.293100e+09</td>\n",
       "      <td>3.835380e+09</td>\n",
       "      <td>2.128000e+09</td>\n",
       "      <td>2.634800e+09</td>\n",
       "      <td>3.453450e+09</td>\n",
       "      <td>4.565390e+09</td>\n",
       "    </tr>\n",
       "    <tr>\n",
       "      <th>3</th>\n",
       "      <td>2015-01-22</td>\n",
       "      <td>000001_SZ\\r</td>\n",
       "      <td>1.27585</td>\n",
       "      <td>-0.002789</td>\n",
       "      <td>1.997249</td>\n",
       "      <td>1.801440e+09</td>\n",
       "      <td>2.758190e+09</td>\n",
       "      <td>2.064280e+09</td>\n",
       "      <td>3.016200e+09</td>\n",
       "      <td>2.403350e+09</td>\n",
       "      <td>1.868800e+09</td>\n",
       "      <td>1.889300e+09</td>\n",
       "      <td>1.204990e+09</td>\n",
       "      <td>2.293100e+09</td>\n",
       "      <td>3.835380e+09</td>\n",
       "      <td>2.128000e+09</td>\n",
       "      <td>2.634800e+09</td>\n",
       "      <td>3.453450e+09</td>\n",
       "    </tr>\n",
       "    <tr>\n",
       "      <th>4</th>\n",
       "      <td>2015-01-23</td>\n",
       "      <td>000001_SZ\\r</td>\n",
       "      <td>1.48340</td>\n",
       "      <td>0.002786</td>\n",
       "      <td>2.001418</td>\n",
       "      <td>2.108750e+09</td>\n",
       "      <td>1.801440e+09</td>\n",
       "      <td>2.758190e+09</td>\n",
       "      <td>2.064280e+09</td>\n",
       "      <td>3.016200e+09</td>\n",
       "      <td>2.403350e+09</td>\n",
       "      <td>1.868800e+09</td>\n",
       "      <td>1.889300e+09</td>\n",
       "      <td>1.204990e+09</td>\n",
       "      <td>2.293100e+09</td>\n",
       "      <td>3.835380e+09</td>\n",
       "      <td>2.128000e+09</td>\n",
       "      <td>2.634800e+09</td>\n",
       "    </tr>\n",
       "  </tbody>\n",
       "</table>\n",
       "</div>"
      ],
      "text/plain": [
       "    date_time          tic    trade   ret_day  ret_night          flow   \n",
       "0  2015-01-19  000001_SZ\\r  2.17260 -0.012848   1.924531  3.016200e+09  \\\n",
       "1  2015-01-20  000001_SZ\\r  1.51577  0.000000   2.000000  2.064280e+09   \n",
       "2  2015-01-21  000001_SZ\\r  1.97274  0.038905   1.966167  2.758190e+09   \n",
       "3  2015-01-22  000001_SZ\\r  1.27585 -0.002789   1.997249  1.801440e+09   \n",
       "4  2015-01-23  000001_SZ\\r  1.48340  0.002786   2.001418  2.108750e+09   \n",
       "\n",
       "      flow_lag1     flow_lag2     flow_lag3     flow_lag4     flow_lag5   \n",
       "0  2.403350e+09  1.868800e+09  1.889300e+09  1.204990e+09  2.293100e+09  \\\n",
       "1  3.016200e+09  2.403350e+09  1.868800e+09  1.889300e+09  1.204990e+09   \n",
       "2  2.064280e+09  3.016200e+09  2.403350e+09  1.868800e+09  1.889300e+09   \n",
       "3  2.758190e+09  2.064280e+09  3.016200e+09  2.403350e+09  1.868800e+09   \n",
       "4  1.801440e+09  2.758190e+09  2.064280e+09  3.016200e+09  2.403350e+09   \n",
       "\n",
       "      flow_lag6     flow_lag7     flow_lag8     flow_lag9    flow_lag10   \n",
       "0  3.835380e+09  2.128000e+09  2.634800e+09  3.453450e+09  4.565390e+09  \\\n",
       "1  2.293100e+09  3.835380e+09  2.128000e+09  2.634800e+09  3.453450e+09   \n",
       "2  1.204990e+09  2.293100e+09  3.835380e+09  2.128000e+09  2.634800e+09   \n",
       "3  1.889300e+09  1.204990e+09  2.293100e+09  3.835380e+09  2.128000e+09   \n",
       "4  1.868800e+09  1.889300e+09  1.204990e+09  2.293100e+09  3.835380e+09   \n",
       "\n",
       "     flow_lag11    flow_lag12  \n",
       "0  3.760220e+09  3.637480e+09  \n",
       "1  4.565390e+09  3.760220e+09  \n",
       "2  3.453450e+09  4.565390e+09  \n",
       "3  2.634800e+09  3.453450e+09  \n",
       "4  2.128000e+09  2.634800e+09  "
      ]
     },
     "execution_count": 37,
     "metadata": {},
     "output_type": "execute_result"
    }
   ],
   "source": [
    "df.head()"
   ]
  },
  {
   "cell_type": "markdown",
   "id": "34b5acee",
   "metadata": {},
   "source": [
    "## Replicate table 4 panel A"
   ]
  },
  {
   "cell_type": "code",
   "execution_count": 38,
   "id": "f20f6f71",
   "metadata": {},
   "outputs": [],
   "source": [
    "data = pd.read_parquet('table4_panelA.parquet').dropna()\n",
    "data['diff'] = (data['ret_day'] - data['ret_night']).abs()"
   ]
  },
  {
   "cell_type": "code",
   "execution_count": 39,
   "id": "7ed8b08e",
   "metadata": {},
   "outputs": [
    {
     "data": {
      "text/html": [
       "<style type=\"text/css\">\n",
       "#T_907dd caption {\n",
       "  caption-side: top;\n",
       "  font-size: 2em;\n",
       "  text-align: center;\n",
       "}\n",
       "</style>\n",
       "<table id=\"T_907dd\">\n",
       "  <caption>Table 4 Panel A</caption>\n",
       "  <thead>\n",
       "    <tr>\n",
       "      <th class=\"blank level0\" >&nbsp;</th>\n",
       "      <th id=\"T_907dd_level0_col0\" class=\"col_heading level0 col0\" >ret_day</th>\n",
       "      <th id=\"T_907dd_level0_col1\" class=\"col_heading level0 col1\" >ret_night</th>\n",
       "      <th id=\"T_907dd_level0_col2\" class=\"col_heading level0 col2\" >difference</th>\n",
       "    </tr>\n",
       "  </thead>\n",
       "  <tbody>\n",
       "    <tr>\n",
       "      <th id=\"T_907dd_level0_row0\" class=\"row_heading level0 row0\" >Intercept</th>\n",
       "      <td id=\"T_907dd_row0_col0\" class=\"data row0 col0\" >-1.07e-03***(2.51e-05)</td>\n",
       "      <td id=\"T_907dd_row0_col1\" class=\"data row0 col1\" >2.00e+00***(3.27e-05)</td>\n",
       "      <td id=\"T_907dd_row0_col2\" class=\"data row0 col2\" >2.00e+00***(5.57e-05)</td>\n",
       "    </tr>\n",
       "    <tr>\n",
       "      <th id=\"T_907dd_level0_row1\" class=\"row_heading level0 row1\" >trade</th>\n",
       "      <td id=\"T_907dd_row1_col0\" class=\"data row1 col0\" >9.18e-04***(9.14e-06)</td>\n",
       "      <td id=\"T_907dd_row1_col1\" class=\"data row1 col1\" >-8.68e-04***(1.21e-05)</td>\n",
       "      <td id=\"T_907dd_row1_col2\" class=\"data row1 col2\" >-1.79e-03***(2.04e-05)</td>\n",
       "    </tr>\n",
       "    <tr>\n",
       "      <th id=\"T_907dd_level0_row2\" class=\"row_heading level0 row2\" >num of obs</th>\n",
       "      <td id=\"T_907dd_row2_col0\" class=\"data row2 col0\" >2256317</td>\n",
       "      <td id=\"T_907dd_row2_col1\" class=\"data row2 col1\" >2256317</td>\n",
       "      <td id=\"T_907dd_row2_col2\" class=\"data row2 col2\" >2256317</td>\n",
       "    </tr>\n",
       "    <tr>\n",
       "      <th id=\"T_907dd_level0_row3\" class=\"row_heading level0 row3\" >adj. R sq.</th>\n",
       "      <td id=\"T_907dd_row3_col0\" class=\"data row3 col0\" >0.017058</td>\n",
       "      <td id=\"T_907dd_row3_col1\" class=\"data row3 col1\" >0.010474</td>\n",
       "      <td id=\"T_907dd_row3_col2\" class=\"data row3 col2\" >0.014283</td>\n",
       "    </tr>\n",
       "  </tbody>\n",
       "</table>\n"
      ],
      "text/plain": [
       "<pandas.io.formats.style.Styler at 0x25eae7b1b20>"
      ]
     },
     "execution_count": 39,
     "metadata": {},
     "output_type": "execute_result"
    }
   ],
   "source": [
    "plot_df(pd.concat([regression_res('ret_day ~ trade', data, 'ret_day'), \n",
    "                   regression_res('ret_night ~ trade', data, 'ret_night'),\n",
    "                   regression_res('diff ~ trade', data, 'difference')],\n",
    "                  axis=1),\n",
    "        'Table 4 Panel A')"
   ]
  },
  {
   "cell_type": "markdown",
   "id": "8b2ca1f4",
   "metadata": {},
   "source": [
    "## Replicate table 4 panel B"
   ]
  },
  {
   "cell_type": "code",
   "execution_count": 7,
   "id": "4f2f3c6f",
   "metadata": {
    "scrolled": false
   },
   "outputs": [
    {
     "data": {
      "text/html": [
       "<style type=\"text/css\">\n",
       "#T_7e4a4 caption {\n",
       "  caption-side: top;\n",
       "  font-size: 2em;\n",
       "  text-align: center;\n",
       "}\n",
       "</style>\n",
       "<table id=\"T_7e4a4\">\n",
       "  <caption>Table 4 Panel B</caption>\n",
       "  <thead>\n",
       "    <tr>\n",
       "      <th class=\"blank level0\" >&nbsp;</th>\n",
       "      <th id=\"T_7e4a4_level0_col0\" class=\"col_heading level0 col0\" >Day Ret</th>\n",
       "      <th id=\"T_7e4a4_level0_col1\" class=\"col_heading level0 col1\" >Night Ret</th>\n",
       "      <th id=\"T_7e4a4_level0_col2\" class=\"col_heading level0 col2\" >Difference</th>\n",
       "    </tr>\n",
       "  </thead>\n",
       "  <tbody>\n",
       "    <tr>\n",
       "      <th id=\"T_7e4a4_level0_row0\" class=\"row_heading level0 row0\" >2015 ~ 2018</th>\n",
       "      <td id=\"T_7e4a4_row0_col0\" class=\"data row0 col0\" >9.85e-04***(1.45e-05)</td>\n",
       "      <td id=\"T_7e4a4_row0_col1\" class=\"data row0 col1\" >-1.01e-03***(2.02e-05)</td>\n",
       "      <td id=\"T_7e4a4_row0_col2\" class=\"data row0 col2\" >-1.99e-03***(3.31e-05)</td>\n",
       "    </tr>\n",
       "    <tr>\n",
       "      <th id=\"T_7e4a4_level0_row1\" class=\"row_heading level0 row1\" >2018 ~ 2023</th>\n",
       "      <td id=\"T_7e4a4_row1_col0\" class=\"data row1 col0\" >8.75e-04***(1.18e-05)</td>\n",
       "      <td id=\"T_7e4a4_row1_col1\" class=\"data row1 col1\" >-7.76e-04***(1.50e-05)</td>\n",
       "      <td id=\"T_7e4a4_row1_col2\" class=\"data row1 col2\" >-1.65e-03***(2.60e-05)</td>\n",
       "    </tr>\n",
       "  </tbody>\n",
       "</table>\n"
      ],
      "text/plain": [
       "<pandas.io.formats.style.Styler at 0x26d4cabc0d0>"
      ]
     },
     "execution_count": 7,
     "metadata": {},
     "output_type": "execute_result"
    }
   ],
   "source": [
    "data = pd.read_parquet('table4_panelA.parquet')\n",
    "df_res = pd.DataFrame(columns = ['Day Ret', 'Night Ret', 'Difference'])\n",
    "break_pts = [datetime.date(2018,1,1)]\n",
    "intervals = [data['date_time'].min()] + break_pts + [data['date_time'].max()]\n",
    "for i in range(len(intervals) - 1):\n",
    "    data_ = data[data['date_time']\n",
    "                 .between(intervals[i], \n",
    "                          intervals[i+1], \n",
    "                          inclusive = 'left')\n",
    "                ].copy()\n",
    "    data_.loc[:, 'diff'] = (data_.loc[:, 'ret_day'] - data_.loc[:, 'ret_night']).abs()\n",
    "    day_ret = regression_res('ret_day ~ trade', \n",
    "                             data_,\n",
    "                             'ret_day')\n",
    "    night_ret = regression_res('ret_night ~ trade', \n",
    "                               data_,\n",
    "                               'ret_night')\n",
    "    diff_ret = regression_res('diff ~ trade', \n",
    "                              data_,\n",
    "                              'difference')\n",
    "    df_res.loc['%s ~ %s' % (intervals[i].year, intervals[i+1].year)] = [day_ret['trade'], night_ret['trade'], diff_ret['trade']]\n",
    "plot_df(df_res, 'Table 4 Panel B')"
   ]
  },
  {
   "cell_type": "markdown",
   "id": "3b6def63",
   "metadata": {},
   "source": [
    "# Replicate Figure 1 Panel (b)"
   ]
  },
  {
   "cell_type": "code",
   "execution_count": 8,
   "id": "c174fcc7",
   "metadata": {
    "scrolled": false
   },
   "outputs": [
    {
     "data": {
      "text/html": [
       "<div>\n",
       "<style scoped>\n",
       "    .dataframe tbody tr th:only-of-type {\n",
       "        vertical-align: middle;\n",
       "    }\n",
       "\n",
       "    .dataframe tbody tr th {\n",
       "        vertical-align: top;\n",
       "    }\n",
       "\n",
       "    .dataframe thead th {\n",
       "        text-align: right;\n",
       "    }\n",
       "</style>\n",
       "<table border=\"1\" class=\"dataframe\">\n",
       "  <thead>\n",
       "    <tr style=\"text-align: right;\">\n",
       "      <th></th>\n",
       "      <th>date_time</th>\n",
       "      <th>tic</th>\n",
       "      <th>trade</th>\n",
       "      <th>ret_day</th>\n",
       "      <th>ret_night</th>\n",
       "      <th>flow</th>\n",
       "      <th>flow_lag1</th>\n",
       "      <th>flow_lag2</th>\n",
       "      <th>flow_lag3</th>\n",
       "      <th>flow_lag4</th>\n",
       "      <th>flow_lag5</th>\n",
       "      <th>flow_lag6</th>\n",
       "      <th>flow_lag7</th>\n",
       "      <th>flow_lag8</th>\n",
       "      <th>flow_lag9</th>\n",
       "      <th>flow_lag10</th>\n",
       "      <th>flow_lag11</th>\n",
       "      <th>flow_lag12</th>\n",
       "    </tr>\n",
       "  </thead>\n",
       "  <tbody>\n",
       "    <tr>\n",
       "      <th>0</th>\n",
       "      <td>2015-01-19</td>\n",
       "      <td>000001_SZ\\r</td>\n",
       "      <td>2.17260</td>\n",
       "      <td>-0.012848</td>\n",
       "      <td>1.924531</td>\n",
       "      <td>3.016200e+09</td>\n",
       "      <td>2.403350e+09</td>\n",
       "      <td>1.868800e+09</td>\n",
       "      <td>1.889300e+09</td>\n",
       "      <td>1.204990e+09</td>\n",
       "      <td>2.293100e+09</td>\n",
       "      <td>3.835380e+09</td>\n",
       "      <td>2.128000e+09</td>\n",
       "      <td>2.634800e+09</td>\n",
       "      <td>3.453450e+09</td>\n",
       "      <td>4.565390e+09</td>\n",
       "      <td>3.760220e+09</td>\n",
       "      <td>3.637480e+09</td>\n",
       "    </tr>\n",
       "    <tr>\n",
       "      <th>1</th>\n",
       "      <td>2015-01-20</td>\n",
       "      <td>000001_SZ\\r</td>\n",
       "      <td>1.51577</td>\n",
       "      <td>0.000000</td>\n",
       "      <td>2.000000</td>\n",
       "      <td>2.064280e+09</td>\n",
       "      <td>3.016200e+09</td>\n",
       "      <td>2.403350e+09</td>\n",
       "      <td>1.868800e+09</td>\n",
       "      <td>1.889300e+09</td>\n",
       "      <td>1.204990e+09</td>\n",
       "      <td>2.293100e+09</td>\n",
       "      <td>3.835380e+09</td>\n",
       "      <td>2.128000e+09</td>\n",
       "      <td>2.634800e+09</td>\n",
       "      <td>3.453450e+09</td>\n",
       "      <td>4.565390e+09</td>\n",
       "      <td>3.760220e+09</td>\n",
       "    </tr>\n",
       "    <tr>\n",
       "      <th>2</th>\n",
       "      <td>2015-01-21</td>\n",
       "      <td>000001_SZ\\r</td>\n",
       "      <td>1.97274</td>\n",
       "      <td>0.038905</td>\n",
       "      <td>1.966167</td>\n",
       "      <td>2.758190e+09</td>\n",
       "      <td>2.064280e+09</td>\n",
       "      <td>3.016200e+09</td>\n",
       "      <td>2.403350e+09</td>\n",
       "      <td>1.868800e+09</td>\n",
       "      <td>1.889300e+09</td>\n",
       "      <td>1.204990e+09</td>\n",
       "      <td>2.293100e+09</td>\n",
       "      <td>3.835380e+09</td>\n",
       "      <td>2.128000e+09</td>\n",
       "      <td>2.634800e+09</td>\n",
       "      <td>3.453450e+09</td>\n",
       "      <td>4.565390e+09</td>\n",
       "    </tr>\n",
       "    <tr>\n",
       "      <th>3</th>\n",
       "      <td>2015-01-22</td>\n",
       "      <td>000001_SZ\\r</td>\n",
       "      <td>1.27585</td>\n",
       "      <td>-0.002789</td>\n",
       "      <td>1.997249</td>\n",
       "      <td>1.801440e+09</td>\n",
       "      <td>2.758190e+09</td>\n",
       "      <td>2.064280e+09</td>\n",
       "      <td>3.016200e+09</td>\n",
       "      <td>2.403350e+09</td>\n",
       "      <td>1.868800e+09</td>\n",
       "      <td>1.889300e+09</td>\n",
       "      <td>1.204990e+09</td>\n",
       "      <td>2.293100e+09</td>\n",
       "      <td>3.835380e+09</td>\n",
       "      <td>2.128000e+09</td>\n",
       "      <td>2.634800e+09</td>\n",
       "      <td>3.453450e+09</td>\n",
       "    </tr>\n",
       "    <tr>\n",
       "      <th>4</th>\n",
       "      <td>2015-01-23</td>\n",
       "      <td>000001_SZ\\r</td>\n",
       "      <td>1.48340</td>\n",
       "      <td>0.002786</td>\n",
       "      <td>2.001418</td>\n",
       "      <td>2.108750e+09</td>\n",
       "      <td>1.801440e+09</td>\n",
       "      <td>2.758190e+09</td>\n",
       "      <td>2.064280e+09</td>\n",
       "      <td>3.016200e+09</td>\n",
       "      <td>2.403350e+09</td>\n",
       "      <td>1.868800e+09</td>\n",
       "      <td>1.889300e+09</td>\n",
       "      <td>1.204990e+09</td>\n",
       "      <td>2.293100e+09</td>\n",
       "      <td>3.835380e+09</td>\n",
       "      <td>2.128000e+09</td>\n",
       "      <td>2.634800e+09</td>\n",
       "    </tr>\n",
       "  </tbody>\n",
       "</table>\n",
       "</div>"
      ],
      "text/plain": [
       "    date_time          tic    trade   ret_day  ret_night          flow   \n",
       "0  2015-01-19  000001_SZ\\r  2.17260 -0.012848   1.924531  3.016200e+09  \\\n",
       "1  2015-01-20  000001_SZ\\r  1.51577  0.000000   2.000000  2.064280e+09   \n",
       "2  2015-01-21  000001_SZ\\r  1.97274  0.038905   1.966167  2.758190e+09   \n",
       "3  2015-01-22  000001_SZ\\r  1.27585 -0.002789   1.997249  1.801440e+09   \n",
       "4  2015-01-23  000001_SZ\\r  1.48340  0.002786   2.001418  2.108750e+09   \n",
       "\n",
       "      flow_lag1     flow_lag2     flow_lag3     flow_lag4     flow_lag5   \n",
       "0  2.403350e+09  1.868800e+09  1.889300e+09  1.204990e+09  2.293100e+09  \\\n",
       "1  3.016200e+09  2.403350e+09  1.868800e+09  1.889300e+09  1.204990e+09   \n",
       "2  2.064280e+09  3.016200e+09  2.403350e+09  1.868800e+09  1.889300e+09   \n",
       "3  2.758190e+09  2.064280e+09  3.016200e+09  2.403350e+09  1.868800e+09   \n",
       "4  1.801440e+09  2.758190e+09  2.064280e+09  3.016200e+09  2.403350e+09   \n",
       "\n",
       "      flow_lag6     flow_lag7     flow_lag8     flow_lag9    flow_lag10   \n",
       "0  3.835380e+09  2.128000e+09  2.634800e+09  3.453450e+09  4.565390e+09  \\\n",
       "1  2.293100e+09  3.835380e+09  2.128000e+09  2.634800e+09  3.453450e+09   \n",
       "2  1.204990e+09  2.293100e+09  3.835380e+09  2.128000e+09  2.634800e+09   \n",
       "3  1.889300e+09  1.204990e+09  2.293100e+09  3.835380e+09  2.128000e+09   \n",
       "4  1.868800e+09  1.889300e+09  1.204990e+09  2.293100e+09  3.835380e+09   \n",
       "\n",
       "     flow_lag11    flow_lag12  \n",
       "0  3.760220e+09  3.637480e+09  \n",
       "1  4.565390e+09  3.760220e+09  \n",
       "2  3.453450e+09  4.565390e+09  \n",
       "3  2.634800e+09  3.453450e+09  \n",
       "4  2.128000e+09  2.634800e+09  "
      ]
     },
     "execution_count": 8,
     "metadata": {},
     "output_type": "execute_result"
    }
   ],
   "source": [
    "data.head()"
   ]
  },
  {
   "cell_type": "code",
   "execution_count": 9,
   "id": "35b4e858",
   "metadata": {},
   "outputs": [
    {
     "data": {
      "text/plain": [
       "<matplotlib.axes._subplots.AxesSubplot at 0x26d4cdd1310>"
      ]
     },
     "execution_count": 9,
     "metadata": {},
     "output_type": "execute_result"
    },
    {
     "data": {
      "image/png": "[encoded data removed]",
      "text/plain": [
       "<Figure size 720x504 with 1 Axes>"
      ]
     },
     "metadata": {
      "needs_background": "light"
     },
     "output_type": "display_data"
    }
   ],
   "source": [
    "xs = ['flow'] + ['flow_lag%s' % i for i in range(1, 13)] # regressors\n",
    "res_day = regression_res('ret_day ~ %s' % ' + '.join(xs), data, 'ret_day', False)\n",
    "res_night = regression_res('ret_night ~ %s' % ' + '.join(xs), data, 'ret_night', False)\n",
    "pd.concat([res_day.drop('Intercept'), res_night.drop('Intercept')], axis=1).cumsum().plot(y=['ret_day', 'ret_night'], title = 'Demand-Induced Price Pressures in Factors', figsize = (10,7))"
   ]
  },
  {
   "cell_type": "markdown",
   "id": "7d1bfda8",
   "metadata": {},
   "source": [
    "# Replicate Figure 4"
   ]
  },
  {
   "cell_type": "code",
   "execution_count": 74,
   "id": "1004c026",
   "metadata": {},
   "outputs": [],
   "source": [
    "query = \"\"\"\n",
    "select\n",
    "    min(`date_time`) AS `date_time`, sum(`ret`) as `ret`, sum(`flow`) as `flow`\n",
    "from\n",
    "    (SELECT \n",
    "        date_time, tic, \n",
    "        totalCapital / lag_totalCapital - 1 AS `ret`,\n",
    "        money as flow\n",
    "    FROM \n",
    "        (SELECT date_time, tic, money, totalCapital, LAG(totalCapital) over (PARTITION BY tic ORDER BY date_time asc) AS lag_totalCapital,\n",
    "         %s\n",
    "         FROM 7035_prj.sz_trading_data\n",
    "        ) a\n",
    "    where lag_totalCapital is not null and %s\n",
    "    ) b\n",
    "group by year(`date_time`), month(`date_time`)\n",
    "ORDER BY `date_time`\n",
    "\"\"\""
   ]
  },
  {
   "cell_type": "code",
   "execution_count": 75,
   "id": "14f13471",
   "metadata": {},
   "outputs": [
    {
     "name": "stdout",
     "output_type": "stream",
     "text": [
      "Elapsed time: 291.4115376472473 seconds\n"
     ]
    }
   ],
   "source": [
    "deciles = \"\"\" CEILING(ROW_NUMBER() OVER (PARTITION BY year(`date_time`), month(`date_time`) ORDER BY pb asc) / COUNT(*) OVER (PARTITION BY year(`date_time`), month(`date_time`)) * 10) AS value_decile \"\"\"\n",
    "filters = \"\"\" value_decile = 10 \"\"\"\n",
    "df = mysql_query(query % (deciles, filters),\n",
    "                 user=user,\n",
    "                 password=password,\n",
    "                 port=3306)\n",
    "df.to_parquet('figure4_valueFactors.parquet')"
   ]
  },
  {
   "cell_type": "code",
   "execution_count": 76,
   "id": "8ae1e1a5",
   "metadata": {},
   "outputs": [
    {
     "name": "stdout",
     "output_type": "stream",
     "text": [
      "Elapsed time: 341.9109253883362 seconds\n"
     ]
    }
   ],
   "source": [
    "deciles = \"\"\" CEILING(ROW_NUMBER() OVER (PARTITION BY year(`date_time`), month(`date_time`) ORDER BY pe_ttm / ps asc) / COUNT(*) OVER (PARTITION BY year(`date_time`), month(`date_time`)) * 10) AS profitability_decile \"\"\"\n",
    "filters = \"\"\" profitability_decile = 10 \"\"\"\n",
    "df = mysql_query(query % (deciles, filters),\n",
    "                 user=user,\n",
    "                 password=password,\n",
    "                 port=3306)\n",
    "df.to_parquet('figure4_profitabilityFactors.parquet')"
   ]
  },
  {
   "cell_type": "code",
   "execution_count": 77,
   "id": "41519ce8",
   "metadata": {},
   "outputs": [
    {
     "data": {
      "text/plain": [
       "<matplotlib.axes._subplots.AxesSubplot at 0x25f77781040>"
      ]
     },
     "execution_count": 77,
     "metadata": {},
     "output_type": "execute_result"
    },
    {
     "data": {
      "image/png": "[encoded data removed]",
      "text/plain": [
       "<Figure size 720x504 with 2 Axes>"
      ]
     },
     "metadata": {
      "needs_background": "light"
     },
     "output_type": "display_data"
    }
   ],
   "source": [
    "data_valueFactor = pd.read_parquet('figure4_valueFactors.parquet')\n",
    "fig, ax = plt.subplots(figsize=(10,7)) \n",
    "data_valueFactor.plot(x = 'date_time', y = 'ret', kind = 'line', ax = ax, title = 'Flow-induced Demand in Value Factor')\n",
    "data_valueFactor.plot(x = 'date_time', y = 'flow', kind = 'line', ax = ax, secondary_y = True) "
   ]
  },
  {
   "cell_type": "code",
   "execution_count": 78,
   "id": "fbc6b49a",
   "metadata": {},
   "outputs": [
    {
     "data": {
      "text/plain": [
       "<matplotlib.axes._subplots.AxesSubplot at 0x25f69121d30>"
      ]
     },
     "execution_count": 78,
     "metadata": {},
     "output_type": "execute_result"
    },
    {
     "data": {
      "image/png": "[encoded data removed]",
      "text/plain": [
       "<Figure size 720x504 with 2 Axes>"
      ]
     },
     "metadata": {
      "needs_background": "light"
     },
     "output_type": "display_data"
    }
   ],
   "source": [
    "data_profitabilityFactor = pd.read_parquet('figure4_profitabilityFactors.parquet')\n",
    "fig, ax = plt.subplots(figsize=(10,7)) \n",
    "data_profitabilityFactor.plot(x = 'date_time', y = 'ret', kind = 'line', ax = ax, title = 'Flow-induced Demand in Profitability Factor')\n",
    "data_profitabilityFactor.plot(x = 'date_time', y = 'flow', kind = 'line', ax = ax, secondary_y = True) "
   ]
  },
  {
   "cell_type": "markdown",
   "id": "51cec9df",
   "metadata": {},
   "source": [
    "# Extension: Hedge value factor and profitability factor portfolios with flow factor portfolio"
   ]
  },
  {
   "cell_type": "markdown",
   "id": "0bde52e9",
   "metadata": {},
   "source": [
    "## Compute monthly return of profitability factor, value factor and flow factor portfolios."
   ]
  },
  {
   "cell_type": "code",
   "execution_count": 56,
   "id": "a109b807",
   "metadata": {},
   "outputs": [
    {
     "name": "stdout",
     "output_type": "stream",
     "text": [
      "Elapsed time: 639.3040981292725 seconds\n"
     ]
    }
   ],
   "source": [
    "table = \"\"\"\n",
    "select \n",
    "    min(date_time) AS date_time, sum(%s) AS %s\n",
    "from\n",
    "    (select\n",
    "        date_time, tic, %s,\n",
    "        CEILING(ROW_NUMBER() OVER (PARTITION BY year(`date_time`), month(`date_time`) ORDER BY lag_%s asc) / COUNT(*) OVER (PARTITION BY year(`date_time`), month(`date_time`)) * 10) AS %s\n",
    "    from\n",
    "        (select\n",
    "            date_time, tic, %s,\n",
    "            lag(%s) over (partition by tic order by date_time asc) as lag_%s\n",
    "        from \n",
    "            (select\n",
    "                MIN(`date_time`) AS `date_time`, tic,\n",
    "                sum(ret) as %s,\n",
    "                avg(%s) as %s\n",
    "            from\n",
    "                (select\n",
    "                    date_time, tic, %s,\n",
    "                    totalCapital / lag_totalCapital - 1 as ret\n",
    "                from\n",
    "                    (select\n",
    "                        date_time, tic,\n",
    "                        totalCapital, %s,\n",
    "                        LAG(totalCapital) over (PARTITION BY tic ORDER BY date_time asc) AS lag_totalCapital\n",
    "                    from 7035_prj.sz_trading_data\n",
    "                    ) a%s\n",
    "                ) b%s\n",
    "            group BY YEAR(`date_time`), MONTH(`date_time`), tic\n",
    "            ORDER BY `date_time`\n",
    "            ) c%s\n",
    "        ) d%s\n",
    "    ) e%s\n",
    "where %s = 10\n",
    "GROUP BY YEAR(date_time), MONTH(date_time)\n",
    "\"\"\"\n",
    "\n",
    "query = \"\"\"\n",
    "select\n",
    "    f1.date_time, ret_value, ret_profitability, ret_flow\n",
    "from\n",
    "    (%s) f1\n",
    "    inner join\n",
    "    (%s) f2\n",
    "    on (year(f1.date_time) = year(f2.date_time) and month(f1.date_time) = month(f2.date_time))\n",
    "    inner join\n",
    "    (%s) f3\n",
    "    on (year(f3.date_time) = year(f2.date_time) and month(f3.date_time) = month(f2.date_time))\n",
    "\"\"\"\n",
    "\n",
    "ret_name = ['ret_value', 'ret_profitability', 'ret_flow']\n",
    "num = [1,2,3]\n",
    "indicator = ['pb', 'pe_ttm, ps', 'money']\n",
    "indicator_cal = ['pb', 'pe_ttm / ps', 'money']\n",
    "indicator_avg = ['avg_pb', 'avg_profitability', 'avg_flow']\n",
    "decile = ['value_decile', 'profitability_decile', 'flow_decile']\n",
    "\n",
    "df = mysql_query(query % tuple(table % (ret_name[i], ret_name[i], ret_name[i], indicator_avg[i], decile[i], ret_name[i], indicator_avg[i], indicator_avg[i], ret_name[i], indicator_cal[i], indicator_avg[i], indicator[i], indicator[i], num[i], num[i], num[i], num[i], num[i], decile[i]) for i in range(3)),\n",
    "                 user=user,\n",
    "                 password=password,\n",
    "                 port=3306)\n",
    "df.to_parquet('extension_ret.parquet')"
   ]
  },
  {
   "cell_type": "code",
   "execution_count": 114,
   "id": "3c67ffa8",
   "metadata": {},
   "outputs": [],
   "source": [
    "df = pd.read_parquet('extension_ret.parquet')"
   ]
  },
  {
   "cell_type": "markdown",
   "id": "03ac784a",
   "metadata": {},
   "source": [
    "# Find combination between profitability & value factor and flow factor portfolios such that fluctuation of return is the least."
   ]
  },
  {
   "cell_type": "code",
   "execution_count": 115,
   "id": "ab23e8e6",
   "metadata": {},
   "outputs": [],
   "source": [
    "from scipy.optimize import minimize\n",
    "\n",
    "# objective function\n",
    "def objective(x, factor):\n",
    "    return (x[0] * df['ret_flow'] + x[1] * df[factor]).std()\n",
    "\n",
    "# constraint function\n",
    "def constr(x):\n",
    "    return (x[0] + x[1] - 1)\n",
    "\n",
    "def return_to_risk(df):\n",
    "    return df.mean() / df.std()\n",
    "\n",
    "# Number of unit(s) of flow factor portfolio to long/short if 1 unit of factor portfolio is longed.\n",
    "def optimize(factor):\n",
    "    cons = {'type':'eq', 'fun': constr}\n",
    "    result = minimize(lambda x: objective(x, factor), [-1, 1], method='SLSQP', constraints=cons)\n",
    "    print('Status : %s' % result['message'])\n",
    "    print('Total Evaluations: %d' % result['nfev'])\n",
    "    # evaluate solution\n",
    "    solution = result['x']\n",
    "    evaluation = objective(solution, factor)\n",
    "    print('Solution: f(%s) = %.5f' % (solution, evaluation))\n",
    "    return solution"
   ]
  },
  {
   "cell_type": "code",
   "execution_count": 116,
   "id": "40dbf45f",
   "metadata": {
    "scrolled": false
   },
   "outputs": [
    {
     "name": "stdout",
     "output_type": "stream",
     "text": [
      "Status : Optimization terminated successfully\n",
      "Total Evaluations: 24\n",
      "Solution: f([0.91012997 0.08987003]) = 9.25028\n",
      "Status : Optimization terminated successfully\n",
      "Total Evaluations: 23\n",
      "Solution: f([0.45295336 0.54704664]) = 8.78897\n"
     ]
    }
   ],
   "source": [
    "w_flow, w_value = optimize('ret_value')\n",
    "df.loc[:, 'ret_flow_value_combine'] = (\n",
    "    w_flow * df['ret_flow'] + w_value * df['ret_value']\n",
    ")\n",
    "\n",
    "w_flow, w_profitability = optimize('ret_profitability')\n",
    "df.loc[:, 'ret_flow_profitability_combine'] = (\n",
    "    w_flow * df['ret_flow'] + w_profitability * df['ret_profitability']\n",
    ")"
   ]
  },
  {
   "cell_type": "code",
   "execution_count": 117,
   "id": "8ce65697",
   "metadata": {},
   "outputs": [
    {
     "data": {
      "text/plain": [
       "<matplotlib.axes._subplots.AxesSubplot at 0x25f46991e50>"
      ]
     },
     "execution_count": 117,
     "metadata": {},
     "output_type": "execute_result"
    },
    {
     "data": {
      "image/png": "[encoded data removed]",
      "text/plain": [
       "<Figure size 720x504 with 1 Axes>"
      ]
     },
     "metadata": {
      "needs_background": "light"
     },
     "output_type": "display_data"
    }
   ],
   "source": [
    "df.plot(x = 'date_time', \n",
    "        y = ['ret_value', 'ret_flow_value_combine'], \n",
    "        figsize = (10,7), \n",
    "        title = 'Returns of Hedged and Unhedged Value Factor Portfolios'\n",
    "       )"
   ]
  },
  {
   "cell_type": "code",
   "execution_count": 118,
   "id": "8ff4e2f3",
   "metadata": {},
   "outputs": [
    {
     "data": {
      "text/plain": [
       "<matplotlib.axes._subplots.AxesSubplot at 0x25f3e075880>"
      ]
     },
     "execution_count": 118,
     "metadata": {},
     "output_type": "execute_result"
    },
    {
     "data": {
      "image/png": "[encoded data removed]",
      "text/plain": [
       "<Figure size 720x504 with 1 Axes>"
      ]
     },
     "metadata": {
      "needs_background": "light"
     },
     "output_type": "display_data"
    }
   ],
   "source": [
    "df.plot(x = 'date_time', \n",
    "        y = ['ret_profitability', 'ret_flow_profitability_combine'], \n",
    "        figsize = (10,7), \n",
    "        title = 'Returns of Hedged and Unhedged Profitability Factor Portfolios'\n",
    "       )"
   ]
  },
  {
   "cell_type": "markdown",
   "id": "b8a6566e",
   "metadata": {},
   "source": [
    "## Compare return-to-risk ratio before and after hedging."
   ]
  },
  {
   "cell_type": "code",
   "execution_count": 121,
   "id": "4ceaded2",
   "metadata": {
    "scrolled": true
   },
   "outputs": [
    {
     "data": {
      "text/html": [
       "<div>\n",
       "<style scoped>\n",
       "    .dataframe tbody tr th:only-of-type {\n",
       "        vertical-align: middle;\n",
       "    }\n",
       "\n",
       "    .dataframe tbody tr th {\n",
       "        vertical-align: top;\n",
       "    }\n",
       "\n",
       "    .dataframe thead th {\n",
       "        text-align: right;\n",
       "    }\n",
       "</style>\n",
       "<table border=\"1\" class=\"dataframe\">\n",
       "  <thead>\n",
       "    <tr style=\"text-align: right;\">\n",
       "      <th></th>\n",
       "      <th>Before hedging</th>\n",
       "      <th>After hedging</th>\n",
       "    </tr>\n",
       "    <tr>\n",
       "      <th>factors</th>\n",
       "      <th></th>\n",
       "      <th></th>\n",
       "    </tr>\n",
       "  </thead>\n",
       "  <tbody>\n",
       "    <tr>\n",
       "      <th>value</th>\n",
       "      <td>0.190444</td>\n",
       "      <td>0.040643</td>\n",
       "    </tr>\n",
       "    <tr>\n",
       "      <th>profitability</th>\n",
       "      <td>0.199494</td>\n",
       "      <td>0.124103</td>\n",
       "    </tr>\n",
       "  </tbody>\n",
       "</table>\n",
       "</div>"
      ],
      "text/plain": [
       "               Before hedging  After hedging\n",
       "factors                                     \n",
       "value                0.190444       0.040643\n",
       "profitability        0.199494       0.124103"
      ]
     },
     "execution_count": 121,
     "metadata": {},
     "output_type": "execute_result"
    }
   ],
   "source": [
    "pd.DataFrame(\n",
    "    [\n",
    "        [return_to_risk(df.loc[:, 'ret_value']), return_to_risk(df.loc[:, 'ret_flow_value_combine'])],\n",
    "        [return_to_risk(df.loc[:, 'ret_profitability']), return_to_risk(df.loc[:, 'ret_flow_profitability_combine'])]\n",
    "    ],\n",
    "    columns = ['Before hedging', 'After hedging'],\n",
    "    index = ['value', 'profitability']\n",
    ").rename_axis(\n",
    "    index = 'factors'\n",
    ")"
   ]
  },
  {
   "cell_type": "code",
   "execution_count": null,
   "id": "643f1526",
   "metadata": {},
   "outputs": [],
   "source": []
  }
 ],
 "metadata": {
  "kernelspec": {
   "display_name": "Python 3",
   "language": "python",
   "name": "python3"
  },
  "language_info": {
   "codemirror_mode": {
    "name": "ipython",
    "version": 3
   },
   "file_extension": ".py",
   "mimetype": "text/x-python",
   "name": "python",
   "nbconvert_exporter": "python",
   "pygments_lexer": "ipython3",
   "version": "3.8.6"
  }
 },
 "nbformat": 4,
 "nbformat_minor": 5
}
