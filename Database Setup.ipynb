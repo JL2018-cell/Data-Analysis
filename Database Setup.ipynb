{
 "cells": [
  {
   "cell_type": "code",
   "execution_count": 2,
   "id": "cd440fd1",
   "metadata": {},
   "outputs": [],
   "source": [
    "import os, pandas as pd\n",
    "from sqlalchemy import create_engine, Column, MetaData, text, engine\n",
    "import getpass,time\n",
    "import pysftp,sys"
   ]
  },
  {
   "cell_type": "markdown",
   "id": "f68fec0a",
   "metadata": {},
   "source": [
    "# Q.1"
   ]
  },
  {
   "cell_type": "markdown",
   "id": "d5132472",
   "metadata": {},
   "source": [
    "## Download instown.files from course server"
   ]
  },
  {
   "cell_type": "code",
   "execution_count": 48,
   "id": "377fb9c0",
   "metadata": {},
   "outputs": [],
   "source": [
    "# set up sftp connection\n",
    "sftp_ip='147.8.117.176'\n",
    "sftp_port=22222\n",
    "sftp_username='foo'\n",
    "password='alanisthecoolest123'\n",
    "\n",
    "cnopts = pysftp.CnOpts()\n",
    "cnopts.hostkeys = None\n",
    "sftp = pysftp.Connection(host=sftp_ip, username=sftp_username, password=password, port=sftp_port, cnopts=cnopts)"
   ]
  },
  {
   "cell_type": "code",
   "execution_count": 51,
   "id": "74e5ca06",
   "metadata": {},
   "outputs": [],
   "source": [
    "# download files\n",
    "localpath = '../data/'\n",
    "remotepath = 'upload/data/'\n",
    "files = ['instown.file%s.parquet' % i for i in range(1,4)]\n",
    "for file in files:\n",
    "    sftp.get(remotepath + file, localpath + file)"
   ]
  },
  {
   "cell_type": "markdown",
   "id": "ba62f904",
   "metadata": {},
   "source": [
    "## Running queries on course server"
   ]
  },
  {
   "cell_type": "code",
   "execution_count": 5,
   "id": "9894b58b",
   "metadata": {
    "scrolled": true
   },
   "outputs": [
    {
     "name": "stdout",
     "output_type": "stream",
     "text": [
      "········\n",
      "········\n"
     ]
    }
   ],
   "source": [
    "user = getpass.getpass()\n",
    "password = getpass.getpass()"
   ]
  },
  {
   "cell_type": "code",
   "execution_count": 6,
   "id": "34a06cb6",
   "metadata": {},
   "outputs": [],
   "source": [
    "def mysql_query(query,user=user, password=password, host='jarvis.workisboring.com', port=9030):\n",
    "    # check if port is in 9030, 19030, or 3306, 9005\n",
    "    # start time\n",
    "    start_time = time.time()\n",
    "    \n",
    "    if port in [9030, 19030, 3306,9004]:\n",
    "        engine = create_engine('mysql+pymysql://'+user+':'+password+'@'+host+':'+str(port))\n",
    "        #df = pd.read_sql(query, engine)\n",
    "        df = pd.read_sql_query(sql=text(query), con=engine.connect())\n",
    "        # end time\n",
    "        end_time = time.time()\n",
    "        # seconds\n",
    "        elapsed_time = end_time - start_time\n",
    "        print(f'Elapsed time: {elapsed_time} seconds')\n",
    "        return df    \n",
    "    else:\n",
    "        print('port is not in 9030, 19030, or 3306, please check')\n",
    "        return None"
   ]
  },
  {
   "cell_type": "code",
   "execution_count": 62,
   "id": "52681ac2",
   "metadata": {
    "scrolled": true
   },
   "outputs": [
    {
     "name": "stdout",
     "output_type": "stream",
     "text": [
      "Elapsed time: 1.0593407154083252 seconds\n"
     ]
    },
    {
     "data": {
      "text/html": [
       "<div>\n",
       "<style scoped>\n",
       "    .dataframe tbody tr th:only-of-type {\n",
       "        vertical-align: middle;\n",
       "    }\n",
       "\n",
       "    .dataframe tbody tr th {\n",
       "        vertical-align: top;\n",
       "    }\n",
       "\n",
       "    .dataframe thead th {\n",
       "        text-align: right;\n",
       "    }\n",
       "</style>\n",
       "<table border=\"1\" class=\"dataframe\">\n",
       "  <thead>\n",
       "    <tr style=\"text-align: right;\">\n",
       "      <th></th>\n",
       "      <th>mgrname</th>\n",
       "      <th>mktcap</th>\n",
       "    </tr>\n",
       "  </thead>\n",
       "  <tbody>\n",
       "    <tr>\n",
       "      <th>0</th>\n",
       "      <td>VANGUARD GROUP, INC.</td>\n",
       "      <td>5.885398e+10</td>\n",
       "    </tr>\n",
       "    <tr>\n",
       "      <th>1</th>\n",
       "      <td>BLACKROCK INC</td>\n",
       "      <td>5.359712e+10</td>\n",
       "    </tr>\n",
       "    <tr>\n",
       "      <th>2</th>\n",
       "      <td>BERKSHIRE HATHAWAY INC.</td>\n",
       "      <td>4.022580e+10</td>\n",
       "    </tr>\n",
       "    <tr>\n",
       "      <th>3</th>\n",
       "      <td>STATE STR CORPORATION</td>\n",
       "      <td>3.311086e+10</td>\n",
       "    </tr>\n",
       "    <tr>\n",
       "      <th>4</th>\n",
       "      <td>FIDELITY MGMT &amp; RESEARCH CO</td>\n",
       "      <td>1.638478e+10</td>\n",
       "    </tr>\n",
       "  </tbody>\n",
       "</table>\n",
       "</div>"
      ],
      "text/plain": [
       "                       mgrname        mktcap\n",
       "0         VANGUARD GROUP, INC.  5.885398e+10\n",
       "1                BLACKROCK INC  5.359712e+10\n",
       "2      BERKSHIRE HATHAWAY INC.  4.022580e+10\n",
       "3        STATE STR CORPORATION  3.311086e+10\n",
       "4  FIDELITY MGMT & RESEARCH CO  1.638478e+10"
      ]
     },
     "execution_count": 62,
     "metadata": {},
     "output_type": "execute_result"
    }
   ],
   "source": [
    "query = \"\"\"SELECT mgrname, ABS(shares * prc) AS mktcap\n",
    "           FROM instown.file1\n",
    "           INNER JOIN instown.file3 AS file3 ON file3.mgrno = file1.mgrno AND\n",
    "           file1.fdate = file3.fdate\n",
    "           INNER JOIN instown.file2 AS file2 ON file2.fdate = file3.fdate AND\n",
    "           file2.cusip = file3.cusip\n",
    "           WHERE ticker = 'AAPL' AND file3.fdate = '2018-03-31'\n",
    "           ORDER BY shares DESC\n",
    "           LIMIT 5;\"\"\"\n",
    "mysql_query(query,user=user,password=password,port=19030)"
   ]
  },
  {
   "cell_type": "markdown",
   "id": "efbd30f0",
   "metadata": {},
   "source": [
    "## Running queries on local database: Apache Drill"
   ]
  },
  {
   "cell_type": "code",
   "execution_count": 44,
   "id": "5e3c15a0",
   "metadata": {},
   "outputs": [],
   "source": [
    "from pydrill.client import PyDrill\n",
    "drill = PyDrill(host='localhost', port=8047)\n",
    "\n",
    "if not drill.is_active():\n",
    "    raise ImproperlyConfigured('Please run Drill first')"
   ]
  },
  {
   "cell_type": "code",
   "execution_count": 47,
   "id": "1c0e30ee",
   "metadata": {},
   "outputs": [
    {
     "name": "stdout",
     "output_type": "stream",
     "text": [
      "Elapsed time: 34.9938178062439 seconds\n"
     ]
    },
    {
     "data": {
      "text/html": [
       "<div>\n",
       "<style scoped>\n",
       "    .dataframe tbody tr th:only-of-type {\n",
       "        vertical-align: middle;\n",
       "    }\n",
       "\n",
       "    .dataframe tbody tr th {\n",
       "        vertical-align: top;\n",
       "    }\n",
       "\n",
       "    .dataframe thead th {\n",
       "        text-align: right;\n",
       "    }\n",
       "</style>\n",
       "<table border=\"1\" class=\"dataframe\">\n",
       "  <thead>\n",
       "    <tr style=\"text-align: right;\">\n",
       "      <th></th>\n",
       "      <th>mgrname</th>\n",
       "      <th>mktcap</th>\n",
       "    </tr>\n",
       "  </thead>\n",
       "  <tbody>\n",
       "    <tr>\n",
       "      <th>0</th>\n",
       "      <td>VANGUARD GROUP, INC.</td>\n",
       "      <td>5.885398e+10</td>\n",
       "    </tr>\n",
       "    <tr>\n",
       "      <th>1</th>\n",
       "      <td>BLACKROCK INC</td>\n",
       "      <td>5.359712e+10</td>\n",
       "    </tr>\n",
       "    <tr>\n",
       "      <th>2</th>\n",
       "      <td>BERKSHIRE HATHAWAY INC.</td>\n",
       "      <td>4.022580e+10</td>\n",
       "    </tr>\n",
       "    <tr>\n",
       "      <th>3</th>\n",
       "      <td>STATE STR CORPORATION</td>\n",
       "      <td>3.311086e+10</td>\n",
       "    </tr>\n",
       "    <tr>\n",
       "      <th>4</th>\n",
       "      <td>FIDELITY MGMT &amp; RESEARCH CO</td>\n",
       "      <td>1.638478e+10</td>\n",
       "    </tr>\n",
       "  </tbody>\n",
       "</table>\n",
       "</div>"
      ],
      "text/plain": [
       "                       mgrname        mktcap\n",
       "0         VANGUARD GROUP, INC.  5.885398e+10\n",
       "1                BLACKROCK INC  5.359712e+10\n",
       "2      BERKSHIRE HATHAWAY INC.  4.022580e+10\n",
       "3        STATE STR CORPORATION  3.311086e+10\n",
       "4  FIDELITY MGMT & RESEARCH CO  1.638478e+10"
      ]
     },
     "execution_count": 47,
     "metadata": {},
     "output_type": "execute_result"
    }
   ],
   "source": [
    "query = \"\"\"SELECT file1.mgrname, ABS(file3.shares * file2.prc) AS mktcap\n",
    "           FROM myDfs.MFIN7035.`instown.file1.parquet` as file1\n",
    "           INNER JOIN myDfs.MFIN7035.`instown.file3.parquet` AS file3 ON file3.mgrno = file1.mgrno AND\n",
    "           file1.fdate = file3.fdate\n",
    "           INNER JOIN myDfs.MFIN7035.`instown.file2.parquet` AS file2 ON file2.fdate = file3.fdate AND\n",
    "           file2.cusip = file3.cusip\n",
    "           WHERE file2.ticker = 'AAPL' AND file3.fdate = '2018-03-31'\n",
    "           ORDER BY file3.shares DESC\n",
    "           LIMIT 5\"\"\"\n",
    "sta = time.time()\n",
    "data = drill.query(query, timeout = 90)\n",
    "end = time.time()\n",
    "print(\"Elapsed time: %s seconds\" % (end - sta))\n",
    "data.to_dataframe()"
   ]
  },
  {
   "cell_type": "markdown",
   "id": "0bc9cb43",
   "metadata": {},
   "source": [
    "# Q.2"
   ]
  },
  {
   "cell_type": "markdown",
   "id": "4739be4e",
   "metadata": {},
   "source": [
    "## Run the following codes on Heidi SQL interface."
   ]
  },
  {
   "cell_type": "markdown",
   "id": "a2fb3871",
   "metadata": {},
   "source": [
    "/* OALP */\n",
    "/* Neglect instown.file4 and further reduce date range to prevent RAM running out */\n",
    "\n",
    "CREATE TABLE student_lin_jianan_595.join_instowns as\n",
    "select\n",
    "    *\n",
    "from\n",
    "    (SELECT * from instown.file2 as file2\n",
    "    WHERE fdate > DATE('2021-10-01')) a\n",
    "    inner join \n",
    "    (SELECT * from instown.file3 as file3\n",
    "    inner join instown.file1 as file1\n",
    "    USING (fdate,mgrno)\n",
    "    WHERE fdate > DATE('2021-10-01')) b\n",
    "    USING (fdate, cusip)"
   ]
  },
  {
   "cell_type": "markdown",
   "id": "dd4f05ec",
   "metadata": {},
   "source": [
    "/* OLTP */\n",
    "\n",
    "CREATE TABLE student_lin_jianan_595.instown_file1 as\n",
    "select\n",
    "    *\n",
    "FROM\n",
    "    instown.file1\n",
    "WHERE fdate > DATE('2021-10-01');\n",
    "\n",
    "CREATE TABLE student_lin_jianan_595.instown_file2 as\n",
    "select\n",
    "    *\n",
    "FROM\n",
    "    instown.file2\n",
    "WHERE fdate > DATE('2021-10-01');\n",
    "\n",
    "CREATE TABLE student_lin_jianan_595.instown_file3 as\n",
    "select\n",
    "    *\n",
    "FROM\n",
    "    instown.file3\n",
    "WHERE fdate > DATE('2021-10-01');"
   ]
  },
  {
   "cell_type": "markdown",
   "id": "9783e0d2",
   "metadata": {},
   "source": [
    "# Q.3"
   ]
  },
  {
   "cell_type": "markdown",
   "id": "fec02590",
   "metadata": {},
   "source": [
    "## Data quality questions"
   ]
  },
  {
   "cell_type": "markdown",
   "id": "f64517df",
   "metadata": {},
   "source": [
    "### Too many missing values"
   ]
  },
  {
   "cell_type": "code",
   "execution_count": 9,
   "id": "0d9791d6",
   "metadata": {},
   "outputs": [
    {
     "name": "stdout",
     "output_type": "stream",
     "text": [
      "Elapsed time: 0.2491302490234375 seconds\n"
     ]
    },
    {
     "data": {
      "text/html": [
       "<div>\n",
       "<style scoped>\n",
       "    .dataframe tbody tr th:only-of-type {\n",
       "        vertical-align: middle;\n",
       "    }\n",
       "\n",
       "    .dataframe tbody tr th {\n",
       "        vertical-align: top;\n",
       "    }\n",
       "\n",
       "    .dataframe thead th {\n",
       "        text-align: right;\n",
       "    }\n",
       "</style>\n",
       "<table border=\"1\" class=\"dataframe\">\n",
       "  <thead>\n",
       "    <tr style=\"text-align: right;\">\n",
       "      <th></th>\n",
       "      <th>missing_values</th>\n",
       "    </tr>\n",
       "  </thead>\n",
       "  <tbody>\n",
       "    <tr>\n",
       "      <th>0</th>\n",
       "      <td>104480</td>\n",
       "    </tr>\n",
       "  </tbody>\n",
       "</table>\n",
       "</div>"
      ],
      "text/plain": [
       "   missing_values\n",
       "0          104480"
      ]
     },
     "execution_count": 9,
     "metadata": {},
     "output_type": "execute_result"
    }
   ],
   "source": [
    "query = \"\"\" SELECT COUNT(*) as missing_values FROM crsp.dsenames WHERE shrcls IS NULL; \"\"\"\n",
    "mysql_query(query,user=user,password=password,port=3306)"
   ]
  },
  {
   "cell_type": "code",
   "execution_count": 10,
   "id": "70313ceb",
   "metadata": {},
   "outputs": [
    {
     "name": "stdout",
     "output_type": "stream",
     "text": [
      "Elapsed time: 0.16151213645935059 seconds\n"
     ]
    },
    {
     "data": {
      "text/html": [
       "<div>\n",
       "<style scoped>\n",
       "    .dataframe tbody tr th:only-of-type {\n",
       "        vertical-align: middle;\n",
       "    }\n",
       "\n",
       "    .dataframe tbody tr th {\n",
       "        vertical-align: top;\n",
       "    }\n",
       "\n",
       "    .dataframe thead th {\n",
       "        text-align: right;\n",
       "    }\n",
       "</style>\n",
       "<table border=\"1\" class=\"dataframe\">\n",
       "  <thead>\n",
       "    <tr style=\"text-align: right;\">\n",
       "      <th></th>\n",
       "      <th>total_rows</th>\n",
       "    </tr>\n",
       "  </thead>\n",
       "  <tbody>\n",
       "    <tr>\n",
       "      <th>0</th>\n",
       "      <td>111652</td>\n",
       "    </tr>\n",
       "  </tbody>\n",
       "</table>\n",
       "</div>"
      ],
      "text/plain": [
       "   total_rows\n",
       "0      111652"
      ]
     },
     "execution_count": 10,
     "metadata": {},
     "output_type": "execute_result"
    }
   ],
   "source": [
    "query = \"\"\" SELECT COUNT(*) as total_rows FROM crsp.dsenames; \"\"\"\n",
    "mysql_query(query,user=user,password=password,port=3306)"
   ]
  },
  {
   "cell_type": "markdown",
   "id": "19ba4ea4",
   "metadata": {},
   "source": [
    "### Duplicated rows"
   ]
  },
  {
   "cell_type": "code",
   "execution_count": 16,
   "id": "8e5058fd",
   "metadata": {},
   "outputs": [
    {
     "name": "stdout",
     "output_type": "stream",
     "text": [
      "Elapsed time: 1.3332998752593994 seconds\n"
     ]
    },
    {
     "data": {
      "text/html": [
       "<div>\n",
       "<style scoped>\n",
       "    .dataframe tbody tr th:only-of-type {\n",
       "        vertical-align: middle;\n",
       "    }\n",
       "\n",
       "    .dataframe tbody tr th {\n",
       "        vertical-align: top;\n",
       "    }\n",
       "\n",
       "    .dataframe thead th {\n",
       "        text-align: right;\n",
       "    }\n",
       "</style>\n",
       "<table border=\"1\" class=\"dataframe\">\n",
       "  <thead>\n",
       "    <tr style=\"text-align: right;\">\n",
       "      <th></th>\n",
       "      <th>mgrname</th>\n",
       "      <th>dates</th>\n",
       "      <th>distinct_dates</th>\n",
       "    </tr>\n",
       "  </thead>\n",
       "  <tbody>\n",
       "    <tr>\n",
       "      <th>0</th>\n",
       "      <td>1832 ASSET MANAGEMENT L.P.</td>\n",
       "      <td>36</td>\n",
       "      <td>34</td>\n",
       "    </tr>\n",
       "    <tr>\n",
       "      <th>1</th>\n",
       "      <td>ADVISORY ALPHA, LLC</td>\n",
       "      <td>48</td>\n",
       "      <td>32</td>\n",
       "    </tr>\n",
       "    <tr>\n",
       "      <th>2</th>\n",
       "      <td>ALLIANZ GBL INVESTORS EURO GMB</td>\n",
       "      <td>9</td>\n",
       "      <td>6</td>\n",
       "    </tr>\n",
       "    <tr>\n",
       "      <th>3</th>\n",
       "      <td>ALTUS CAPITAL INC.</td>\n",
       "      <td>20</td>\n",
       "      <td>19</td>\n",
       "    </tr>\n",
       "    <tr>\n",
       "      <th>4</th>\n",
       "      <td>AMERICAN EXPRESS ASSET MANAGEM</td>\n",
       "      <td>4</td>\n",
       "      <td>2</td>\n",
       "    </tr>\n",
       "  </tbody>\n",
       "</table>\n",
       "</div>"
      ],
      "text/plain": [
       "                          mgrname  dates  distinct_dates\n",
       "0      1832 ASSET MANAGEMENT L.P.     36              34\n",
       "1             ADVISORY ALPHA, LLC     48              32\n",
       "2  ALLIANZ GBL INVESTORS EURO GMB      9               6\n",
       "3              ALTUS CAPITAL INC.     20              19\n",
       "4  AMERICAN EXPRESS ASSET MANAGEM      4               2"
      ]
     },
     "execution_count": 16,
     "metadata": {},
     "output_type": "execute_result"
    }
   ],
   "source": [
    "query = \"\"\" SELECT\n",
    "                *\n",
    "            FROM\n",
    "                (SELECT \n",
    "                    mgrname, COUNT(fdate) AS `dates`, COUNT(DISTINCT fdate) AS distinct_dates \n",
    "                FROM instown.file1 \n",
    "                GROUP BY mgrname) a\n",
    "            WHERE a.`dates` != a.distinct_dates\n",
    "            limit 5; \"\"\"\n",
    "mysql_query(query,user=user,password=password,port=3306)"
   ]
  },
  {
   "cell_type": "markdown",
   "id": "f777b0b7",
   "metadata": {},
   "source": [
    "### Unreasonable values"
   ]
  },
  {
   "cell_type": "code",
   "execution_count": 5,
   "id": "cb27caab",
   "metadata": {},
   "outputs": [
    {
     "name": "stdout",
     "output_type": "stream",
     "text": [
      "Elapsed time: 0.2038736343383789 seconds\n"
     ]
    },
    {
     "data": {
      "text/html": [
       "<div>\n",
       "<style scoped>\n",
       "    .dataframe tbody tr th:only-of-type {\n",
       "        vertical-align: middle;\n",
       "    }\n",
       "\n",
       "    .dataframe tbody tr th {\n",
       "        vertical-align: top;\n",
       "    }\n",
       "\n",
       "    .dataframe thead th {\n",
       "        text-align: right;\n",
       "    }\n",
       "</style>\n",
       "<table border=\"1\" class=\"dataframe\">\n",
       "  <thead>\n",
       "    <tr style=\"text-align: right;\">\n",
       "      <th></th>\n",
       "      <th>permno</th>\n",
       "      <th>year</th>\n",
       "      <th>volatility</th>\n",
       "      <th>mcap</th>\n",
       "      <th>beta_mktrf</th>\n",
       "    </tr>\n",
       "  </thead>\n",
       "  <tbody>\n",
       "    <tr>\n",
       "      <th>0</th>\n",
       "      <td>75133</td>\n",
       "      <td>1989</td>\n",
       "      <td>0.039129</td>\n",
       "      <td>0.0</td>\n",
       "      <td>2.821369</td>\n",
       "    </tr>\n",
       "    <tr>\n",
       "      <th>1</th>\n",
       "      <td>43289</td>\n",
       "      <td>1970</td>\n",
       "      <td>0.028458</td>\n",
       "      <td>0.0</td>\n",
       "      <td>1.089043</td>\n",
       "    </tr>\n",
       "    <tr>\n",
       "      <th>2</th>\n",
       "      <td>75123</td>\n",
       "      <td>1990</td>\n",
       "      <td>0.045374</td>\n",
       "      <td>0.0</td>\n",
       "      <td>2.767916</td>\n",
       "    </tr>\n",
       "    <tr>\n",
       "      <th>3</th>\n",
       "      <td>75027</td>\n",
       "      <td>1992</td>\n",
       "      <td>0.012075</td>\n",
       "      <td>0.0</td>\n",
       "      <td>0.353997</td>\n",
       "    </tr>\n",
       "    <tr>\n",
       "      <th>4</th>\n",
       "      <td>75120</td>\n",
       "      <td>1992</td>\n",
       "      <td>0.244805</td>\n",
       "      <td>0.0</td>\n",
       "      <td>2.707153</td>\n",
       "    </tr>\n",
       "    <tr>\n",
       "      <th>5</th>\n",
       "      <td>68259</td>\n",
       "      <td>1988</td>\n",
       "      <td>0.039551</td>\n",
       "      <td>0.0</td>\n",
       "      <td>2.898426</td>\n",
       "    </tr>\n",
       "    <tr>\n",
       "      <th>6</th>\n",
       "      <td>75127</td>\n",
       "      <td>1989</td>\n",
       "      <td>0.041702</td>\n",
       "      <td>0.0</td>\n",
       "      <td>2.597417</td>\n",
       "    </tr>\n",
       "    <tr>\n",
       "      <th>7</th>\n",
       "      <td>75125</td>\n",
       "      <td>1992</td>\n",
       "      <td>0.022066</td>\n",
       "      <td>0.0</td>\n",
       "      <td>1.165932</td>\n",
       "    </tr>\n",
       "    <tr>\n",
       "      <th>8</th>\n",
       "      <td>68240</td>\n",
       "      <td>1988</td>\n",
       "      <td>0.004853</td>\n",
       "      <td>0.0</td>\n",
       "      <td>0.148206</td>\n",
       "    </tr>\n",
       "    <tr>\n",
       "      <th>9</th>\n",
       "      <td>75016</td>\n",
       "      <td>1992</td>\n",
       "      <td>0.184911</td>\n",
       "      <td>0.0</td>\n",
       "      <td>2.243973</td>\n",
       "    </tr>\n",
       "  </tbody>\n",
       "</table>\n",
       "</div>"
      ],
      "text/plain": [
       "   permno  year  volatility  mcap  beta_mktrf\n",
       "0   75133  1989    0.039129   0.0    2.821369\n",
       "1   43289  1970    0.028458   0.0    1.089043\n",
       "2   75123  1990    0.045374   0.0    2.767916\n",
       "3   75027  1992    0.012075   0.0    0.353997\n",
       "4   75120  1992    0.244805   0.0    2.707153\n",
       "5   68259  1988    0.039551   0.0    2.898426\n",
       "6   75127  1989    0.041702   0.0    2.597417\n",
       "7   75125  1992    0.022066   0.0    1.165932\n",
       "8   68240  1988    0.004853   0.0    0.148206\n",
       "9   75016  1992    0.184911   0.0    2.243973"
      ]
     },
     "execution_count": 5,
     "metadata": {},
     "output_type": "execute_result"
    }
   ],
   "source": [
    "query = \"\"\" SELECT * FROM hw.hw1_stock_characteristics WHERE mcap=0 LIMIT 10; \"\"\"\n",
    "mysql_query(query,user=user,password=password,port=3306)"
   ]
  },
  {
   "cell_type": "code",
   "execution_count": null,
   "id": "4fec015a",
   "metadata": {},
   "outputs": [],
   "source": []
  }
 ],
 "metadata": {
  "kernelspec": {
   "display_name": "Python 3",
   "language": "python",
   "name": "python3"
  },
  "language_info": {
   "codemirror_mode": {
    "name": "ipython",
    "version": 3
   },
   "file_extension": ".py",
   "mimetype": "text/x-python",
   "name": "python",
   "nbconvert_exporter": "python",
   "pygments_lexer": "ipython3",
   "version": "3.8.6"
  }
 },
 "nbformat": 4,
 "nbformat_minor": 5
}
